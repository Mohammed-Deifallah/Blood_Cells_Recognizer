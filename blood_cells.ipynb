{
 "cells": [
  {
   "cell_type": "markdown",
   "metadata": {
    "colab_type": "text",
    "id": "c9uyGxB-aYus"
   },
   "source": [
    "# Identifying the type of blood cells from images\n",
    "![cover](https://drive.google.com/uc?export=view&id=1vCdFIYUiC_dY0vI7IvUtopXy6t-g9VFX)\n",
    "The diagnosis of blood-based diseases often involves identifying and characterizing patient blood samples.  \n",
    "So, providing automated methods to detect and classify blood cell subtypes would be a huge benefit and would have important medical applications."
   ]
  },
  {
   "cell_type": "markdown",
   "metadata": {
    "colab_type": "text",
    "id": "W04jFhgCaYus"
   },
   "source": [
    "# Data Exploration\n",
    "\n",
    "This dataset contains 12,500 augmented images of blood cells (JPEG) with accompanying cell type labels (CSV). \n",
    "\n",
    "There are approximately 3,000 images for each of 4 different cell types grouped into 4 different folders (according to cell type).\n",
    "\n",
    "This dataset is accompanied by an additional dataset containing the original 410 images (pre-augmentation) as well as two additional subtype labels (white blood cells WBC vs red blood cells RBC) and also bounding boxes for each cell in each of these 410 images (JPEG + XML metadata)."
   ]
  },
  {
   "cell_type": "markdown",
   "metadata": {
    "colab_type": "text",
    "id": "B9QHo5RMaYut"
   },
   "source": [
    "Types of blood cells are :\n",
    "1. Mononuclear\n",
    "  - Lymphocyte\n",
    "  - Monocyte\n",
    "  - Basophil\n",
    "2. Polynuclear\n",
    "  - Eosinophil\n",
    "  - Neutrophil  \n",
    "\n",
    "\n",
    "For more information about blood cells and blood cell subtypes, see the following links:\n",
    "- https://www.ncbi.nlm.nih.gov/books/NBK2263/\n",
    "\n",
    "- https://www.ncbi.nlm.nih.gov/books/NBK2263/box/A26/?report=objectonly\n"
   ]
  },
  {
   "cell_type": "markdown",
   "metadata": {
    "colab_type": "text",
    "id": "H5TgXR0DaYuw"
   },
   "source": [
    "# Upload Local Data to Colab"
   ]
  },
  {
   "cell_type": "code",
   "execution_count": 33,
   "metadata": {
    "colab": {
     "base_uri": "https://localhost:8080/",
     "height": 93,
     "resources": {
      "http://localhost:8080/nbextensions/google.colab/files.js": {
       "data": "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",
       "headers": [
        [
         "content-type",
         "application/javascript"
        ]
       ],
       "ok": true,
       "status": 200,
       "status_text": ""
      }
     }
    },
    "colab_type": "code",
    "collapsed": true,
    "executionInfo": {
     "elapsed": 11159,
     "status": "ok",
     "timestamp": 1535509816868,
     "user": {
      "displayName": "Youssef A.Mubarak",
      "photoUrl": "//lh3.googleusercontent.com/-OKDdxgYFboQ/AAAAAAAAAAI/AAAAAAAAAHc/_hX00tHoGvU/s50-c-k-no/photo.jpg",
      "userId": "111423931482360476978"
     },
     "user_tz": -120
    },
    "id": "M2qq5TCrekPn",
    "outputId": "a403a566-03ac-4a33-c655-0ddcc38fddd1"
   },
   "outputs": [
    {
     "ename": "ModuleNotFoundError",
     "evalue": "No module named 'google.colab'",
     "output_type": "error",
     "traceback": [
      "\u001b[1;31m---------------------------------------------------------------------------\u001b[0m",
      "\u001b[1;31mModuleNotFoundError\u001b[0m                       Traceback (most recent call last)",
      "\u001b[1;32m<ipython-input-33-292f82be1b7a>\u001b[0m in \u001b[0;36m<module>\u001b[1;34m()\u001b[0m\n\u001b[1;32m----> 1\u001b[1;33m \u001b[1;32mfrom\u001b[0m \u001b[0mgoogle\u001b[0m\u001b[1;33m.\u001b[0m\u001b[0mcolab\u001b[0m \u001b[1;32mimport\u001b[0m \u001b[0mfiles\u001b[0m\u001b[1;33m\u001b[0m\u001b[0m\n\u001b[0m\u001b[0;32m      2\u001b[0m \u001b[1;33m\u001b[0m\u001b[0m\n\u001b[0;32m      3\u001b[0m \u001b[0muploaded\u001b[0m \u001b[1;33m=\u001b[0m \u001b[0mfiles\u001b[0m\u001b[1;33m.\u001b[0m\u001b[0mupload\u001b[0m\u001b[1;33m(\u001b[0m\u001b[1;33m)\u001b[0m\u001b[1;33m\u001b[0m\u001b[0m\n\u001b[0;32m      4\u001b[0m \u001b[1;33m\u001b[0m\u001b[0m\n\u001b[0;32m      5\u001b[0m \u001b[1;32mfor\u001b[0m \u001b[0mfn\u001b[0m \u001b[1;32min\u001b[0m \u001b[0muploaded\u001b[0m\u001b[1;33m.\u001b[0m\u001b[0mkeys\u001b[0m\u001b[1;33m(\u001b[0m\u001b[1;33m)\u001b[0m\u001b[1;33m:\u001b[0m\u001b[1;33m\u001b[0m\u001b[0m\n",
      "\u001b[1;31mModuleNotFoundError\u001b[0m: No module named 'google.colab'"
     ]
    }
   ],
   "source": [
    "from google.colab import files\n",
    "\n",
    "uploaded = files.upload()\n",
    "\n",
    "for fn in uploaded.keys():\n",
    "  print('User uploaded file \"{name}\" with length {length} bytes'.format(\n",
    "      name=fn, length=len(uploaded[fn])))"
   ]
  },
  {
   "cell_type": "markdown",
   "metadata": {
    "colab_type": "text",
    "id": "gQ94f23IzgNf"
   },
   "source": [
    "# Setting up google drive data"
   ]
  },
  {
   "cell_type": "code",
   "execution_count": 0,
   "metadata": {
    "colab": {},
    "colab_type": "code",
    "id": "qLDXX33xhMxT"
   },
   "outputs": [],
   "source": [
    "!pip install -U -q PyDrive\n"
   ]
  },
  {
   "cell_type": "code",
   "execution_count": 18,
   "metadata": {
    "colab": {
     "base_uri": "https://localhost:8080/",
     "height": 12900
    },
    "colab_type": "code",
    "executionInfo": {
     "elapsed": 175415,
     "status": "ok",
     "timestamp": 1535510008246,
     "user": {
      "displayName": "Youssef A.Mubarak",
      "photoUrl": "//lh3.googleusercontent.com/-OKDdxgYFboQ/AAAAAAAAAAI/AAAAAAAAAHc/_hX00tHoGvU/s50-c-k-no/photo.jpg",
      "userId": "111423931482360476978"
     },
     "user_tz": -120
    },
    "id": "oEbaEoRuxXp8",
    "outputId": "68f20571-af8b-4adb-f963-67bded51de5a"
   },
   "outputs": [
    {
     "name": "stdout",
     "output_type": "stream",
     "text": [
      "title: BloodImage_00407.jpg, id: 1a2zJmLaOpkX9UwL4WOPcresG8JL02o-m\n",
      "downloading to /root/data/BloodImage_00407.jpg\n",
      "title: BloodImage_00410.jpg, id: 1MLHg_vyprMljhFKymZdCQRwpcwz1PTCJ\n",
      "downloading to /root/data/BloodImage_00410.jpg\n",
      "title: BloodImage_00393.jpg, id: 10OlPkMt8FIPeMO48bC_rtSXty0uwAnat\n",
      "downloading to /root/data/BloodImage_00393.jpg\n",
      "title: BloodImage_00408.jpg, id: 15aq0m5XrmXsUfPVQzhQ2LvpbXXn2NTbU\n",
      "downloading to /root/data/BloodImage_00408.jpg\n",
      "title: BloodImage_00405.jpg, id: 12XxFFCe3hYw80uQjUKDB87x_dnkbr2C5\n",
      "downloading to /root/data/BloodImage_00405.jpg\n",
      "title: BloodImage_00409.jpg, id: 18mkLZsq4L0T9mngB2kQpL4iaH2RnPLkH\n",
      "downloading to /root/data/BloodImage_00409.jpg\n",
      "title: BloodImage_00395.jpg, id: 1p2I-qb_kRI-tkBWX9aLXjmC_X823fzjf\n",
      "downloading to /root/data/BloodImage_00395.jpg\n",
      "title: BloodImage_00396.jpg, id: 1IYgJZJN6ZF9hAq6MSZ2ZrV2ZCzZnb10h\n",
      "downloading to /root/data/BloodImage_00396.jpg\n",
      "title: BloodImage_00402.jpg, id: 1qPbGKRk4PgkEjYtveZCrICmLmOVU6aaj\n",
      "downloading to /root/data/BloodImage_00402.jpg\n",
      "title: BloodImage_00398.jpg, id: 19Yxq3UVvzO1T0eYcfpIORqgmsyPdX4t6\n",
      "downloading to /root/data/BloodImage_00398.jpg\n",
      "title: BloodImage_00397.jpg, id: 1wmqjINK4wjouVRJ38_oO6csIeiEaa9bS\n",
      "downloading to /root/data/BloodImage_00397.jpg\n",
      "title: BloodImage_00392.jpg, id: 17AB6ZXyv0X9YvUgis0Pad6hWW4cmH3qV\n",
      "downloading to /root/data/BloodImage_00392.jpg\n",
      "title: BloodImage_00390.jpg, id: 1rp4nAL1pKvyO6QCgp_JVibcajk8gyPa9\n",
      "downloading to /root/data/BloodImage_00390.jpg\n",
      "title: BloodImage_00386.jpg, id: 1uBzOTE9R3KErLN_GGJIsQmRX7Dn1U1ND\n",
      "downloading to /root/data/BloodImage_00386.jpg\n",
      "title: BloodImage_00389.jpg, id: 1rb7JODVNDC0PwunIZMd0Kz8mmNMj29sQ\n",
      "downloading to /root/data/BloodImage_00389.jpg\n",
      "title: BloodImage_00404.jpg, id: 1jHDl3W6ooVT4GFwmLbQSSCklLAcvUw_S\n",
      "downloading to /root/data/BloodImage_00404.jpg\n",
      "title: BloodImage_00383.jpg, id: 1mkZEfaTWuNt5cpsNeiYkj00nxaC-qkWF\n",
      "downloading to /root/data/BloodImage_00383.jpg\n",
      "title: BloodImage_00403.jpg, id: 10dmV1SDKnko7iSabnM43XvvF9_TD3dtJ\n",
      "downloading to /root/data/BloodImage_00403.jpg\n",
      "title: BloodImage_00400.jpg, id: 1BHOHspAG2kJddqd0qZjnmdlHdilggNyW\n",
      "downloading to /root/data/BloodImage_00400.jpg\n",
      "title: BloodImage_00388.jpg, id: 19zb3SIJVFVcx5xPbIhhvLPABf88wcm_0\n",
      "downloading to /root/data/BloodImage_00388.jpg\n",
      "title: BloodImage_00391.jpg, id: 1AUZOZnf0eyJ4BYJ6WgnoeOjMwZxKNxQe\n",
      "downloading to /root/data/BloodImage_00391.jpg\n",
      "title: BloodImage_00387.jpg, id: 1FovfRIUA-xIhwGBpLIZAgqPCgZ4ukhQq\n",
      "downloading to /root/data/BloodImage_00387.jpg\n",
      "title: BloodImage_00384.jpg, id: 1INhckhjEqOMWMTFj7SgqkZ_6sg9ieK_x\n",
      "downloading to /root/data/BloodImage_00384.jpg\n",
      "title: BloodImage_00385.jpg, id: 1A4H43XPDY-bj316hEKd5g6SVL-e2IuCC\n",
      "downloading to /root/data/BloodImage_00385.jpg\n",
      "title: BloodImage_00382.jpg, id: 1xM6SM0hIASR4YfYMlNVvNjug_g4Jh7TA\n",
      "downloading to /root/data/BloodImage_00382.jpg\n",
      "title: BloodImage_00375.jpg, id: 1Ov3LmUjGMP_urPyI4GVYAjhnCIWWYizZ\n",
      "downloading to /root/data/BloodImage_00375.jpg\n",
      "title: BloodImage_00376.jpg, id: 1RqyqsaZB_OQdBhOjK34R8ggeFcKD1Jyo\n",
      "downloading to /root/data/BloodImage_00376.jpg\n",
      "title: BloodImage_00381.jpg, id: 1B-7OZb-K9e0TjK0QTBCjASP838tQg6vk\n",
      "downloading to /root/data/BloodImage_00381.jpg\n",
      "title: BloodImage_00377.jpg, id: 1vKrDnEHzt8JcSEslp5_tFGKTiXwJuL8u\n",
      "downloading to /root/data/BloodImage_00377.jpg\n",
      "title: BloodImage_00371.jpg, id: 1anG1mMrX-LibjlXlPhNaJykBuoSiFiNd\n",
      "downloading to /root/data/BloodImage_00371.jpg\n",
      "title: BloodImage_00362.jpg, id: 1SjqfLOrj1sBCb6FFGQ_YNs2Wap3aaQgf\n",
      "downloading to /root/data/BloodImage_00362.jpg\n",
      "title: BloodImage_00365.jpg, id: 1St2Hv2_4tukTK4j4rDo91Z3MBAEcgQ-w\n",
      "downloading to /root/data/BloodImage_00365.jpg\n",
      "title: BloodImage_00378.jpg, id: 1htGZTLaIQY4lrA_XqcTLU5KvNo7DQIlq\n",
      "downloading to /root/data/BloodImage_00378.jpg\n",
      "title: BloodImage_00374.jpg, id: 16NtyPb0wg93hTubnSugwhc3xO7Jhgoyk\n",
      "downloading to /root/data/BloodImage_00374.jpg\n",
      "title: BloodImage_00379.jpg, id: 1DjgDqHWju9oBy-6wvgrjHOcX9WgvJ1Pu\n",
      "downloading to /root/data/BloodImage_00379.jpg\n",
      "title: BloodImage_00372.jpg, id: 1krwTBP2nYujbEmsYZwIZknGAU57-otgA\n",
      "downloading to /root/data/BloodImage_00372.jpg\n",
      "title: BloodImage_00370.jpg, id: 1gKR4-xbgQEM0MjS47UiklXLRqBnbQuEd\n",
      "downloading to /root/data/BloodImage_00370.jpg\n",
      "title: BloodImage_00369.jpg, id: 1sOlJ7ve1i0IB_7CDFHMqeVHsgioJgl0F\n",
      "downloading to /root/data/BloodImage_00369.jpg\n",
      "title: BloodImage_00368.jpg, id: 1jL7uSBmuS9LqqQVx2JbDhYAXn8vReKjM\n",
      "downloading to /root/data/BloodImage_00368.jpg\n",
      "title: BloodImage_00366.jpg, id: 1Eoep6S6vIQAdwwbauORGLWm3F6yOIA0e\n",
      "downloading to /root/data/BloodImage_00366.jpg\n",
      "title: BloodImage_00364.jpg, id: 1WbAT_VuSYRVayYAopuKujfgMdH47STAX\n",
      "downloading to /root/data/BloodImage_00364.jpg\n",
      "title: BloodImage_00367.jpg, id: 146W7PdZcP0F1MRbmRRG9SL5yV4k5yCwW\n",
      "downloading to /root/data/BloodImage_00367.jpg\n",
      "title: BloodImage_00323.jpg, id: 10h7T32YVrELS1xNYrmrT3OnIZPNJKXuc\n",
      "downloading to /root/data/BloodImage_00323.jpg\n",
      "title: BloodImage_00360.jpg, id: 1HWbyzTAUPG_Mno8vLjH9xiR-ZT3kudSu\n",
      "downloading to /root/data/BloodImage_00360.jpg\n",
      "title: BloodImage_00320.jpg, id: 1yyrnnTnm4UIGWgJse3K0k2G4gQxIYTwI\n",
      "downloading to /root/data/BloodImage_00320.jpg\n",
      "title: BloodImage_00318.jpg, id: 1t3hbwJUV8iAaZNlRNZ1zZNbBXzLu3Q4u\n",
      "downloading to /root/data/BloodImage_00318.jpg\n",
      "title: BloodImage_00317.jpg, id: 1D1KQI8kSuGMdof0MjCetbolieUTMLogi\n",
      "downloading to /root/data/BloodImage_00317.jpg\n",
      "title: BloodImage_00359.jpg, id: 1bXvxdwSy6L3UlZs7MOlKjAhc_W4pVXt0\n",
      "downloading to /root/data/BloodImage_00359.jpg\n",
      "title: BloodImage_00361.jpg, id: 1gV5fieA-jsCojEDmNAvJtPcJKfqf8N49\n",
      "downloading to /root/data/BloodImage_00361.jpg\n",
      "title: BloodImage_00357.jpg, id: 1JVC_w1RA9dDqGLV8eiOewhpysq1yybPI\n",
      "downloading to /root/data/BloodImage_00357.jpg\n",
      "title: BloodImage_00353.jpg, id: 1TjpZxc2QG8lwQ8QomjfyLupnbJNmqTtA\n",
      "downloading to /root/data/BloodImage_00353.jpg\n",
      "title: BloodImage_00352.jpg, id: 1AFFQOAFigvOkKPeyd5De7mP4Fwp_WUq_\n",
      "downloading to /root/data/BloodImage_00352.jpg\n",
      "title: BloodImage_00325.jpg, id: 1ubhLqDbFN6QnWy48pNY7ztft9-P03FN4\n",
      "downloading to /root/data/BloodImage_00325.jpg\n",
      "title: BloodImage_00356.jpg, id: 10BPzximaWVjyp2cbfc6TsaJlVRoorYGx\n",
      "downloading to /root/data/BloodImage_00356.jpg\n",
      "title: BloodImage_00351.jpg, id: 1HpPzzADJ9GIA9UxnBGCtxPaNcTQq-oYg\n",
      "downloading to /root/data/BloodImage_00351.jpg\n",
      "title: BloodImage_00354.jpg, id: 1vh7LpxW5AMWc4za8RgOlDnjnoyatImXJ\n",
      "downloading to /root/data/BloodImage_00354.jpg\n",
      "title: BloodImage_00355.jpg, id: 15pHg7STlcYDllRDm3tBfNtOtW_KOqk1K\n",
      "downloading to /root/data/BloodImage_00355.jpg\n",
      "title: BloodImage_00350.jpg, id: 1JfBDSvsFNr7lAneIm4D0zyDggJukHXlc\n",
      "downloading to /root/data/BloodImage_00350.jpg\n",
      "title: BloodImage_00349.jpg, id: 1JQ_4pfLWhy9ACaB1UCrrqQuP2U9gdHIM\n",
      "downloading to /root/data/BloodImage_00349.jpg\n",
      "title: BloodImage_00348.jpg, id: 1_BxT94vyHkI8oW8f_SkSpS19Li1GyFuE\n",
      "downloading to /root/data/BloodImage_00348.jpg\n",
      "title: BloodImage_00342.jpg, id: 1ASqjDdVuAXZo0vY80xgMEsMc4cifUMrp\n",
      "downloading to /root/data/BloodImage_00342.jpg\n",
      "title: BloodImage_00343.jpg, id: 1IpyNlMvcZJwCXJ1Smfp3SUsRw5x3U1YP\n",
      "downloading to /root/data/BloodImage_00343.jpg\n",
      "title: BloodImage_00347.jpg, id: 1GJwUlnUQYpwwoFD8RnQHhfihOJ9ETzsZ\n",
      "downloading to /root/data/BloodImage_00347.jpg\n",
      "title: BloodImage_00341.jpg, id: 18eNKtPDAYws9tK0kLnGP9xy1Sd0PZF5t\n",
      "downloading to /root/data/BloodImage_00341.jpg\n",
      "title: BloodImage_00346.jpg, id: 1he6Zc2RDhBoDQU-u3f0-fXXGZ5p92HHl\n",
      "downloading to /root/data/BloodImage_00346.jpg\n",
      "title: BloodImage_00345.jpg, id: 1BsHDMKSP-FqaU-QexOlIQad6V69To5oQ\n",
      "downloading to /root/data/BloodImage_00345.jpg\n",
      "title: BloodImage_00319.jpg, id: 1OqU5_LuQYbGFuH7M01z-Z4P3BcX0IJtX\n",
      "downloading to /root/data/BloodImage_00319.jpg\n",
      "title: BloodImage_00339.jpg, id: 1Yaynn1Rp2F_TPBBHGImLixS2xWG3fiJm\n",
      "downloading to /root/data/BloodImage_00339.jpg\n",
      "title: BloodImage_00340.jpg, id: 1LY0WqXGCXxr7AHVM0iwV0EG0cem24Byh\n",
      "downloading to /root/data/BloodImage_00340.jpg\n",
      "title: BloodImage_00344.jpg, id: 1fqK1OUWjwBsFIVeRLP7BXnTnaGzp_zpi\n",
      "downloading to /root/data/BloodImage_00344.jpg\n",
      "title: BloodImage_00338.jpg, id: 1DkCfd8j26KSHGFWYN0JQft_tkEHnwQgN\n",
      "downloading to /root/data/BloodImage_00338.jpg\n",
      "title: BloodImage_00334.jpg, id: 17OwBR0jXCpb5bOgIBtEMMr34Y3SWgokV\n",
      "downloading to /root/data/BloodImage_00334.jpg\n",
      "title: BloodImage_00315.jpg, id: 17QaPItEYT5D61cKmdEJI-dMcbxsHNvuM\n",
      "downloading to /root/data/BloodImage_00315.jpg\n",
      "title: BloodImage_00309.jpg, id: 1wdFzB3osNdfmXVsgw6mDFQ1qf8EUCa1E\n",
      "downloading to /root/data/BloodImage_00309.jpg\n",
      "title: BloodImage_00333.jpg, id: 14EjWv2K9l7xn_S1-0ZL_R9hhgI6ddztM\n",
      "downloading to /root/data/BloodImage_00333.jpg\n",
      "title: BloodImage_00335.jpg, id: 13eAG8cOsvXKTw3vf2ow-nbdeT45tiFk7\n",
      "downloading to /root/data/BloodImage_00335.jpg\n",
      "title: BloodImage_00332.jpg, id: 1PG36CZFAhnp8gmGgvaVfjVJnTKXjwsDH\n",
      "downloading to /root/data/BloodImage_00332.jpg\n",
      "title: BloodImage_00336.jpg, id: 1g6AudW2DrRDFhAVJzqa2gDrjk05lHcQf\n",
      "downloading to /root/data/BloodImage_00336.jpg\n",
      "title: BloodImage_00337.jpg, id: 1jsndrv4JJOkp_JkjKDozlAbmdV41kxsx\n",
      "downloading to /root/data/BloodImage_00337.jpg\n",
      "title: BloodImage_00327.jpg, id: 1HguG00u2HtpdH08YDWnZhlKcNRMZyrGv\n",
      "downloading to /root/data/BloodImage_00327.jpg\n",
      "title: BloodImage_00329.jpg, id: 1y2LtDDrqdVZk1-iPg0XZ2wPv4cY0XEQo\n",
      "downloading to /root/data/BloodImage_00329.jpg\n",
      "title: BloodImage_00330.jpg, id: 1r5_Qq_ZcWhvSQtr0da9kVFAMMviG3hnh\n",
      "downloading to /root/data/BloodImage_00330.jpg\n",
      "title: BloodImage_00331.jpg, id: 1Ufg0n1REutjeb6jb_gtSYor7ZUAZk03h\n",
      "downloading to /root/data/BloodImage_00331.jpg\n",
      "title: BloodImage_00324.jpg, id: 16jDLqzCcumQjVSTvwHVxTf0KfmQ7psYo\n",
      "downloading to /root/data/BloodImage_00324.jpg\n",
      "title: BloodImage_00312.jpg, id: 1r1lb7NQxwoiUSOEeKP3QIXPjPsRhZMlW\n",
      "downloading to /root/data/BloodImage_00312.jpg\n",
      "title: BloodImage_00322.jpg, id: 1Nzw5rl0FJPZTQ-UvNV1GhMQ7cyVuzGTK\n",
      "downloading to /root/data/BloodImage_00322.jpg\n",
      "title: BloodImage_00326.jpg, id: 1tLyz8iHwtfNIRWkSvu9zG1NY7K4UL3B6\n",
      "downloading to /root/data/BloodImage_00326.jpg\n",
      "title: BloodImage_00313.jpg, id: 1WOBk3NWHwRnBhIvOf0yNScXMpGNoyqfs\n",
      "downloading to /root/data/BloodImage_00313.jpg\n",
      "title: BloodImage_00308.jpg, id: 1RTfbsdKn0lphhJH61yI_fe6QDx6ib30a\n",
      "downloading to /root/data/BloodImage_00308.jpg\n",
      "title: BloodImage_00304.jpg, id: 1io4TrHWd-H_4ZmpVP6cXezHvTmbjEsqz\n",
      "downloading to /root/data/BloodImage_00304.jpg\n",
      "title: BloodImage_00314.jpg, id: 18Y7UKH7GalQQBkV4rPWvczu4kGvjE9Gl\n",
      "downloading to /root/data/BloodImage_00314.jpg\n",
      "title: BloodImage_00295.jpg, id: 13hfE4q83trA6cShDxrHUA_ZgB-CqXVdV\n",
      "downloading to /root/data/BloodImage_00295.jpg\n",
      "title: BloodImage_00311.jpg, id: 1T8iALUyDqC1EnKXnA1I8C_GZ4D7xMXfo\n",
      "downloading to /root/data/BloodImage_00311.jpg\n",
      "title: BloodImage_00310.jpg, id: 1CRiZ1ORHhb9wRK0iuk6uj_9C1jSY4bId\n",
      "downloading to /root/data/BloodImage_00310.jpg\n",
      "title: BloodImage_00301.jpg, id: 10FHcuN_gZtGfPIKiqDyJzd7105Mb3Qef\n",
      "downloading to /root/data/BloodImage_00301.jpg\n",
      "title: BloodImage_00305.jpg, id: 1HDPxKvQpxuH0qECzE8Ld1Otw7Lm8pUtH\n",
      "downloading to /root/data/BloodImage_00305.jpg\n",
      "title: BloodImage_00307.jpg, id: 1vxRSU51lcv5M4ccJR4nNBusyL4fXQi8z\n",
      "downloading to /root/data/BloodImage_00307.jpg\n",
      "title: BloodImage_00298.jpg, id: 1ZTrpplVyozBGbh2AxqDqSkDXwdG98wfe\n",
      "downloading to /root/data/BloodImage_00298.jpg\n",
      "title: BloodImage_00300.jpg, id: 1A2NZ4j-tjCx5EeYUjXcLCblX5-Knmbx0\n",
      "downloading to /root/data/BloodImage_00300.jpg\n",
      "title: BloodImage_00303.jpg, id: 1vAN9PBy-gCBxS1uEBepjrv_P11sLvli-\n",
      "downloading to /root/data/BloodImage_00303.jpg\n",
      "title: BloodImage_00299.jpg, id: 1udh_TsYMWJiUJn_HHUAbWwo7WEw52T6F\n",
      "downloading to /root/data/BloodImage_00299.jpg\n",
      "title: BloodImage_00297.jpg, id: 1vVvCcxgU_XBHmNh62iyIrDKODqikRtba\n",
      "downloading to /root/data/BloodImage_00297.jpg\n",
      "title: BloodImage_00293.jpg, id: 1fxYAhaYP_nshw9pAfu2sxtbJeT5vtXHa\n",
      "downloading to /root/data/BloodImage_00293.jpg\n",
      "title: BloodImage_00287.jpg, id: 13S6Bvyi3r6k7tzz8vMR4K8kvBFE6jelS\n",
      "downloading to /root/data/BloodImage_00287.jpg\n",
      "title: BloodImage_00296.jpg, id: 1mkQPgFtoOyY1L9e88RFQ2MgSE99P_6-F\n",
      "downloading to /root/data/BloodImage_00296.jpg\n",
      "title: BloodImage_00302.jpg, id: 18UOYI0BbxG-SRQHMjhye8ADOJN9SsMzg\n",
      "downloading to /root/data/BloodImage_00302.jpg\n",
      "title: BloodImage_00288.jpg, id: 1nuHZ0mArEP0NwODGs82VgtR0238t0as4\n",
      "downloading to /root/data/BloodImage_00288.jpg\n",
      "title: BloodImage_00292.jpg, id: 1OsES-EHZXrtszFP2r2BfH0rvH13eI1ZX\n",
      "downloading to /root/data/BloodImage_00292.jpg\n",
      "title: BloodImage_00294.jpg, id: 1IFP-HdxA56BYWqaca4-n35Ov8RNybw6x\n",
      "downloading to /root/data/BloodImage_00294.jpg\n",
      "title: BloodImage_00290.jpg, id: 1x2_cGW92Rywu3HNrO8aysiqL1SswRUIx\n",
      "downloading to /root/data/BloodImage_00290.jpg\n",
      "title: BloodImage_00291.jpg, id: 1v61_Zz1jYrqXyGU4WApCrr3Hl456EXEW\n",
      "downloading to /root/data/BloodImage_00291.jpg\n",
      "title: BloodImage_00289.jpg, id: 13encWFt8suiIdzYYmXxrKTAX3zdOJTNo\n",
      "downloading to /root/data/BloodImage_00289.jpg\n",
      "title: BloodImage_00284.jpg, id: 1dl894bptqOpu8VElV8BJetYxZHwLbEBg\n",
      "downloading to /root/data/BloodImage_00284.jpg\n",
      "title: BloodImage_00285.jpg, id: 1Lvc-u9wGi9T_DUITfn5G8QbtPFGj_aKX\n",
      "downloading to /root/data/BloodImage_00285.jpg\n",
      "title: BloodImage_00283.jpg, id: 1hep7wBYTMm85gW2GJTU44GU-qbWXnXNh\n",
      "downloading to /root/data/BloodImage_00283.jpg\n",
      "title: BloodImage_00277.jpg, id: 1Hi7BdR4Y4a1Os27B7sv0q_O7qyI8_kCG\n",
      "downloading to /root/data/BloodImage_00277.jpg\n",
      "title: BloodImage_00276.jpg, id: 1mKsha6jFld-xkDaqgTqNoXJ9oev5EnM7\n",
      "downloading to /root/data/BloodImage_00276.jpg\n",
      "title: BloodImage_00281.jpg, id: 17DAXi9ntHEtzKKcReajhBwSaQBfv_lQJ\n",
      "downloading to /root/data/BloodImage_00281.jpg\n",
      "title: BloodImage_00282.jpg, id: 1YS58-Za2YVKlY_gSSh9b2kOsmhAKMUK1\n",
      "downloading to /root/data/BloodImage_00282.jpg\n",
      "title: BloodImage_00273.jpg, id: 1TCUOSMN_ub-vFxzwfUPMy73z0LDi6Vur\n",
      "downloading to /root/data/BloodImage_00273.jpg\n",
      "title: BloodImage_00279.jpg, id: 1FwH_vZ1VB8zOuwlSFGTS3TyTpnphupu0\n",
      "downloading to /root/data/BloodImage_00279.jpg\n",
      "title: BloodImage_00272.jpg, id: 1LEn2Q6Fb1emueOtWFdGS5A2z3wkHRc4n\n",
      "downloading to /root/data/BloodImage_00272.jpg\n",
      "title: BloodImage_00278.jpg, id: 1lUVO-HYZ1VzyVMHBgTqW5dr6GxUD8rJ1\n",
      "downloading to /root/data/BloodImage_00278.jpg\n",
      "title: BloodImage_00270.jpg, id: 1RNY3L7idTGJV0CMKpNXMg3b-_aGFv7UA\n",
      "downloading to /root/data/BloodImage_00270.jpg\n",
      "title: BloodImage_00274.jpg, id: 1kdq45LWChH1pENol1dw0eI-_vE4_dzg6\n",
      "downloading to /root/data/BloodImage_00274.jpg\n",
      "title: BloodImage_00275.jpg, id: 1-5EOsDIKKbHGOh0Fi9rwn8tzKZSBd51u\n",
      "downloading to /root/data/BloodImage_00275.jpg\n",
      "title: BloodImage_00271.jpg, id: 1LNIG0yU4_pCugB4FSkQ--KU7avsgIbd0\n",
      "downloading to /root/data/BloodImage_00271.jpg\n",
      "title: BloodImage_00265.jpg, id: 1dYktAOYWY_FQtUpZKgiiBbL0KkAXDPQk\n",
      "downloading to /root/data/BloodImage_00265.jpg\n",
      "title: BloodImage_00267.jpg, id: 115pmWCAHl9KfUuazl_mxoobXDdHlLF2i\n",
      "downloading to /root/data/BloodImage_00267.jpg\n",
      "title: BloodImage_00269.jpg, id: 1bCGlmuyUGxEE145xVQuRzEqUju_6Kohp\n",
      "downloading to /root/data/BloodImage_00269.jpg\n",
      "title: BloodImage_00262.jpg, id: 1PZN6xiEXArevGCBG1rfCsv0K2nibW7KE\n",
      "downloading to /root/data/BloodImage_00262.jpg\n",
      "title: BloodImage_00268.jpg, id: 1fJmlM_6EEJVuKfSp5Sjyrq1N97tebWyG\n",
      "downloading to /root/data/BloodImage_00268.jpg\n",
      "title: BloodImage_00266.jpg, id: 1R0eLZf8FYnfWD_9sPPWPPZG4Yu1BgYo0\n",
      "downloading to /root/data/BloodImage_00266.jpg\n",
      "title: BloodImage_00263.jpg, id: 112w-HepXkukZLOe5iN2CJrMxEEqrbBmI\n",
      "downloading to /root/data/BloodImage_00263.jpg\n",
      "title: BloodImage_00260.jpg, id: 1VC7QlKmnngcJCU226R6q7mUV2BYuuC1I\n",
      "downloading to /root/data/BloodImage_00260.jpg\n",
      "title: BloodImage_00261.jpg, id: 1n_IWyeKMbBv8dHTRmYbXWXswcpfk_j0v\n",
      "downloading to /root/data/BloodImage_00261.jpg\n",
      "title: BloodImage_00264.jpg, id: 1r_HKhnt80DAdmGo54hjFGTF0aMTmr3g6\n",
      "downloading to /root/data/BloodImage_00264.jpg\n",
      "title: BloodImage_00256.jpg, id: 1mTD8CLSANeDR9EbjF01mGeRoCJl24WN4\n",
      "downloading to /root/data/BloodImage_00256.jpg\n",
      "title: BloodImage_00257.jpg, id: 1vdoU4GIDvXGvOL2UpVpAkfjsuV7abhpl\n",
      "downloading to /root/data/BloodImage_00257.jpg\n",
      "title: BloodImage_00258.jpg, id: 1YCCWaMne-sMBhXNu_FEIboOkDlLSbzC-\n",
      "downloading to /root/data/BloodImage_00258.jpg\n",
      "title: BloodImage_00255.jpg, id: 1cmJZzM_HJ18Ad58VZKtoTSOcjgxmA-GE\n",
      "downloading to /root/data/BloodImage_00255.jpg\n",
      "title: BloodImage_00259.jpg, id: 1FGhL2jclyxQrXWxSvruBFuA29oSAOI8K\n",
      "downloading to /root/data/BloodImage_00259.jpg\n",
      "title: BloodImage_00254.jpg, id: 1JRfc_UErnl9yo1wpDhqkgtHxmyGyHnv4\n",
      "downloading to /root/data/BloodImage_00254.jpg\n",
      "title: BloodImage_00253.jpg, id: 1ClQU3ROOzwqdmWyPC2nSYIFq3LeRdDJ_\n",
      "downloading to /root/data/BloodImage_00253.jpg\n",
      "title: BloodImage_00252.jpg, id: 1fMPxGYyV6MJ60O9tw2F6mftQyWpP9Ht4\n",
      "downloading to /root/data/BloodImage_00252.jpg\n",
      "title: BloodImage_00250.jpg, id: 1YEYtQHutpYO1hoVmpZDagqJrQ94usqX0\n",
      "downloading to /root/data/BloodImage_00250.jpg\n",
      "title: BloodImage_00249.jpg, id: 1ZRbY1curlt8g8KxkA_HU3APH7NzXQxVZ\n",
      "downloading to /root/data/BloodImage_00249.jpg\n",
      "title: BloodImage_00251.jpg, id: 1vkdPRk68uSsaxwgzv-i9NJLKG1gXtDji\n",
      "downloading to /root/data/BloodImage_00251.jpg\n",
      "title: BloodImage_00248.jpg, id: 1M0gclSAYnwUX9DzZVs1tfG3ILCAyLHAE\n",
      "downloading to /root/data/BloodImage_00248.jpg\n",
      "title: BloodImage_00242.jpg, id: 18iMHPdYPJ6hdFEaVWeaqCy2WXqCKpr_M\n",
      "downloading to /root/data/BloodImage_00242.jpg\n",
      "title: BloodImage_00244.jpg, id: 1lYomFyQiGiXOnCdr5JCJapZg9iUC9aBi\n",
      "downloading to /root/data/BloodImage_00244.jpg\n",
      "title: BloodImage_00247.jpg, id: 1WWg-Hf8VGLXTxDwfElV_AHt3kdpkpJa0\n",
      "downloading to /root/data/BloodImage_00247.jpg\n",
      "title: BloodImage_00239.jpg, id: 1_4OzwEUQk9mthZ3TQG0Gi7a3rGMCIWhg\n",
      "downloading to /root/data/BloodImage_00239.jpg\n",
      "title: BloodImage_00241.jpg, id: 1cl2RoNcjfE7urBmIceqM7zRPBRBLkD13\n",
      "downloading to /root/data/BloodImage_00241.jpg\n",
      "title: BloodImage_00246.jpg, id: 15Ci7t1UwFnkYbllg8G2V5TNtpHygzzXI\n",
      "downloading to /root/data/BloodImage_00246.jpg\n",
      "title: BloodImage_00245.jpg, id: 1pNHErLx0jKRLTzhAfJVMGmsNykgbTYaq\n",
      "downloading to /root/data/BloodImage_00245.jpg\n",
      "title: BloodImage_00243.jpg, id: 19PqjsZhyvwpCeQX3Ohf7ARU1Oqn9QX4X\n",
      "downloading to /root/data/BloodImage_00243.jpg\n",
      "title: BloodImage_00240.jpg, id: 17h45Po4MXQwPjvWUtgy78dE5-9iSaBVj\n",
      "downloading to /root/data/BloodImage_00240.jpg\n",
      "title: BloodImage_00237.jpg, id: 1SJJX6YyZfS6gHQkjkL5eujahbuzn0yq5\n",
      "downloading to /root/data/BloodImage_00237.jpg\n",
      "title: BloodImage_00232.jpg, id: 1UPF0FCxrtR1U-MIZiH4B8B9jRue_-qAE\n",
      "downloading to /root/data/BloodImage_00232.jpg\n",
      "title: BloodImage_00231.jpg, id: 1EXz_ifKuzCfb1Exjzd8BKdVpXWWI4jyF\n",
      "downloading to /root/data/BloodImage_00231.jpg\n",
      "title: BloodImage_00222.jpg, id: 1_yYpoVU1Ykrk3EAecGtmw72j8ELLBNny\n",
      "downloading to /root/data/BloodImage_00222.jpg\n",
      "title: BloodImage_00236.jpg, id: 1il03JBkRNv8h9aO_0HuQzUbPkmX9W6MA\n",
      "downloading to /root/data/BloodImage_00236.jpg\n",
      "title: BloodImage_00235.jpg, id: 1o4XKXPWZoeVT_4PqNtHU6sK_QmOHPb1m\n",
      "downloading to /root/data/BloodImage_00235.jpg\n",
      "title: BloodImage_00234.jpg, id: 1I6h8D9MIQXqo0ZKnmPZmmVYgzf9d4Zvz\n",
      "downloading to /root/data/BloodImage_00234.jpg\n",
      "title: BloodImage_00226.jpg, id: 1fGngSW11sP6sEYJu95J4oJGXaofJJ1CY\n",
      "downloading to /root/data/BloodImage_00226.jpg\n",
      "title: BloodImage_00229.jpg, id: 1UZvULJjZLGnLNGmjLW-ttIDoY3Y9FdxD\n",
      "downloading to /root/data/BloodImage_00229.jpg\n",
      "title: BloodImage_00233.jpg, id: 1356XcUVCC8ZvgtQ0v3E7RSE6lGmmn7Sb\n",
      "downloading to /root/data/BloodImage_00233.jpg\n",
      "title: BloodImage_00227.jpg, id: 1Bxk4hdYF_f7PHNDxuE9xAttguc8c7umS\n",
      "downloading to /root/data/BloodImage_00227.jpg\n",
      "title: BloodImage_00221.jpg, id: 1-4bOmtnGzN1w1iRqav1V924vN4sV-moG\n",
      "downloading to /root/data/BloodImage_00221.jpg\n",
      "title: BloodImage_00224.jpg, id: 1dlqA8Od7B1GfLcGgmZuxBqNsuiN-_lJi\n",
      "downloading to /root/data/BloodImage_00224.jpg\n",
      "title: BloodImage_00230.jpg, id: 1BUh0hDQ386v8VU0iCzFsqEiJkxgSYFaI\n",
      "downloading to /root/data/BloodImage_00230.jpg\n",
      "title: BloodImage_00223.jpg, id: 1ySiGrfJ8bMJgYidzGBWVj7cFat_EKaxw\n",
      "downloading to /root/data/BloodImage_00223.jpg\n",
      "title: BloodImage_00225.jpg, id: 1Tsa7AXjanpzoPNzn6y_kj1vt81IBK2Ob\n",
      "downloading to /root/data/BloodImage_00225.jpg\n",
      "title: BloodImage_00217.jpg, id: 1o7oCRcx45UkzqECi4U11-RzEo-0m4_VZ\n",
      "downloading to /root/data/BloodImage_00217.jpg\n",
      "title: BloodImage_00219.jpg, id: 10n9alcnnFO_uy0DrniBkvZV0eqjYAAvL\n",
      "downloading to /root/data/BloodImage_00219.jpg\n",
      "title: BloodImage_00228.jpg, id: 1VA2Wc_4KrksPTZBhpIeXtOjYFovdudrw\n",
      "downloading to /root/data/BloodImage_00228.jpg\n",
      "title: BloodImage_00214.jpg, id: 1MdylSRlZ3dAvSLzqvjEWSLKg1GlYpiwO\n",
      "downloading to /root/data/BloodImage_00214.jpg\n",
      "title: BloodImage_00215.jpg, id: 1g5CeUMYOIHd7edgmdmo29ljU9Pk32sGy\n",
      "downloading to /root/data/BloodImage_00215.jpg\n",
      "title: BloodImage_00220.jpg, id: 1gxCZD77womgNtIkLQEgznZ5gvTLdHeFr\n",
      "downloading to /root/data/BloodImage_00220.jpg\n",
      "title: BloodImage_00216.jpg, id: 1zTB8AS7mxWKyuU0exiwDlpEATmczXQxU\n",
      "downloading to /root/data/BloodImage_00216.jpg\n",
      "title: BloodImage_00218.jpg, id: 1TvW6wOwxboCEvtOTH3uRFcsNSFOW5c8e\n",
      "downloading to /root/data/BloodImage_00218.jpg\n",
      "title: BloodImage_00211.jpg, id: 1_mHQy6zZYIJUNFioBJ4yP-YerW-he3Dz\n",
      "downloading to /root/data/BloodImage_00211.jpg\n",
      "title: BloodImage_00212.jpg, id: 1ZRWR7Sw5p3bsPM8hO6qIqUyrauRcgkze\n",
      "downloading to /root/data/BloodImage_00212.jpg\n",
      "title: BloodImage_00210.jpg, id: 1oZFUlfzr_0QWU_XdKE6LhqHvEiXua2Sm\n",
      "downloading to /root/data/BloodImage_00210.jpg\n",
      "title: BloodImage_00209.jpg, id: 14thNvWeHyqggyt3FXuSQ7WRtwcpczh9U\n",
      "downloading to /root/data/BloodImage_00209.jpg\n",
      "title: BloodImage_00206.jpg, id: 1AjIbnv0MMPElK4k9DXOZrAjDV6_oNMX4\n",
      "downloading to /root/data/BloodImage_00206.jpg\n",
      "title: BloodImage_00208.jpg, id: 1w2tU9XUc_JfgCtFWXxljlNSMYqQyD-z1\n",
      "downloading to /root/data/BloodImage_00208.jpg\n",
      "title: BloodImage_00204.jpg, id: 16CIefD4mh6HkHPe6PLadjW5phJwEKzGK\n",
      "downloading to /root/data/BloodImage_00204.jpg\n",
      "title: BloodImage_00207.jpg, id: 1x1Y-K78ODz6KwffZ8t6-9tSrfxGWqHXm\n",
      "downloading to /root/data/BloodImage_00207.jpg\n",
      "title: BloodImage_00202.jpg, id: 1q8M3NeeZYYlDQ6MOqWzX1oTV8q8aLjgl\n",
      "downloading to /root/data/BloodImage_00202.jpg\n",
      "title: BloodImage_00203.jpg, id: 1dQMryXatIMK_0UkjhcHc-cvutZFImt_G\n",
      "downloading to /root/data/BloodImage_00203.jpg\n",
      "title: BloodImage_00205.jpg, id: 1IescJn6ViGQTMHz9OguutMLe42LyW6hv\n",
      "downloading to /root/data/BloodImage_00205.jpg\n",
      "title: BloodImage_00198.jpg, id: 1e-Wdel2GagDwDr1sx1Ax3yVs9GlYTlpK\n",
      "downloading to /root/data/BloodImage_00198.jpg\n",
      "title: BloodImage_00196.jpg, id: 17dnD2dfgRdBVp5g7V77U54lFg2hgDQQC\n",
      "downloading to /root/data/BloodImage_00196.jpg\n",
      "title: BloodImage_00201.jpg, id: 11pqJoaPHQjhoAtQAApU-EwJaiSIFLUGd\n",
      "downloading to /root/data/BloodImage_00201.jpg\n",
      "title: BloodImage_00197.jpg, id: 1_fDAg8q2RbobDkzjIF679oFkcOkZdEXb\n",
      "downloading to /root/data/BloodImage_00197.jpg\n",
      "title: BloodImage_00200.jpg, id: 1bsBKgMGnfdG4ffLHNmtxVZ1CwFAcGOl3\n",
      "downloading to /root/data/BloodImage_00200.jpg\n",
      "title: BloodImage_00199.jpg, id: 1alZaBF-HB4LTzkeupfzerZ7feNl1GMlo\n",
      "downloading to /root/data/BloodImage_00199.jpg\n",
      "title: BloodImage_00192.jpg, id: 1W64OLAcxiMLX4g235UECuRTYyT2YepdZ\n",
      "downloading to /root/data/BloodImage_00192.jpg\n",
      "title: BloodImage_00187.jpg, id: 13-5aZIp3Ug4MmBebhAkdwOYoijCHoUEd\n",
      "downloading to /root/data/BloodImage_00187.jpg\n",
      "title: BloodImage_00190.jpg, id: 1nuUpDmTq4vmTJMbyzPd0w1iiAK8ugV3b\n",
      "downloading to /root/data/BloodImage_00190.jpg\n",
      "title: BloodImage_00195.jpg, id: 1fldwUmcH36h0A5P0ZIUGjapWK9ji_T9I\n",
      "downloading to /root/data/BloodImage_00195.jpg\n",
      "title: BloodImage_00184.jpg, id: 1PLGL45f_mKfnlIIdrZo2TQ1d5nKvvLJn\n",
      "downloading to /root/data/BloodImage_00184.jpg\n",
      "title: BloodImage_00191.jpg, id: 1ilSHTq0eJ1rG7tglKFS4uGO2UXt7fYIQ\n",
      "downloading to /root/data/BloodImage_00191.jpg\n",
      "title: BloodImage_00189.jpg, id: 16UHEOzMw7W7Wj6IQYLeHHpnKS9PMShq5\n",
      "downloading to /root/data/BloodImage_00189.jpg\n",
      "title: BloodImage_00183.jpg, id: 1JcgZzojmcPS28-u-Pf3wxfD8ZY6g-HKu\n",
      "downloading to /root/data/BloodImage_00183.jpg\n",
      "title: BloodImage_00177.jpg, id: 1w-VkCFLjhcr8zpuGytBB_y0puuLSrZl1\n",
      "downloading to /root/data/BloodImage_00177.jpg\n",
      "title: BloodImage_00193.jpg, id: 10sIqfe8v4I2tulMjoi_z9VcConSqwpst\n",
      "downloading to /root/data/BloodImage_00193.jpg\n",
      "title: BloodImage_00182.jpg, id: 1n4fQs2gwdQfqEGHghUxOSZKxERibKzsp\n",
      "downloading to /root/data/BloodImage_00182.jpg\n",
      "title: BloodImage_00179.jpg, id: 1I325AqhBb37MWswJwL7i7qjW-pSJpe1W\n",
      "downloading to /root/data/BloodImage_00179.jpg\n",
      "title: BloodImage_00176.jpg, id: 1WVraitwBy1mR_5NDMJ__gqg_cudWRExT\n",
      "downloading to /root/data/BloodImage_00176.jpg\n",
      "title: BloodImage_00180.jpg, id: 1Oo2D9HvgWHQyaSY0KId8T4aL_0OcqmZn\n",
      "downloading to /root/data/BloodImage_00180.jpg\n",
      "title: BloodImage_00171.jpg, id: 119oIUv8SyOWT1Qq8zqiu0IJAk-s5zXZm\n",
      "downloading to /root/data/BloodImage_00171.jpg\n",
      "title: BloodImage_00178.jpg, id: 1d-iE2K-Ii3KvqK-sOy7_m-av68ONMw_z\n",
      "downloading to /root/data/BloodImage_00178.jpg\n",
      "title: BloodImage_00167.jpg, id: 1G8WHfft3_lq7K0_UzXqIPoQvZC2mLVt0\n",
      "downloading to /root/data/BloodImage_00167.jpg\n",
      "title: BloodImage_00165.jpg, id: 1xnywzB3ryAFhDtoXKz9RfFH0iami9-B2\n",
      "downloading to /root/data/BloodImage_00165.jpg\n",
      "title: BloodImage_00175.jpg, id: 10Dc7H-WFen5A-u6gDTgyuzP4pZILVx22\n",
      "downloading to /root/data/BloodImage_00175.jpg\n",
      "title: BloodImage_00172.jpg, id: 1Op_hi9XuH-4BNHlcfroTPk7XAx13AIxA\n",
      "downloading to /root/data/BloodImage_00172.jpg\n",
      "title: BloodImage_00170.jpg, id: 1QNlY7yRH6yoTm1qqIEjTPpHR3W0KRTyu\n",
      "downloading to /root/data/BloodImage_00170.jpg\n",
      "title: BloodImage_00166.jpg, id: 1n5dwl7_CRJKCn_3lZp_kECK_2ctLBCHa\n",
      "downloading to /root/data/BloodImage_00166.jpg\n",
      "title: BloodImage_00174.jpg, id: 10qP-vdVtnaiRIWdUia461jG6JxIRprpi\n",
      "downloading to /root/data/BloodImage_00174.jpg\n",
      "title: BloodImage_00169.jpg, id: 1CFi06EZ3d7tb_PPx_ccUuGisHZL4XEpZ\n",
      "downloading to /root/data/BloodImage_00169.jpg\n",
      "title: BloodImage_00168.jpg, id: 1tD2lGMXW0KATwWdIRpPudleoiX_xmzy0\n",
      "downloading to /root/data/BloodImage_00168.jpg\n",
      "title: BloodImage_00164.jpg, id: 1RyzjlWpGCpj2LncF5G_LejA81a-rp5cm\n",
      "downloading to /root/data/BloodImage_00164.jpg\n",
      "title: BloodImage_00154.jpg, id: 1DKS-QiuYtw9YUwg896oAJ2fAA8Ap-Tme\n",
      "downloading to /root/data/BloodImage_00154.jpg\n",
      "title: BloodImage_00160.jpg, id: 1L0O4cdE2z3Jyy60zP7ZS-n3orA5c6dgp\n",
      "downloading to /root/data/BloodImage_00160.jpg\n",
      "title: BloodImage_00149.jpg, id: 1ctxu2IDyW4YfBoYoXSzA9ucYD_LxY3KK\n",
      "downloading to /root/data/BloodImage_00149.jpg\n",
      "title: BloodImage_00159.jpg, id: 1NShixMBTi9K_qzZcQ7OR1GX8st30UxTm\n",
      "downloading to /root/data/BloodImage_00159.jpg\n",
      "title: BloodImage_00163.jpg, id: 1Hen51l_TI9lKTM6-BKCmgP-M-dB3PKPf\n",
      "downloading to /root/data/BloodImage_00163.jpg\n",
      "title: BloodImage_00162.jpg, id: 1nj6VKKAzhMgBradqKsDLR50yhThvDpqZ\n",
      "downloading to /root/data/BloodImage_00162.jpg\n",
      "title: BloodImage_00157.jpg, id: 13N_zs_fRiowgXyLQiCpswtF_SpfHCHbH\n",
      "downloading to /root/data/BloodImage_00157.jpg\n",
      "title: BloodImage_00152.jpg, id: 1N253IbTZ2R2bbUw9fop1lwLqMT49XuVS\n",
      "downloading to /root/data/BloodImage_00152.jpg\n",
      "title: BloodImage_00141.jpg, id: 1Jc8V3V-S3hj9AASyX7dY_SFlT6rrDPKB\n",
      "downloading to /root/data/BloodImage_00141.jpg\n",
      "title: BloodImage_00161.jpg, id: 1rYnDWQzQ7gKAr8W48duk0zjCy3sAJhBk\n",
      "downloading to /root/data/BloodImage_00161.jpg\n",
      "title: BloodImage_00142.jpg, id: 1B8_s1CS7hPtkalLN04BX-9C1JjvqErSs\n",
      "downloading to /root/data/BloodImage_00142.jpg\n",
      "title: BloodImage_00143.jpg, id: 17oUoiPdiFRu8f-L1xFSR4__Ab1Jyv0SO\n",
      "downloading to /root/data/BloodImage_00143.jpg\n",
      "title: BloodImage_00132.jpg, id: 1sbc7fekWR0-sQcHGXxa-ogni4cniBm6N\n",
      "downloading to /root/data/BloodImage_00132.jpg\n",
      "title: BloodImage_00156.jpg, id: 1h4oLQhvy5SINYrlGEWJ4tnp-tUx2opUt\n",
      "downloading to /root/data/BloodImage_00156.jpg\n",
      "title: BloodImage_00158.jpg, id: 1WA5ECpd5ilNGigneEj1gQQks7Ulvlqja\n",
      "downloading to /root/data/BloodImage_00158.jpg\n",
      "title: BloodImage_00144.jpg, id: 1hvqDdNMjXLk7Dlhq-Itl9QNGSJ8SZOov\n",
      "downloading to /root/data/BloodImage_00144.jpg\n",
      "title: BloodImage_00133.jpg, id: 16byoFUS__O_NIj8akWNnJr4-ppsFrgXG\n",
      "downloading to /root/data/BloodImage_00133.jpg\n",
      "title: BloodImage_00135.jpg, id: 1jWBne-d6T8-4xbSIguDzwglsVDqD5ZyC\n",
      "downloading to /root/data/BloodImage_00135.jpg\n",
      "title: BloodImage_00147.jpg, id: 1DXHzsDLsVDe3MvbVTS6DiwDw0GrC20Cm\n",
      "downloading to /root/data/BloodImage_00147.jpg\n",
      "title: BloodImage_00137.jpg, id: 11zcRdcAjJtiRJzeUUfouJU3GduQtu620\n",
      "downloading to /root/data/BloodImage_00137.jpg\n",
      "title: BloodImage_00136.jpg, id: 1u6XKUftqE2jVvKCYs5Asok6WNyByvIk8\n",
      "downloading to /root/data/BloodImage_00136.jpg\n",
      "title: BloodImage_00134.jpg, id: 1Xi-IL2PVdTeTnjvzbEDRJ7CeTsHi-Xbz\n",
      "downloading to /root/data/BloodImage_00134.jpg\n",
      "title: BloodImage_00150.jpg, id: 1GBOnyuUTespNBAE983cq_UACDBKIkRHV\n",
      "downloading to /root/data/BloodImage_00150.jpg\n",
      "title: BloodImage_00148.jpg, id: 1YxRV_QMjyuBGSRlTYvjFiNPWkOkoJUEk\n",
      "downloading to /root/data/BloodImage_00148.jpg\n",
      "title: BloodImage_00145.jpg, id: 1xYXmry7lQWu51ZgAUpDn5VJRzUxH18Gq\n",
      "downloading to /root/data/BloodImage_00145.jpg\n",
      "title: BloodImage_00139.jpg, id: 1T7uiToWAIhwYcV3QH2je6Lxjz-QzkSz7\n",
      "downloading to /root/data/BloodImage_00139.jpg\n",
      "title: BloodImage_00140.jpg, id: 16dXRlHsV5aeWNJm1vfxKsLOYmYWGBDkR\n",
      "downloading to /root/data/BloodImage_00140.jpg\n",
      "title: BloodImage_00130.jpg, id: 1MWdrEh2uF8--0m4YUbuF4d9Aawx9vEff\n",
      "downloading to /root/data/BloodImage_00130.jpg\n",
      "title: BloodImage_00127.jpg, id: 1AnxtBaCj8gTh-JfeOSfpvhlT4jPTYvV7\n",
      "downloading to /root/data/BloodImage_00127.jpg\n",
      "title: BloodImage_00126.jpg, id: 1w9WcmWJnzgvSuBllDoQ4MaxKJaQ02mEh\n",
      "downloading to /root/data/BloodImage_00126.jpg\n",
      "title: BloodImage_00120.jpg, id: 1lwPFqc7IiTkGX58Kjgnd_qZ5yjYBgRQi\n",
      "downloading to /root/data/BloodImage_00120.jpg\n",
      "title: BloodImage_00117.jpg, id: 1ZxCgWfYxa5UYUvjJ2k1BDEa2zqq8KDpl\n",
      "downloading to /root/data/BloodImage_00117.jpg\n",
      "title: BloodImage_00115.jpg, id: 1UVNsldrxuADL4_14f09aD_jpVaRsAALt\n",
      "downloading to /root/data/BloodImage_00115.jpg\n",
      "title: BloodImage_00114.jpg, id: 1QmJEMd7vKVhd3EUqBjm29U65guKBV0u9\n",
      "downloading to /root/data/BloodImage_00114.jpg\n",
      "title: BloodImage_00113.jpg, id: 1qqvhFQXh1c58Zx8v0Dd--_1mlClxe4T9\n",
      "downloading to /root/data/BloodImage_00113.jpg\n",
      "title: BloodImage_00125.jpg, id: 1JGu1udjTeG0e3FaKpUmhBIo1EsZGRoKM\n",
      "downloading to /root/data/BloodImage_00125.jpg\n",
      "title: BloodImage_00112.jpg, id: 14iHfR2ga_Et5BLg9eQfaKQy4Qvgzslvj\n",
      "downloading to /root/data/BloodImage_00112.jpg\n",
      "title: BloodImage_00111.jpg, id: 1qBeTRlAFu_qr5-u8J_pFN7stbexA8F6c\n",
      "downloading to /root/data/BloodImage_00111.jpg\n",
      "title: BloodImage_00124.jpg, id: 19bmrC9SafJeohagojYAaLnqOAj1J1ZON\n",
      "downloading to /root/data/BloodImage_00124.jpg\n",
      "title: BloodImage_00123.jpg, id: 1tgIuplXGOaMLYgmr5DbIRfo6pNc4iMHn\n",
      "downloading to /root/data/BloodImage_00123.jpg\n",
      "title: BloodImage_00110.jpg, id: 1-uytcESkf450lJs65mESUii_0mOxuiAO\n",
      "downloading to /root/data/BloodImage_00110.jpg\n",
      "title: BloodImage_00109.jpg, id: 1pHRx06vOcXw4I5Gv8RzvlAMv2XERUUc3\n",
      "downloading to /root/data/BloodImage_00109.jpg\n",
      "title: BloodImage_00108.jpg, id: 1JS9beA7KiGGzKQrwPguKf7pQN4Ks0oKf\n",
      "downloading to /root/data/BloodImage_00108.jpg\n",
      "title: BloodImage_00107.jpg, id: 1PtJwqK_hVzslOr8YwcInfHZ3yQ9ow3CE\n",
      "downloading to /root/data/BloodImage_00107.jpg\n",
      "title: BloodImage_00106.jpg, id: 1ltYxSO0Dpm2ZxBn2u7F6X279tIDFyVMu\n",
      "downloading to /root/data/BloodImage_00106.jpg\n",
      "title: BloodImage_00104.jpg, id: 1Lu0WV6orAe2VuHfkUGfNOw17cvMdjrdw\n",
      "downloading to /root/data/BloodImage_00104.jpg\n",
      "title: BloodImage_00103.jpg, id: 1CBNiUa7yeJFJcUmddT-DxRrQnhqYQvAY\n",
      "downloading to /root/data/BloodImage_00103.jpg\n",
      "title: BloodImage_00101.jpg, id: 1jGHErYYFyzTdFLNeOdI9sC9Pj9AbUaVv\n",
      "downloading to /root/data/BloodImage_00101.jpg\n",
      "title: BloodImage_00100.jpg, id: 1so7hrYiNr_iwBqPR0AsTBB9gbExesRgQ\n",
      "downloading to /root/data/BloodImage_00100.jpg\n",
      "title: BloodImage_00099.jpg, id: 1xQMuHQOYTzJiI4cRSIk6ppH9dSEkmKfc\n",
      "downloading to /root/data/BloodImage_00099.jpg\n",
      "title: BloodImage_00098.jpg, id: 1jUCoqYKjSh456aVuimZSzO1KX-1cmxEC\n",
      "downloading to /root/data/BloodImage_00098.jpg\n",
      "title: BloodImage_00097.jpg, id: 1CMMqPVjwb3UTayqaX67uErBOv49uswIc\n",
      "downloading to /root/data/BloodImage_00097.jpg\n",
      "title: BloodImage_00095.jpg, id: 1oZ5Hx3V7et8c-IXb1PsOTiMoSgChP8ss\n",
      "downloading to /root/data/BloodImage_00095.jpg\n",
      "title: BloodImage_00096.jpg, id: 1hcLHmssPmGuEmVZOFnGjl-wzL9q_W4Er\n",
      "downloading to /root/data/BloodImage_00096.jpg\n",
      "title: BloodImage_00094.jpg, id: 1md_gg-2SP1jtwa7w15wcKAERYcUO6TnZ\n",
      "downloading to /root/data/BloodImage_00094.jpg\n",
      "title: BloodImage_00092.jpg, id: 1x_XxeKzsSAmo_hyUl1txmI4H4RlY2nYY\n",
      "downloading to /root/data/BloodImage_00092.jpg\n",
      "title: BloodImage_00093.jpg, id: 1WUiHWAHIXTpTL2AxfzsCyGd_7018v7xM\n",
      "downloading to /root/data/BloodImage_00093.jpg\n",
      "title: BloodImage_00091.jpg, id: 14Q_PURUXZzfiGJOrekViMYQbpy5VDb0n\n",
      "downloading to /root/data/BloodImage_00091.jpg\n",
      "title: BloodImage_00090.jpg, id: 1Bg5dWsDNF-U2GYnUqm5B-O6wf-WUz9rb\n",
      "downloading to /root/data/BloodImage_00090.jpg\n",
      "title: BloodImage_00089.jpg, id: 1BXDa95xs8tNDcfgQsa3DxGC1a7jNDsYF\n",
      "downloading to /root/data/BloodImage_00089.jpg\n",
      "title: BloodImage_00088.jpg, id: 1KMf7l3MGXxrpklYtfpwm_Nm4BrYCn7Fu\n",
      "downloading to /root/data/BloodImage_00088.jpg\n",
      "title: BloodImage_00087.jpg, id: 12_gYY-m_BFUy3ExMcvWuQX9V7GcVoedu\n",
      "downloading to /root/data/BloodImage_00087.jpg\n",
      "title: BloodImage_00083.jpg, id: 12refbfW4ZHmED7c8LsGeAZytFNuQjpAv\n",
      "downloading to /root/data/BloodImage_00083.jpg\n",
      "title: BloodImage_00082.jpg, id: 1c-3krP9ma1fQijsbwqzfM0DvW_Nd_RkA\n",
      "downloading to /root/data/BloodImage_00082.jpg\n",
      "title: BloodImage_00086.jpg, id: 1Ao2OnxoeIrLdB38g_rHkUpukDbt2uv3V\n",
      "downloading to /root/data/BloodImage_00086.jpg\n",
      "title: BloodImage_00081.jpg, id: 1Nzj7sQG1_uiQiIz739rEkmU8ZgQnhjro\n",
      "downloading to /root/data/BloodImage_00081.jpg\n",
      "title: BloodImage_00079.jpg, id: 1H7gjKcPn3HjOxNjWZ5GlHT9fp6h5OqHd\n",
      "downloading to /root/data/BloodImage_00079.jpg\n",
      "title: BloodImage_00078.jpg, id: 1zM50zukQ8P7GRqeVi0oHguEx7h1S63f0\n",
      "downloading to /root/data/BloodImage_00078.jpg\n",
      "title: BloodImage_00077.jpg, id: 1ODflHrWVde_ESVI-bf_Cmp3jkJQpGcvy\n",
      "downloading to /root/data/BloodImage_00077.jpg\n",
      "title: BloodImage_00076.jpg, id: 1omBtDOfX3hN3zaIvUDHDHlxUZL2g_o-9\n",
      "downloading to /root/data/BloodImage_00076.jpg\n",
      "title: BloodImage_00075.jpg, id: 1HVL4qD7Np7sZXMETwI61IxvugxXB0eJ5\n",
      "downloading to /root/data/BloodImage_00075.jpg\n",
      "title: BloodImage_00074.jpg, id: 1ViTSaCjf92PoUh3tYPD-vUTzTYwpPapS\n",
      "downloading to /root/data/BloodImage_00074.jpg\n",
      "title: BloodImage_00072.jpg, id: 12E5btYz9w7LBDaOslDVqbnOQP2JfusbT\n",
      "downloading to /root/data/BloodImage_00072.jpg\n",
      "title: BloodImage_00073.jpg, id: 1t2G-UdN7dkANFEis_x6WrFw5G0w39TIR\n",
      "downloading to /root/data/BloodImage_00073.jpg\n",
      "title: BloodImage_00071.jpg, id: 1D29axOnILnI8QaJBzt9xWzPrz2TgCQcL\n",
      "downloading to /root/data/BloodImage_00071.jpg\n",
      "title: BloodImage_00070.jpg, id: 1KjOkMFh_Qkh4ZFcx5RsaX59v0qb8Ziru\n",
      "downloading to /root/data/BloodImage_00070.jpg\n",
      "title: BloodImage_00069.jpg, id: 1uAfRx-Yf8hZO4ds67RSydD5WjL1zV0EK\n",
      "downloading to /root/data/BloodImage_00069.jpg\n",
      "title: BloodImage_00068.jpg, id: 1upZ5bpsFE2epToegCtVq3aYP-SdY26oj\n",
      "downloading to /root/data/BloodImage_00068.jpg\n",
      "title: BloodImage_00067.jpg, id: 18PI_18VDxmhv8urXLf1FkDJR-6ymMiln\n",
      "downloading to /root/data/BloodImage_00067.jpg\n",
      "title: BloodImage_00066.jpg, id: 1gqdGE0VdrH_y2J_g4AzAEBQkKX_XMQ7p\n",
      "downloading to /root/data/BloodImage_00066.jpg\n",
      "title: BloodImage_00065.jpg, id: 1noHGtmNt2CmXKZDeRKhmnya_HIGjaICS\n",
      "downloading to /root/data/BloodImage_00065.jpg\n",
      "title: BloodImage_00064.jpg, id: 1ZTH7TzeZiVvPZwy0tK0qNy9YI-i7fyha\n",
      "downloading to /root/data/BloodImage_00064.jpg\n",
      "title: BloodImage_00063.jpg, id: 1wrdJFWZXHhURcsjK_ImAFSo_ofVXJDr3\n",
      "downloading to /root/data/BloodImage_00063.jpg\n",
      "title: BloodImage_00059.jpg, id: 1FDxdUMgaxCO04pFXaVG0v2RpqHC77yMy\n",
      "downloading to /root/data/BloodImage_00059.jpg\n",
      "title: BloodImage_00062.jpg, id: 1JH-GP4gZkxn8UnEkGuYVSck_aJPPAOas\n",
      "downloading to /root/data/BloodImage_00062.jpg\n",
      "title: BloodImage_00058.jpg, id: 1LkUF0GVWTWY5H4AapqZOKRqiisJVD7fC\n",
      "downloading to /root/data/BloodImage_00058.jpg\n",
      "title: BloodImage_00057.jpg, id: 1OQTyQA4WfAf-4WJG7KLnUMhVU7rMEFdl\n",
      "downloading to /root/data/BloodImage_00057.jpg\n",
      "title: BloodImage_00056.jpg, id: 1BxQigyf5E6_iGBhk7IynA3V3rmmjH-qJ\n",
      "downloading to /root/data/BloodImage_00056.jpg\n",
      "title: BloodImage_00055.jpg, id: 17-04zIfu-tcsCG7F0i-OZUHlGk-3q3v2\n",
      "downloading to /root/data/BloodImage_00055.jpg\n",
      "title: BloodImage_00054.jpg, id: 1fzwFqxymeyNYMuayYlXWrDPI6QZo54N8\n",
      "downloading to /root/data/BloodImage_00054.jpg\n",
      "title: BloodImage_00053.jpg, id: 15RxW7GtJMMZ_5_uXw5TfRC2ppexsnzch\n",
      "downloading to /root/data/BloodImage_00053.jpg\n",
      "title: BloodImage_00052.jpg, id: 1CXh8DXWjvK1TKnBe3WIm1PNVnIbH8yJE\n",
      "downloading to /root/data/BloodImage_00052.jpg\n",
      "title: BloodImage_00049.jpg, id: 1aCdetfHN-RNeokKu_Zfc8jZymSbAz5o2\n",
      "downloading to /root/data/BloodImage_00049.jpg\n",
      "title: BloodImage_00047.jpg, id: 19w_lmSvoZI6BmudSN8ksWURlkO1JCVuS\n",
      "downloading to /root/data/BloodImage_00047.jpg\n",
      "title: BloodImage_00045.jpg, id: 1KnhivVeI8bqHYY9Q1cLqS2of6xp3RAlO\n",
      "downloading to /root/data/BloodImage_00045.jpg\n",
      "title: BloodImage_00046.jpg, id: 1KE0pCFZo8Vj5ZkiASXpk-0LOlCIng6hI\n",
      "downloading to /root/data/BloodImage_00046.jpg\n",
      "title: BloodImage_00048.jpg, id: 1xFgBSqwi3jbKaz5_A15DWIE74jvyGUUt\n",
      "downloading to /root/data/BloodImage_00048.jpg\n",
      "title: BloodImage_00050.jpg, id: 14U3AJ6z1Cv1W9pwwhaM3zauWIkW871OR\n",
      "downloading to /root/data/BloodImage_00050.jpg\n",
      "title: BloodImage_00044.jpg, id: 1LQTMJPn10bXifqOBA7L9NcFhZ5fYoR3k\n",
      "downloading to /root/data/BloodImage_00044.jpg\n",
      "title: BloodImage_00043.jpg, id: 1QWG0a46hnZL2pKk53jzCWFUjv2ENobtO\n",
      "downloading to /root/data/BloodImage_00043.jpg\n",
      "title: BloodImage_00042.jpg, id: 1Mj22jFG5iRTuf9NvxH8EE6h33eNK8jNT\n",
      "downloading to /root/data/BloodImage_00042.jpg\n",
      "title: BloodImage_00041.jpg, id: 1CTsZfD_aFqp7dtEty-6C4u57IGkgxCtp\n",
      "downloading to /root/data/BloodImage_00041.jpg\n",
      "title: BloodImage_00039.jpg, id: 1-ya6astFS52XSWpH1d2WDoCpPMIrWEYO\n",
      "downloading to /root/data/BloodImage_00039.jpg\n",
      "title: BloodImage_00040.jpg, id: 1jURwVw6rmTg4e4FTqBRbaNxSbfz1rI-T\n",
      "downloading to /root/data/BloodImage_00040.jpg\n",
      "title: BloodImage_00038.jpg, id: 1bgGcenKTMtDjJdSTXLDaJWn_mkErQJVE\n",
      "downloading to /root/data/BloodImage_00038.jpg\n",
      "title: BloodImage_00037.jpg, id: 1h9QtU8D-i4Us3ZythNE0eqVdaLPP4DgJ\n",
      "downloading to /root/data/BloodImage_00037.jpg\n",
      "title: BloodImage_00036.jpg, id: 1T0afBm5FqAIHpjZtgJQZGa7x1kECYc4j\n",
      "downloading to /root/data/BloodImage_00036.jpg\n",
      "title: BloodImage_00035.jpg, id: 1rl_i3mFCeuc9UUCrYsq4ZmfIaajUAVmW\n",
      "downloading to /root/data/BloodImage_00035.jpg\n",
      "title: BloodImage_00034.jpg, id: 1e6zyap7yB5pYEtTqKTCRa-jg1Fnt7bsR\n",
      "downloading to /root/data/BloodImage_00034.jpg\n",
      "title: BloodImage_00033.jpg, id: 1rUeUieNjkhMdmNK6gXOmTphnjkeQSenJ\n",
      "downloading to /root/data/BloodImage_00033.jpg\n",
      "title: BloodImage_00032.jpg, id: 1IMr9aO-6rrXUERPsXiDLTrCvVOSOEwzk\n",
      "downloading to /root/data/BloodImage_00032.jpg\n",
      "title: BloodImage_00031.jpg, id: 1G43dTTqQMdLvqyKbjBNTGygx4GlzRtPx\n",
      "downloading to /root/data/BloodImage_00031.jpg\n",
      "title: BloodImage_00023.jpg, id: 1XN4Z34fXUEA1LZW4MrdOEX_2oCPCxG22\n",
      "downloading to /root/data/BloodImage_00023.jpg\n",
      "title: BloodImage_00022.jpg, id: 1exf9LP5ZZ9z5bTcODYh4Jdg1_O0vBElU\n",
      "downloading to /root/data/BloodImage_00022.jpg\n",
      "title: BloodImage_00021.jpg, id: 13aC4wxES7zsbuwJPRkx8Rf9ygd-ZmaOu\n",
      "downloading to /root/data/BloodImage_00021.jpg\n",
      "title: BloodImage_00020.jpg, id: 1aOluReRPR3a-RDwXUcewnXmPaYS0M-EG\n",
      "downloading to /root/data/BloodImage_00020.jpg\n",
      "title: BloodImage_00030.jpg, id: 1kaHy2L1pty5XDY1ow1-sroaPRYoSLQKG\n",
      "downloading to /root/data/BloodImage_00030.jpg\n",
      "title: BloodImage_00019.jpg, id: 1B5KU3ktjCBwDbpwsWTrUIDxxASO1phcG\n",
      "downloading to /root/data/BloodImage_00019.jpg\n",
      "title: BloodImage_00028.jpg, id: 1_ozev0_ik8-bjX9kU4LJvp6nr1PnTOK7\n",
      "downloading to /root/data/BloodImage_00028.jpg\n",
      "title: BloodImage_00026.jpg, id: 19PnZawyqOGUpVF5iUZ-iBOK_htOMi4yo\n",
      "downloading to /root/data/BloodImage_00026.jpg\n",
      "title: BloodImage_00029.jpg, id: 1xVsCD3wBtN29DveekMCH7bCfWj_iN4js\n",
      "downloading to /root/data/BloodImage_00029.jpg\n",
      "title: BloodImage_00018.jpg, id: 1DQ5CfiZZj1yIm9xpEreyv7b1Zmf5XWek\n",
      "downloading to /root/data/BloodImage_00018.jpg\n",
      "title: BloodImage_00017.jpg, id: 1QtbmLw0G6Vd-WC8o1u9Nw1WP028r0eKC\n",
      "downloading to /root/data/BloodImage_00017.jpg\n",
      "title: BloodImage_00024.jpg, id: 1851FTXWu__b5kQtN8Odi-tvxr7RV9jhg\n",
      "downloading to /root/data/BloodImage_00024.jpg\n",
      "title: BloodImage_00015.jpg, id: 1ixthhjbxqyMyYa_tNzkI-w6RM8ve2bHB\n",
      "downloading to /root/data/BloodImage_00015.jpg\n",
      "title: BloodImage_00014.jpg, id: 12ECyzNUTSQxMRrFkKX23kLOlrDbiop5R\n",
      "downloading to /root/data/BloodImage_00014.jpg\n",
      "title: BloodImage_00016.jpg, id: 15_fn18_Sh1hgQLnlbezYe4VimtatgCeO\n",
      "downloading to /root/data/BloodImage_00016.jpg\n",
      "title: BloodImage_00004.jpg, id: 1gWP5fci5jFLtG3tLCnykGoB5PagAhA1E\n",
      "downloading to /root/data/BloodImage_00004.jpg\n",
      "title: BloodImage_00005.jpg, id: 1eEP9Y3EDDnJdXEu3_1-aNYY8EtXl4tPx\n",
      "downloading to /root/data/BloodImage_00005.jpg\n",
      "title: BloodImage_00003.jpg, id: 12wqaM5su0SbW07yL0f7vfrWcdh9IAtFO\n",
      "downloading to /root/data/BloodImage_00003.jpg\n",
      "title: BloodImage_00013.jpg, id: 1zPjzu5f_wsujeb6v5EmlCt_WRCF_wmis\n",
      "downloading to /root/data/BloodImage_00013.jpg\n",
      "title: BloodImage_00011.jpg, id: 1Vl1zJyC_386L-99KVhn5XWRO4UMl9wCu\n",
      "downloading to /root/data/BloodImage_00011.jpg\n",
      "title: BloodImage_00010.jpg, id: 1z4Qs0DKiDGwdX17V-kLwk0UmvdomTyjb\n",
      "downloading to /root/data/BloodImage_00010.jpg\n",
      "title: BloodImage_00002.jpg, id: 1_DcfmS7sBvSKM1cwZECAzksfSASQF0G1\n",
      "downloading to /root/data/BloodImage_00002.jpg\n",
      "title: BloodImage_00012.jpg, id: 1NQbBuREWxWxlysP8pGnEzOYQpmqOWdl3\n",
      "downloading to /root/data/BloodImage_00012.jpg\n",
      "title: BloodImage_00001.jpg, id: 1SjFxxC9yHA9r13tBj9ghsdCZpQhBXK0y\n",
      "downloading to /root/data/BloodImage_00001.jpg\n",
      "title: BloodImage_00009.jpg, id: 1bdfAU7EORtDZ5OTI3M3UM3G3P20IBD_h\n",
      "downloading to /root/data/BloodImage_00009.jpg\n",
      "title: BloodImage_00007.jpg, id: 1hc0ShCXy9CnFXO37_WwPiPW3-V7cooMC\n",
      "downloading to /root/data/BloodImage_00007.jpg\n",
      "title: BloodImage_00000.jpg, id: 1Gn7Bs_dj_1hmPO6BN9kV6bjNU7gj8O_d\n",
      "downloading to /root/data/BloodImage_00000.jpg\n",
      "title: BloodImage_00006.jpg, id: 1IiTtf2_k2ad8EWKVk33OR2deOEND2Xn_\n",
      "downloading to /root/data/BloodImage_00006.jpg\n",
      "title: BloodImage_00008.jpg, id: 1YZU61FBaNTmALH3YSD1g8qlp2zabzxlb\n",
      "downloading to /root/data/BloodImage_00008.jpg\n"
     ]
    }
   ],
   "source": [
    "import os\n",
    "from pydrive.auth import GoogleAuth\n",
    "from pydrive.drive import GoogleDrive\n",
    "from google.colab import auth\n",
    "from oauth2client.client import GoogleCredentials\n",
    "\n",
    "# 1. Authenticate and create the PyDrive client.\n",
    "auth.authenticate_user()\n",
    "gauth = GoogleAuth()\n",
    "gauth.credentials = GoogleCredentials.get_application_default()\n",
    "drive = GoogleDrive(gauth)\n",
    "\n",
    "# choose a local (colab) directory to store the data.\n",
    "local_download_path = os.path.expanduser('~/data')\n",
    "try:\n",
    "  os.makedirs(local_download_path)\n",
    "except: pass\n",
    "\n",
    "# 2. Auto-iterate using the query syntax\n",
    "def download_folder_content(folder_id):\n",
    "  file_list = drive.ListFile(\n",
    "      {'q': \"'\" + folder_id + \"' in parents\"}).GetList()\n",
    "\n",
    "  for f in file_list:\n",
    "    # 3. Create & download by id.\n",
    "    print('title: %s, id: %s' % (f['title'], f['id']))\n",
    "    fname = os.path.join(local_download_path, f['title'])\n",
    "    if f['title'].find(\".\") != -1: # it's a file\n",
    "      print('downloading to {}'.format(fname))\n",
    "      f_ = drive.CreateFile({'id': f['id']})\n",
    "      f_.GetContentFile(fname)\n",
    "    else: # it's a folder\n",
    "      print(\"\\n Downloading Folder '{}'..\".format(f['title']))\n",
    "      download_folder_content(f['id'])\n",
    "\n",
    "## main folder id: 1yDay-si1jzWg9iT6SbNy3nkk7_0_Xhz7\n",
    "## images folder id: 1lq_CvZGmQ3PqZPrPSeOG-QVV-pHJCmCL\n",
    "data_folder_id = \"1lq_CvZGmQ3PqZPrPSeOG-QVV-pHJCmCL\" \n",
    "download_folder_content(data_folder_id)\n"
   ]
  },
  {
   "cell_type": "markdown",
   "metadata": {
    "colab_type": "text",
    "id": "VfycNgmoaYu3"
   },
   "source": [
    "\n",
    "# Getting Started"
   ]
  },
  {
   "cell_type": "code",
   "execution_count": 3,
   "metadata": {
    "colab": {},
    "colab_type": "code",
    "id": "2G_U-PsyaYu5"
   },
   "outputs": [
    {
     "name": "stderr",
     "output_type": "stream",
     "text": [
      "Using TensorFlow backend.\n"
     ]
    }
   ],
   "source": [
    "import numpy as np\n",
    "import pandas as pd\n",
    "import matplotlib.pyplot as plt\n",
    "import seaborn as sb\n",
    "from IPython.display import display # Allows the use of display() for DataFrames\n",
    "import cv2\n",
    "from keras.preprocessing import image\n",
    "from sklearn.model_selection  import train_test_split\n",
    "\n",
    "%matplotlib inline\n"
   ]
  },
  {
   "cell_type": "markdown",
   "metadata": {
    "colab_type": "text",
    "id": "UA9U2kxAaYu8"
   },
   "source": [
    "\n",
    "# Data Preprocessing\n"
   ]
  },
  {
   "cell_type": "markdown",
   "metadata": {
    "colab_type": "text",
    "id": "FdlhhnwuaYu9"
   },
   "source": [
    "## Read lables data"
   ]
  },
  {
   "cell_type": "code",
   "execution_count": 20,
   "metadata": {
    "colab": {
     "base_uri": "https://localhost:8080/",
     "height": 402
    },
    "colab_type": "code",
    "executionInfo": {
     "elapsed": 585,
     "status": "ok",
     "timestamp": 1535522933186,
     "user": {
      "displayName": "Youssef A.Mubarak",
      "photoUrl": "//lh3.googleusercontent.com/-OKDdxgYFboQ/AAAAAAAAAAI/AAAAAAAAAHc/_hX00tHoGvU/s50-c-k-no/photo.jpg",
      "userId": "111423931482360476978"
     },
     "user_tz": -120
    },
    "id": "TbxeA_SqaYu-",
    "outputId": "13cd1333-74d0-4b29-cc56-f08ed3e7e3f8"
   },
   "outputs": [
    {
     "data": {
      "text/html": [
       "<div>\n",
       "<style scoped>\n",
       "    .dataframe tbody tr th:only-of-type {\n",
       "        vertical-align: middle;\n",
       "    }\n",
       "\n",
       "    .dataframe tbody tr th {\n",
       "        vertical-align: top;\n",
       "    }\n",
       "\n",
       "    .dataframe thead th {\n",
       "        text-align: right;\n",
       "    }\n",
       "</style>\n",
       "<table border=\"1\" class=\"dataframe\">\n",
       "  <thead>\n",
       "    <tr style=\"text-align: right;\">\n",
       "      <th></th>\n",
       "      <th>Image</th>\n",
       "      <th>Category</th>\n",
       "    </tr>\n",
       "  </thead>\n",
       "  <tbody>\n",
       "    <tr>\n",
       "      <th>0</th>\n",
       "      <td>0</td>\n",
       "      <td>NEUTROPHIL</td>\n",
       "    </tr>\n",
       "    <tr>\n",
       "      <th>1</th>\n",
       "      <td>1</td>\n",
       "      <td>NEUTROPHIL</td>\n",
       "    </tr>\n",
       "    <tr>\n",
       "      <th>2</th>\n",
       "      <td>2</td>\n",
       "      <td>NEUTROPHIL</td>\n",
       "    </tr>\n",
       "    <tr>\n",
       "      <th>3</th>\n",
       "      <td>3</td>\n",
       "      <td>NEUTROPHIL</td>\n",
       "    </tr>\n",
       "    <tr>\n",
       "      <th>4</th>\n",
       "      <td>4</td>\n",
       "      <td>NEUTROPHIL</td>\n",
       "    </tr>\n",
       "    <tr>\n",
       "      <th>5</th>\n",
       "      <td>5</td>\n",
       "      <td>NEUTROPHIL</td>\n",
       "    </tr>\n",
       "    <tr>\n",
       "      <th>6</th>\n",
       "      <td>6</td>\n",
       "      <td>NEUTROPHIL</td>\n",
       "    </tr>\n",
       "    <tr>\n",
       "      <th>7</th>\n",
       "      <td>7</td>\n",
       "      <td>NEUTROPHIL</td>\n",
       "    </tr>\n",
       "    <tr>\n",
       "      <th>8</th>\n",
       "      <td>8</td>\n",
       "      <td>BASOPHIL</td>\n",
       "    </tr>\n",
       "    <tr>\n",
       "      <th>9</th>\n",
       "      <td>9</td>\n",
       "      <td>EOSINOPHIL</td>\n",
       "    </tr>\n",
       "    <tr>\n",
       "      <th>10</th>\n",
       "      <td>10</td>\n",
       "      <td>NEUTROPHIL, EOSINOPHIL</td>\n",
       "    </tr>\n",
       "  </tbody>\n",
       "</table>\n",
       "</div>"
      ],
      "text/plain": [
       "    Image                Category\n",
       "0       0              NEUTROPHIL\n",
       "1       1              NEUTROPHIL\n",
       "2       2              NEUTROPHIL\n",
       "3       3              NEUTROPHIL\n",
       "4       4              NEUTROPHIL\n",
       "5       5              NEUTROPHIL\n",
       "6       6              NEUTROPHIL\n",
       "7       7              NEUTROPHIL\n",
       "8       8                BASOPHIL\n",
       "9       9              EOSINOPHIL\n",
       "10     10  NEUTROPHIL, EOSINOPHIL"
      ]
     },
     "execution_count": 20,
     "metadata": {},
     "output_type": "execute_result"
    }
   ],
   "source": [
    "# read lables from a csv file\n",
    "labels = pd.read_csv(\"../dataset/labels.csv\")\n",
    "labels.head(11)"
   ]
  },
  {
   "cell_type": "markdown",
   "metadata": {
    "colab_type": "text",
    "id": "TVYKofbMaYvC"
   },
   "source": [
    "## Rename columns"
   ]
  },
  {
   "cell_type": "code",
   "execution_count": 21,
   "metadata": {
    "colab": {
     "base_uri": "https://localhost:8080/",
     "height": 402
    },
    "colab_type": "code",
    "executionInfo": {
     "elapsed": 7,
     "status": "ok",
     "timestamp": 1535523026840,
     "user": {
      "displayName": "Youssef A.Mubarak",
      "photoUrl": "//lh3.googleusercontent.com/-OKDdxgYFboQ/AAAAAAAAAAI/AAAAAAAAAHc/_hX00tHoGvU/s50-c-k-no/photo.jpg",
      "userId": "111423931482360476978"
     },
     "user_tz": -120
    },
    "id": "tRIoB-HiaYvE",
    "outputId": "3c3d2d8e-1f30-477f-8e40-cedbc66b309f"
   },
   "outputs": [
    {
     "data": {
      "text/html": [
       "<div>\n",
       "<style scoped>\n",
       "    .dataframe tbody tr th:only-of-type {\n",
       "        vertical-align: middle;\n",
       "    }\n",
       "\n",
       "    .dataframe tbody tr th {\n",
       "        vertical-align: top;\n",
       "    }\n",
       "\n",
       "    .dataframe thead th {\n",
       "        text-align: right;\n",
       "    }\n",
       "</style>\n",
       "<table border=\"1\" class=\"dataframe\">\n",
       "  <thead>\n",
       "    <tr style=\"text-align: right;\">\n",
       "      <th></th>\n",
       "      <th>Id</th>\n",
       "      <th>Type</th>\n",
       "    </tr>\n",
       "  </thead>\n",
       "  <tbody>\n",
       "    <tr>\n",
       "      <th>0</th>\n",
       "      <td>0</td>\n",
       "      <td>NEUTROPHIL</td>\n",
       "    </tr>\n",
       "    <tr>\n",
       "      <th>1</th>\n",
       "      <td>1</td>\n",
       "      <td>NEUTROPHIL</td>\n",
       "    </tr>\n",
       "    <tr>\n",
       "      <th>2</th>\n",
       "      <td>2</td>\n",
       "      <td>NEUTROPHIL</td>\n",
       "    </tr>\n",
       "    <tr>\n",
       "      <th>3</th>\n",
       "      <td>3</td>\n",
       "      <td>NEUTROPHIL</td>\n",
       "    </tr>\n",
       "    <tr>\n",
       "      <th>4</th>\n",
       "      <td>4</td>\n",
       "      <td>NEUTROPHIL</td>\n",
       "    </tr>\n",
       "    <tr>\n",
       "      <th>5</th>\n",
       "      <td>5</td>\n",
       "      <td>NEUTROPHIL</td>\n",
       "    </tr>\n",
       "    <tr>\n",
       "      <th>6</th>\n",
       "      <td>6</td>\n",
       "      <td>NEUTROPHIL</td>\n",
       "    </tr>\n",
       "    <tr>\n",
       "      <th>7</th>\n",
       "      <td>7</td>\n",
       "      <td>NEUTROPHIL</td>\n",
       "    </tr>\n",
       "    <tr>\n",
       "      <th>8</th>\n",
       "      <td>8</td>\n",
       "      <td>BASOPHIL</td>\n",
       "    </tr>\n",
       "    <tr>\n",
       "      <th>9</th>\n",
       "      <td>9</td>\n",
       "      <td>EOSINOPHIL</td>\n",
       "    </tr>\n",
       "    <tr>\n",
       "      <th>10</th>\n",
       "      <td>10</td>\n",
       "      <td>NEUTROPHIL, EOSINOPHIL</td>\n",
       "    </tr>\n",
       "  </tbody>\n",
       "</table>\n",
       "</div>"
      ],
      "text/plain": [
       "    Id                    Type\n",
       "0    0              NEUTROPHIL\n",
       "1    1              NEUTROPHIL\n",
       "2    2              NEUTROPHIL\n",
       "3    3              NEUTROPHIL\n",
       "4    4              NEUTROPHIL\n",
       "5    5              NEUTROPHIL\n",
       "6    6              NEUTROPHIL\n",
       "7    7              NEUTROPHIL\n",
       "8    8                BASOPHIL\n",
       "9    9              EOSINOPHIL\n",
       "10  10  NEUTROPHIL, EOSINOPHIL"
      ]
     },
     "execution_count": 21,
     "metadata": {},
     "output_type": "execute_result"
    }
   ],
   "source": [
    "labels = labels.rename(index=str, columns={\"Image\": \"Id\", \"Category\": \"Type\"})\n",
    "labels.head(11)"
   ]
  },
  {
   "cell_type": "markdown",
   "metadata": {
    "colab_type": "text",
    "id": "FwaXe4toaYvK"
   },
   "source": [
    "## Remove records with missing values"
   ]
  },
  {
   "cell_type": "code",
   "execution_count": 22,
   "metadata": {
    "colab": {
     "base_uri": "https://localhost:8080/",
     "height": 437
    },
    "colab_type": "code",
    "executionInfo": {
     "elapsed": 1000,
     "status": "ok",
     "timestamp": 1535523029415,
     "user": {
      "displayName": "Youssef A.Mubarak",
      "photoUrl": "//lh3.googleusercontent.com/-OKDdxgYFboQ/AAAAAAAAAAI/AAAAAAAAAHc/_hX00tHoGvU/s50-c-k-no/photo.jpg",
      "userId": "111423931482360476978"
     },
     "user_tz": -120
    },
    "id": "XX0HzVX-aYvK",
    "outputId": "b50a0abe-356f-4cb7-988c-ef10371abec5"
   },
   "outputs": [
    {
     "name": "stdout",
     "output_type": "stream",
     "text": [
      "Number of records before filtering: 411\n",
      "Number of records after filtering: 367\n"
     ]
    },
    {
     "data": {
      "text/html": [
       "<div>\n",
       "<style scoped>\n",
       "    .dataframe tbody tr th:only-of-type {\n",
       "        vertical-align: middle;\n",
       "    }\n",
       "\n",
       "    .dataframe tbody tr th {\n",
       "        vertical-align: top;\n",
       "    }\n",
       "\n",
       "    .dataframe thead th {\n",
       "        text-align: right;\n",
       "    }\n",
       "</style>\n",
       "<table border=\"1\" class=\"dataframe\">\n",
       "  <thead>\n",
       "    <tr style=\"text-align: right;\">\n",
       "      <th></th>\n",
       "      <th>Id</th>\n",
       "      <th>Type</th>\n",
       "    </tr>\n",
       "  </thead>\n",
       "  <tbody>\n",
       "    <tr>\n",
       "      <th>0</th>\n",
       "      <td>0</td>\n",
       "      <td>NEUTROPHIL</td>\n",
       "    </tr>\n",
       "    <tr>\n",
       "      <th>1</th>\n",
       "      <td>1</td>\n",
       "      <td>NEUTROPHIL</td>\n",
       "    </tr>\n",
       "    <tr>\n",
       "      <th>2</th>\n",
       "      <td>2</td>\n",
       "      <td>NEUTROPHIL</td>\n",
       "    </tr>\n",
       "    <tr>\n",
       "      <th>3</th>\n",
       "      <td>3</td>\n",
       "      <td>NEUTROPHIL</td>\n",
       "    </tr>\n",
       "    <tr>\n",
       "      <th>4</th>\n",
       "      <td>4</td>\n",
       "      <td>NEUTROPHIL</td>\n",
       "    </tr>\n",
       "    <tr>\n",
       "      <th>5</th>\n",
       "      <td>5</td>\n",
       "      <td>NEUTROPHIL</td>\n",
       "    </tr>\n",
       "    <tr>\n",
       "      <th>6</th>\n",
       "      <td>6</td>\n",
       "      <td>NEUTROPHIL</td>\n",
       "    </tr>\n",
       "    <tr>\n",
       "      <th>7</th>\n",
       "      <td>7</td>\n",
       "      <td>NEUTROPHIL</td>\n",
       "    </tr>\n",
       "    <tr>\n",
       "      <th>8</th>\n",
       "      <td>8</td>\n",
       "      <td>BASOPHIL</td>\n",
       "    </tr>\n",
       "    <tr>\n",
       "      <th>9</th>\n",
       "      <td>9</td>\n",
       "      <td>EOSINOPHIL</td>\n",
       "    </tr>\n",
       "    <tr>\n",
       "      <th>10</th>\n",
       "      <td>10</td>\n",
       "      <td>NEUTROPHIL, EOSINOPHIL</td>\n",
       "    </tr>\n",
       "  </tbody>\n",
       "</table>\n",
       "</div>"
      ],
      "text/plain": [
       "    Id                    Type\n",
       "0    0              NEUTROPHIL\n",
       "1    1              NEUTROPHIL\n",
       "2    2              NEUTROPHIL\n",
       "3    3              NEUTROPHIL\n",
       "4    4              NEUTROPHIL\n",
       "5    5              NEUTROPHIL\n",
       "6    6              NEUTROPHIL\n",
       "7    7              NEUTROPHIL\n",
       "8    8                BASOPHIL\n",
       "9    9              EOSINOPHIL\n",
       "10  10  NEUTROPHIL, EOSINOPHIL"
      ]
     },
     "execution_count": 22,
     "metadata": {},
     "output_type": "execute_result"
    }
   ],
   "source": [
    "# remove records with missing values\n",
    "print(\"Number of records before filtering:\", labels.shape[0])\n",
    "labels = labels.dropna()\n",
    "print(\"Number of records after filtering:\", labels.shape[0])\n",
    "labels.head(11)"
   ]
  },
  {
   "cell_type": "markdown",
   "metadata": {
    "colab_type": "text",
    "id": "fqdyHy3PaYvO"
   },
   "source": [
    "## Exclude labels corresponding to non-existing images"
   ]
  },
  {
   "cell_type": "code",
   "execution_count": 23,
   "metadata": {
    "colab": {
     "base_uri": "https://localhost:8080/",
     "height": 105
    },
    "colab_type": "code",
    "executionInfo": {
     "elapsed": 1746,
     "status": "ok",
     "timestamp": 1535523033696,
     "user": {
      "displayName": "Youssef A.Mubarak",
      "photoUrl": "//lh3.googleusercontent.com/-OKDdxgYFboQ/AAAAAAAAAAI/AAAAAAAAAHc/_hX00tHoGvU/s50-c-k-no/photo.jpg",
      "userId": "111423931482360476978"
     },
     "user_tz": -120
    },
    "id": "k7xYk83naYvO",
    "outputId": "342d40be-e57d-4480-b888-b18b2c0a4603"
   },
   "outputs": [
    {
     "name": "stdout",
     "output_type": "stream",
     "text": [
      "'BloodImage_00116.jpg' removed\n",
      "'BloodImage_00280.jpg' removed\n",
      "\n",
      "Number of records before filtering: 367\n",
      "Number of records after filtering: 365\n"
     ]
    }
   ],
   "source": [
    "data_folder = \"../dataset/images/\"\n",
    "indexes_to_remove = []\n",
    "for id in labels['Id']:\n",
    "    image_no = \"0\" * (5-len(str(id))) + str(id)\n",
    "    image_name = \"BloodImage_\" + image_no + \".jpg\"\n",
    "    image_file = cv2.imread(data_folder + image_name)\n",
    "    if image_file is None:\n",
    "        print(\"'{}' removed\".format(image_name))\n",
    "        indexes_to_remove.append(id)\n",
    "\n",
    "# remove records with no coresponding labels\n",
    "print(\"\\nNumber of records before filtering:\", labels.shape[0])\n",
    "labels = labels.loc[~labels['Id'].isin(indexes_to_remove)]\n",
    "print(\"Number of records after filtering:\", labels.shape[0])  \n",
    "\n",
    "# save modified labels into file\n",
    "labels.to_csv(data_folder + 'mod_labels.csv', index=False)"
   ]
  },
  {
   "cell_type": "markdown",
   "metadata": {
    "colab_type": "text",
    "id": "crTYA5aIh-qh"
   },
   "source": [
    "## Creating Helper Function"
   ]
  },
  {
   "cell_type": "code",
   "execution_count": 24,
   "metadata": {
    "colab": {
     "base_uri": "https://localhost:8080/",
     "height": 298
    },
    "colab_type": "code",
    "executionInfo": {
     "elapsed": 2664,
     "status": "ok",
     "timestamp": 1535523041140,
     "user": {
      "displayName": "Youssef A.Mubarak",
      "photoUrl": "//lh3.googleusercontent.com/-OKDdxgYFboQ/AAAAAAAAAAI/AAAAAAAAAHc/_hX00tHoGvU/s50-c-k-no/photo.jpg",
      "userId": "111423931482360476978"
     },
     "user_tz": -120
    },
    "id": "cbqrSoIXaYvV",
    "outputId": "a75ee625-5545-4010-ea19-609b0876cd88"
   },
   "outputs": [
    {
     "data": {
      "image/png": "[encoded data removed]",
      "text/plain": [
       "<Figure size 432x288 with 1 Axes>"
      ]
     },
     "metadata": {},
     "output_type": "display_data"
    }
   ],
   "source": [
    "# Creating a ploting function to plot image along with its label\n",
    "def plot_image(image_path):\n",
    "    index = int(image_path.split(\"_\")[-1].split(\".\")[0])  # extracting the image number from the path name\n",
    "    title = labels.iloc[index]['Type']\n",
    "    img = image.load_img(img_path)\n",
    "    x = image.img_to_array(img)\n",
    "    img = np.expand_dims(x, axis=0)\n",
    "    plt.title(title)\n",
    "    plt.axis('off')\n",
    "    plt.imshow(np.vstack(img).astype(np.uint8))\n",
    "\n",
    "# make sample calls\n",
    "img_path = data_folder + \"BloodImage_00002.jpg\"\n",
    "plot_image(img_path)\n"
   ]
  },
  {
   "cell_type": "markdown",
   "metadata": {
    "colab_type": "text",
    "id": "fv2X0fpyaYvZ"
   },
   "source": [
    "## Data Description: Blood types distribution\n",
    "\n",
    "It's important to view the distribution of datapoints for the different classes, as we want to know if the is impalanced or not."
   ]
  },
  {
   "cell_type": "code",
   "execution_count": 25,
   "metadata": {
    "colab": {
     "base_uri": "https://localhost:8080/",
     "height": 680
    },
    "colab_type": "code",
    "executionInfo": {
     "elapsed": 26234,
     "status": "ok",
     "timestamp": 1535523072087,
     "user": {
      "displayName": "Youssef A.Mubarak",
      "photoUrl": "//lh3.googleusercontent.com/-OKDdxgYFboQ/AAAAAAAAAAI/AAAAAAAAAHc/_hX00tHoGvU/s50-c-k-no/photo.jpg",
      "userId": "111423931482360476978"
     },
     "user_tz": -120
    },
    "id": "4dUaanxRaYva",
    "outputId": "9e2d4ed9-f711-45fc-9bfb-0cfdd5dd2701"
   },
   "outputs": [
    {
     "name": "stdout",
     "output_type": "stream",
     "text": [
      "BASOPHIL        4\n",
      "MONOCYTE       22\n",
      "LYMPHOCYTE     37\n",
      "EOSINOPHIL     94\n",
      "NEUTROPHIL    216\n",
      "dtype: int64\n"
     ]
    },
    {
     "data": {
      "text/plain": [
       "<matplotlib.axes._subplots.AxesSubplot at 0x53892c9b00>"
      ]
     },
     "execution_count": 25,
     "metadata": {},
     "output_type": "execute_result"
    },
    {
     "data": {
      "image/png": "[encoded data removed]",
      "text/plain": [
       "<Figure size 1080x576 with 1 Axes>"
      ]
     },
     "metadata": {},
     "output_type": "display_data"
    }
   ],
   "source": [
    "import string\n",
    "\n",
    "blood_types = ['LYMPHOCYTE','MONOCYTE', 'BASOPHIL','EOSINOPHIL','NEUTROPHIL']\n",
    "blood_types_count = [len(labels.loc[labels['Type'].str.find(blood_types[0]) != -1]),\n",
    "               len(labels.loc[labels['Type'].str.find(blood_types[1]) != -1]),\n",
    "               len(labels.loc[labels['Type'].str.find(blood_types[2]) != -1]),\n",
    "               len(labels.loc[labels['Type'].str.find(blood_types[3]) != -1]),\n",
    "               len(labels.loc[labels['Type'].str.find(blood_types[4]) != -1])]\n",
    "\n",
    "\n",
    "# plot the distribution of blood types\n",
    "blood_types_series = pd.Series(blood_types_count, index=blood_types).sort_values()\n",
    "print(blood_types_series)\n",
    "blood_types_series.plot.bar(title=\"Number of images per type\", figsize=(15,8))\n"
   ]
  },
  {
   "cell_type": "markdown",
   "metadata": {
    "colab_type": "text",
    "id": "vWqbwFYyaYvd"
   },
   "source": [
    "Here we can see that with the original images we have *imbalanced* class sizes."
   ]
  },
  {
   "cell_type": "markdown",
   "metadata": {
    "colab_type": "text",
    "id": "PEy7fG28aYve"
   },
   "source": [
    "## Execluding the 'BASOPHIL' class"
   ]
  },
  {
   "cell_type": "code",
   "execution_count": 26,
   "metadata": {
    "colab": {
     "base_uri": "https://localhost:8080/",
     "height": 178
    },
    "colab_type": "code",
    "executionInfo": {
     "elapsed": 597,
     "status": "ok",
     "timestamp": 1535523141240,
     "user": {
      "displayName": "Youssef A.Mubarak",
      "photoUrl": "//lh3.googleusercontent.com/-OKDdxgYFboQ/AAAAAAAAAAI/AAAAAAAAAHc/_hX00tHoGvU/s50-c-k-no/photo.jpg",
      "userId": "111423931482360476978"
     },
     "user_tz": -120
    },
    "id": "8SIAb-IiaYve",
    "outputId": "89e6fdde-e5ed-4939-be97-150aef84c05c"
   },
   "outputs": [
    {
     "data": {
      "text/html": [
       "<div>\n",
       "<style scoped>\n",
       "    .dataframe tbody tr th:only-of-type {\n",
       "        vertical-align: middle;\n",
       "    }\n",
       "\n",
       "    .dataframe tbody tr th {\n",
       "        vertical-align: top;\n",
       "    }\n",
       "\n",
       "    .dataframe thead th {\n",
       "        text-align: right;\n",
       "    }\n",
       "</style>\n",
       "<table border=\"1\" class=\"dataframe\">\n",
       "  <thead>\n",
       "    <tr style=\"text-align: right;\">\n",
       "      <th></th>\n",
       "      <th>Id</th>\n",
       "      <th>Type</th>\n",
       "    </tr>\n",
       "  </thead>\n",
       "  <tbody>\n",
       "    <tr>\n",
       "      <th>8</th>\n",
       "      <td>8</td>\n",
       "      <td>BASOPHIL</td>\n",
       "    </tr>\n",
       "    <tr>\n",
       "      <th>34</th>\n",
       "      <td>34</td>\n",
       "      <td>NEUTROPHIL,BASOPHIL</td>\n",
       "    </tr>\n",
       "    <tr>\n",
       "      <th>132</th>\n",
       "      <td>132</td>\n",
       "      <td>BASOPHIL</td>\n",
       "    </tr>\n",
       "    <tr>\n",
       "      <th>171</th>\n",
       "      <td>171</td>\n",
       "      <td>BASOPHIL</td>\n",
       "    </tr>\n",
       "  </tbody>\n",
       "</table>\n",
       "</div>"
      ],
      "text/plain": [
       "      Id                 Type\n",
       "8      8             BASOPHIL\n",
       "34    34  NEUTROPHIL,BASOPHIL\n",
       "132  132             BASOPHIL\n",
       "171  171             BASOPHIL"
      ]
     },
     "execution_count": 26,
     "metadata": {},
     "output_type": "execute_result"
    }
   ],
   "source": [
    "# samples of 'BASOPHIL' class\n",
    "labels.loc[labels['Type'].str.find('BASOPHIL') != -1]\n"
   ]
  },
  {
   "cell_type": "markdown",
   "metadata": {
    "colab_type": "text",
    "id": "3qkcG9ZbaYvk"
   },
   "source": [
    "Since this class has only 4 samples, we will exclude it."
   ]
  },
  {
   "cell_type": "code",
   "execution_count": 27,
   "metadata": {
    "colab": {
     "base_uri": "https://localhost:8080/",
     "height": 70
    },
    "colab_type": "code",
    "executionInfo": {
     "elapsed": 577,
     "status": "ok",
     "timestamp": 1535523144046,
     "user": {
      "displayName": "Youssef A.Mubarak",
      "photoUrl": "//lh3.googleusercontent.com/-OKDdxgYFboQ/AAAAAAAAAAI/AAAAAAAAAHc/_hX00tHoGvU/s50-c-k-no/photo.jpg",
      "userId": "111423931482360476978"
     },
     "user_tz": -120
    },
    "id": "jFlnTg_QaYvl",
    "outputId": "35647c2c-c767-4ed6-8243-b6d3554df4c9"
   },
   "outputs": [
    {
     "name": "stdout",
     "output_type": "stream",
     "text": [
      "\n",
      "Number of records before filtering: 365\n",
      "Number of records after filtering: 361\n"
     ]
    }
   ],
   "source": [
    "blood_types.remove('BASOPHIL')\n",
    "print(\"\\nNumber of records before filtering:\", labels.shape[0])\n",
    "labels = labels.loc[labels['Type'].str.find('BASOPHIL') == -1]\n",
    "print(\"Number of records after filtering:\", labels.shape[0])"
   ]
  },
  {
   "cell_type": "markdown",
   "metadata": {
    "colab_type": "text",
    "id": "kGIPSaj1aYvp"
   },
   "source": [
    "## Execluding multilabeld samples  \n",
    "\n",
    "we will not consider images with more than label since they're too few and making a dedicated class for them will imbalance the class sizes."
   ]
  },
  {
   "cell_type": "code",
   "execution_count": 28,
   "metadata": {
    "colab": {
     "base_uri": "https://localhost:8080/",
     "height": 498
    },
    "colab_type": "code",
    "executionInfo": {
     "elapsed": 573,
     "status": "ok",
     "timestamp": 1535523145920,
     "user": {
      "displayName": "Youssef A.Mubarak",
      "photoUrl": "//lh3.googleusercontent.com/-OKDdxgYFboQ/AAAAAAAAAAI/AAAAAAAAAHc/_hX00tHoGvU/s50-c-k-no/photo.jpg",
      "userId": "111423931482360476978"
     },
     "user_tz": -120
    },
    "id": "PT4Y8YG4aYvp",
    "outputId": "239dbedd-7ad7-4186-cf4e-a4b1bcb15024"
   },
   "outputs": [
    {
     "data": {
      "text/html": [
       "<div>\n",
       "<style scoped>\n",
       "    .dataframe tbody tr th:only-of-type {\n",
       "        vertical-align: middle;\n",
       "    }\n",
       "\n",
       "    .dataframe tbody tr th {\n",
       "        vertical-align: top;\n",
       "    }\n",
       "\n",
       "    .dataframe thead th {\n",
       "        text-align: right;\n",
       "    }\n",
       "</style>\n",
       "<table border=\"1\" class=\"dataframe\">\n",
       "  <thead>\n",
       "    <tr style=\"text-align: right;\">\n",
       "      <th></th>\n",
       "      <th>Id</th>\n",
       "      <th>Type</th>\n",
       "    </tr>\n",
       "  </thead>\n",
       "  <tbody>\n",
       "    <tr>\n",
       "      <th>10</th>\n",
       "      <td>10</td>\n",
       "      <td>NEUTROPHIL, EOSINOPHIL</td>\n",
       "    </tr>\n",
       "    <tr>\n",
       "      <th>31</th>\n",
       "      <td>31</td>\n",
       "      <td>NEUTROPHIL,NEUTROPHIL</td>\n",
       "    </tr>\n",
       "    <tr>\n",
       "      <th>43</th>\n",
       "      <td>43</td>\n",
       "      <td>NEUTROPHIL, MONOCYTE</td>\n",
       "    </tr>\n",
       "    <tr>\n",
       "      <th>44</th>\n",
       "      <td>44</td>\n",
       "      <td>EOSINOPHIL,EOSINOPHIL</td>\n",
       "    </tr>\n",
       "    <tr>\n",
       "      <th>65</th>\n",
       "      <td>65</td>\n",
       "      <td>NEUTROPHIL, NEUTROPHIL</td>\n",
       "    </tr>\n",
       "    <tr>\n",
       "      <th>70</th>\n",
       "      <td>70</td>\n",
       "      <td>EOSINOPHIL, LYMPHOCYTE</td>\n",
       "    </tr>\n",
       "    <tr>\n",
       "      <th>103</th>\n",
       "      <td>103</td>\n",
       "      <td>EOSINOPHIL, EOSINOPHIL</td>\n",
       "    </tr>\n",
       "    <tr>\n",
       "      <th>176</th>\n",
       "      <td>176</td>\n",
       "      <td>MONOCYTE, LYMPHOCYTE</td>\n",
       "    </tr>\n",
       "    <tr>\n",
       "      <th>193</th>\n",
       "      <td>193</td>\n",
       "      <td>NEUTROPHIL, EOSINOPHIL</td>\n",
       "    </tr>\n",
       "    <tr>\n",
       "      <th>195</th>\n",
       "      <td>195</td>\n",
       "      <td>LYMPHOCYTE, LYMPHOCYTE</td>\n",
       "    </tr>\n",
       "    <tr>\n",
       "      <th>242</th>\n",
       "      <td>242</td>\n",
       "      <td>NEUTROPHIL,EOSINOPHIL</td>\n",
       "    </tr>\n",
       "    <tr>\n",
       "      <th>249</th>\n",
       "      <td>249</td>\n",
       "      <td>NEUTROPHIL, NEUTROPHIL</td>\n",
       "    </tr>\n",
       "    <tr>\n",
       "      <th>313</th>\n",
       "      <td>313</td>\n",
       "      <td>NEUTROPHIL, LYMPHOCYTE</td>\n",
       "    </tr>\n",
       "    <tr>\n",
       "      <th>374</th>\n",
       "      <td>374</td>\n",
       "      <td>NEUTROPHIL, NEUTROPHIL</td>\n",
       "    </tr>\n",
       "  </tbody>\n",
       "</table>\n",
       "</div>"
      ],
      "text/plain": [
       "      Id                    Type\n",
       "10    10  NEUTROPHIL, EOSINOPHIL\n",
       "31    31   NEUTROPHIL,NEUTROPHIL\n",
       "43    43    NEUTROPHIL, MONOCYTE\n",
       "44    44   EOSINOPHIL,EOSINOPHIL\n",
       "65    65  NEUTROPHIL, NEUTROPHIL\n",
       "70    70  EOSINOPHIL, LYMPHOCYTE\n",
       "103  103  EOSINOPHIL, EOSINOPHIL\n",
       "176  176    MONOCYTE, LYMPHOCYTE\n",
       "193  193  NEUTROPHIL, EOSINOPHIL\n",
       "195  195  LYMPHOCYTE, LYMPHOCYTE\n",
       "242  242   NEUTROPHIL,EOSINOPHIL\n",
       "249  249  NEUTROPHIL, NEUTROPHIL\n",
       "313  313  NEUTROPHIL, LYMPHOCYTE\n",
       "374  374  NEUTROPHIL, NEUTROPHIL"
      ]
     },
     "execution_count": 28,
     "metadata": {},
     "output_type": "execute_result"
    }
   ],
   "source": [
    "# multilabeld samples\n",
    "labels.loc[labels['Type'].str.find(',') != -1]"
   ]
  },
  {
   "cell_type": "code",
   "execution_count": 29,
   "metadata": {
    "colab": {
     "base_uri": "https://localhost:8080/",
     "height": 70
    },
    "colab_type": "code",
    "executionInfo": {
     "elapsed": 7120,
     "status": "ok",
     "timestamp": 1535523163087,
     "user": {
      "displayName": "Youssef A.Mubarak",
      "photoUrl": "//lh3.googleusercontent.com/-OKDdxgYFboQ/AAAAAAAAAAI/AAAAAAAAAHc/_hX00tHoGvU/s50-c-k-no/photo.jpg",
      "userId": "111423931482360476978"
     },
     "user_tz": -120
    },
    "id": "po9AQ_bJaYvu",
    "outputId": "58c36d90-fdda-4bc2-9640-7d557c319e05"
   },
   "outputs": [
    {
     "name": "stdout",
     "output_type": "stream",
     "text": [
      "\n",
      "Number of records before filtering: 361\n",
      "Number of records after filtering: 347\n"
     ]
    }
   ],
   "source": [
    "print(\"\\nNumber of records before filtering:\", labels.shape[0])\n",
    "labels = labels.loc[labels['Type'].str.find(',') == -1]\n",
    "print(\"Number of records after filtering:\", labels.shape[0])"
   ]
  },
  {
   "cell_type": "markdown",
   "metadata": {},
   "source": [
    "## Distribution After Preprocessing"
   ]
  },
  {
   "cell_type": "code",
   "execution_count": 30,
   "metadata": {},
   "outputs": [
    {
     "name": "stdout",
     "output_type": "stream",
     "text": [
      "{'LYMPHOCYTE': 33, 'MONOCYTE': 20, 'EOSINOPHIL': 88, 'NEUTROPHIL': 206}\n"
     ]
    },
    {
     "data": {
      "image/png": "[encoded data removed]",
      "text/plain": [
       "<Figure size 1080x576 with 1 Axes>"
      ]
     },
     "metadata": {},
     "output_type": "display_data"
    }
   ],
   "source": [
    "pd.value_counts(labels['Type'], ascending=True).plot.bar(title=\"Number of images per type\", figsize=(15,8))\n",
    "\n",
    "# create dictionary for number of class instances\n",
    "types_count = {blood_types[0]: len(labels.loc[labels['Type'].str.find(blood_types[0]) != -1]),\n",
    "               blood_types[1]: len(labels.loc[labels['Type'].str.find(blood_types[1]) != -1]),\n",
    "               blood_types[2]: len(labels.loc[labels['Type'].str.find(blood_types[2]) != -1]),\n",
    "               blood_types[3]: len(labels.loc[labels['Type'].str.find(blood_types[3]) != -1])\n",
    "              }\n",
    "\n",
    "\n",
    "print(types_count)\n"
   ]
  },
  {
   "cell_type": "markdown",
   "metadata": {
    "colab_type": "text",
    "id": "Kio34-gLaYvz"
   },
   "source": [
    "  \n",
    "## Load image data\n"
   ]
  },
  {
   "cell_type": "code",
   "execution_count": 31,
   "metadata": {
    "colab": {
     "base_uri": "https://localhost:8080/",
     "height": 34
    },
    "colab_type": "code",
    "executionInfo": {
     "elapsed": 46,
     "status": "ok",
     "timestamp": 1535523533511,
     "user": {
      "displayName": "Youssef A.Mubarak",
      "photoUrl": "//lh3.googleusercontent.com/-OKDdxgYFboQ/AAAAAAAAAAI/AAAAAAAAAHc/_hX00tHoGvU/s50-c-k-no/photo.jpg",
      "userId": "111423931482360476978"
     },
     "user_tz": -120
    },
    "id": "C0uA9Yy2aYv0",
    "outputId": "8c7c8d54-c71d-4121-822b-19bdc132d244"
   },
   "outputs": [
    {
     "data": {
      "text/plain": [
       "(347, 244, 244, 3)"
      ]
     },
     "execution_count": 31,
     "metadata": {},
     "output_type": "execute_result"
    }
   ],
   "source": [
    "#\n",
    "images = []\n",
    "for id in labels['Id']:\n",
    "    image_no = \"0\" * (5-len(str(id))) + str(id)\n",
    "    image_name = \"BloodImage_\" + image_no + \".jpg\"\n",
    "     # loads RGB image as PIL.Image.Image type\n",
    "    img_path = data_folder + image_name\n",
    "    img = image.load_img(img_path, target_size=(244, 244))\n",
    "    # convert PIL.Image.Image type to 3D tensor with shape (224, 224, 3)\n",
    "    x = image.img_to_array(img)\n",
    "    # convert 3D tensor to 4D tensor with shape (1, 224, 224, 3) and return 4D tensor\n",
    "    img = np.expand_dims(x, axis=0)\n",
    "    images.append(img)\n",
    "    \n",
    "#\n",
    "images = np.vstack(images)\n",
    "images = images.astype(np.uint8)\n",
    "images.shape\n"
   ]
  },
  {
   "cell_type": "markdown",
   "metadata": {
    "colab_type": "text",
    "id": "EbpcHbUQaYv7"
   },
   "source": [
    "## Visualize Sample Images"
   ]
  },
  {
   "cell_type": "code",
   "execution_count": 32,
   "metadata": {
    "colab": {
     "base_uri": "https://localhost:8080/",
     "height": 190
    },
    "colab_type": "code",
    "executionInfo": {
     "elapsed": 2428,
     "status": "ok",
     "timestamp": 1535523248035,
     "user": {
      "displayName": "Youssef A.Mubarak",
      "photoUrl": "//lh3.googleusercontent.com/-OKDdxgYFboQ/AAAAAAAAAAI/AAAAAAAAAHc/_hX00tHoGvU/s50-c-k-no/photo.jpg",
      "userId": "111423931482360476978"
     },
     "user_tz": -120
    },
    "id": "Hx-hEnfqaYv7",
    "outputId": "e97acaa3-5371-40c3-e8d7-23db9e31e3d1"
   },
   "outputs": [
    {
     "data": {
      "image/png": "[encoded data removed]",
      "text/plain": [
       "<Figure size 1440x1440 with 5 Axes>"
      ]
     },
     "metadata": {},
     "output_type": "display_data"
    }
   ],
   "source": [
    "fig = plt.figure(figsize=(20,20))\n",
    "for i in range(5):\n",
    "    ax = fig.add_subplot(1, 6, i+1, xticks=[], yticks=[])\n",
    "    ax.imshow(images[i])"
   ]
  },
  {
   "cell_type": "markdown",
   "metadata": {
    "colab_type": "text",
    "id": "FR3PdbbWaYwI"
   },
   "source": [
    "  \n",
    "## Splitting data\n"
   ]
  },
  {
   "cell_type": "code",
   "execution_count": 33,
   "metadata": {
    "colab": {
     "base_uri": "https://localhost:8080/",
     "height": 70
    },
    "colab_type": "code",
    "executionInfo": {
     "elapsed": 11321,
     "status": "ok",
     "timestamp": 1535523269731,
     "user": {
      "displayName": "Youssef A.Mubarak",
      "photoUrl": "//lh3.googleusercontent.com/-OKDdxgYFboQ/AAAAAAAAAAI/AAAAAAAAAHc/_hX00tHoGvU/s50-c-k-no/photo.jpg",
      "userId": "111423931482360476978"
     },
     "user_tz": -120
    },
    "id": "rh1EqIA5aYwJ",
    "outputId": "f4388c58-d7d5-417c-e993-9b1f88e60581",
    "scrolled": true
   },
   "outputs": [
    {
     "name": "stdout",
     "output_type": "stream",
     "text": [
      "Total size of dataset: 347\n",
      "Size of training set: 277\n",
      "Size of testing set: 70\n"
     ]
    }
   ],
   "source": [
    "# Shuffle and split the data into training and testing subsets\n",
    "target = labels.drop(['Id'], axis=1)\n",
    "X_train, X_test, y_train, y_test = train_test_split(images, target, test_size=0.20, random_state=7)\n",
    "\n",
    "print(\"Total size of dataset:\", len(images))\n",
    "print(\"Size of training set:\", len(X_train))\n",
    "print(\"Size of testing set:\", len(X_test))\n"
   ]
  },
  {
   "cell_type": "markdown",
   "metadata": {},
   "source": [
    "## Saving Data"
   ]
  },
  {
   "cell_type": "code",
   "execution_count": 113,
   "metadata": {
    "scrolled": true
   },
   "outputs": [
    {
     "name": "stderr",
     "output_type": "stream",
     "text": [
      "c:\\users\\win8.1\\appdata\\local\\programs\\python\\python36\\lib\\site-packages\\ipykernel_launcher.py:5: DeprecationWarning: `toimage` is deprecated!\n",
      "`toimage` is deprecated in SciPy 1.0.0, and will be removed in 1.2.0.\n",
      "Use Pillow's ``Image.fromarray`` directly instead.\n",
      "  \"\"\"\n",
      "c:\\users\\win8.1\\appdata\\local\\programs\\python\\python36\\lib\\site-packages\\ipykernel_launcher.py:10: DeprecationWarning: `toimage` is deprecated!\n",
      "`toimage` is deprecated in SciPy 1.0.0, and will be removed in 1.2.0.\n",
      "Use Pillow's ``Image.fromarray`` directly instead.\n",
      "  # Remove the CWD from sys.path while we load stuff.\n"
     ]
    }
   ],
   "source": [
    "import scipy.misc\n",
    "\n",
    "\n",
    "for i, img in enumerate(X_train):\n",
    "    scipy.misc.toimage(img, cmin=0.0).save('../dataset/TRAINING/training_'+str(i)+'.jpg')\n",
    "\n",
    "y_train.to_csv('../dataset/y_train.csv', index=False)\n",
    "\n",
    "for i, img in enumerate(X_test):\n",
    "    scipy.misc.toimage(img, cmin=0.0).save('../dataset/TEST/testing_'+str(i)+'.jpg')\n",
    "\n",
    "y_test.to_csv('../dataset/y_test.csv', index=False)\n"
   ]
  },
  {
   "cell_type": "markdown",
   "metadata": {},
   "source": [
    "## Loading Saved Data"
   ]
  },
  {
   "cell_type": "code",
   "execution_count": 98,
   "metadata": {
    "scrolled": false
   },
   "outputs": [
    {
     "name": "stdout",
     "output_type": "stream",
     "text": [
      "Training set: (277, 244, 244, 3)\n",
      "Testing set: (70, 244, 244, 3)\n"
     ]
    }
   ],
   "source": [
    "# load labels\n",
    "y_train = pd.read_csv('../dataset/y_train.csv')\n",
    "y_test = pd.read_csv('../dataset/y_test.csv')\n",
    "\n",
    "# load training and testing images\n",
    "def get_images(path, size, data_type):\n",
    "    images = []\n",
    "    for i in range(size):\n",
    "        image_name = data_type + '_' + str(i) + \".jpg\"\n",
    "         # loads RGB image as PIL.Image.Image type\n",
    "        img_path = path + image_name\n",
    "        img = image.load_img(img_path)\n",
    "        # convert PIL.Image.Image type to 3D tensor\n",
    "        x = image.img_to_array(img)\n",
    "        # convert 3D tensor to 4D tensor and return 4D tensor\n",
    "        img = np.expand_dims(x, axis=0)\n",
    "        images.append(img)\n",
    "        #\n",
    "    images = np.vstack(images)\n",
    "    images = images.astype(np.uint8)\n",
    "    return images\n",
    "\n",
    "# load training set\n",
    "X_train = get_images('../dataset/TRAINING/', y_train.shape[0], 'training')\n",
    "# load testin set\n",
    "X_test = get_images('../dataset/TEST/', y_test.shape[0], 'testing')\n",
    "\n",
    "print(\"Training set:\", X_train.shape)\n",
    "print(\"Testing set:\", X_test.shape)\n"
   ]
  },
  {
   "cell_type": "markdown",
   "metadata": {
    "colab_type": "text",
    "id": "DI0xSDjLaYwQ"
   },
   "source": [
    "## Make validation set"
   ]
  },
  {
   "cell_type": "code",
   "execution_count": 99,
   "metadata": {
    "colab": {
     "base_uri": "https://localhost:8080/",
     "height": 34
    },
    "colab_type": "code",
    "executionInfo": {
     "elapsed": 551,
     "status": "ok",
     "timestamp": 1535523360021,
     "user": {
      "displayName": "Youssef A.Mubarak",
      "photoUrl": "//lh3.googleusercontent.com/-OKDdxgYFboQ/AAAAAAAAAAI/AAAAAAAAAHc/_hX00tHoGvU/s50-c-k-no/photo.jpg",
      "userId": "111423931482360476978"
     },
     "user_tz": -120
    },
    "id": "xDc-2xrJaYwR",
    "outputId": "640e5f9e-52e5-4de2-927e-73b88052e272",
    "scrolled": true
   },
   "outputs": [
    {
     "name": "stdout",
     "output_type": "stream",
     "text": [
      "training, validation (Pre-augmented) : ( 221 , 56 )\n"
     ]
    }
   ],
   "source": [
    "X_train, X_validation, y_train, y_validation = train_test_split(X_train,\n",
    "                                                                y_train, test_size=0.20,\n",
    "                                                                random_state=7)\n",
    "\n",
    "print(\"training, validation (Pre-augmented) : (\", len(X_train),\",\",len(X_validation),\")\")\n"
   ]
  },
  {
   "cell_type": "markdown",
   "metadata": {
    "colab_type": "text",
    "id": "A3q7IwpwaYwW"
   },
   "source": [
    "# Data augmentation"
   ]
  },
  {
   "cell_type": "markdown",
   "metadata": {},
   "source": [
    "## Creating Data Generator"
   ]
  },
  {
   "cell_type": "code",
   "execution_count": 68,
   "metadata": {
    "colab": {
     "base_uri": "https://localhost:8080/",
     "height": 87
    },
    "colab_type": "code",
    "executionInfo": {
     "elapsed": 3737,
     "status": "ok",
     "timestamp": 1535523364993,
     "user": {
      "displayName": "Youssef A.Mubarak",
      "photoUrl": "//lh3.googleusercontent.com/-OKDdxgYFboQ/AAAAAAAAAAI/AAAAAAAAAHc/_hX00tHoGvU/s50-c-k-no/photo.jpg",
      "userId": "111423931482360476978"
     },
     "user_tz": -120
    },
    "id": "0DHpKOdaaYwX",
    "outputId": "134d0473-bb7b-4996-c871-bef6af09b7d9"
   },
   "outputs": [],
   "source": [
    "from keras.preprocessing import image\n",
    "\n",
    "# create data generator\n",
    "datagen_train = image.ImageDataGenerator(\n",
    "    rotation_range=20,\n",
    "    width_shift_range=0.1,\n",
    "    height_shift_range=0.1,\n",
    "    horizontal_flip=True,\n",
    "    vertical_flip=True)\n",
    "\n",
    "\n",
    "# create and configure augmented image generator\n",
    "datagen_valid = image.ImageDataGenerator(\n",
    "    width_shift_range=0.1,  # randomly shift images horizontally (10% of total width)\n",
    "    height_shift_range=0.1,  # randomly shift images vertically (10% of total height)\n",
    "    horizontal_flip=True) # randomly flip images horizontally\n",
    "\n",
    "# fit augmented image generator on data\n",
    "datagen_train.fit(X_train, augment=True)\n",
    "datagen_valid.fit(X_validation)\n"
   ]
  },
  {
   "cell_type": "markdown",
   "metadata": {},
   "source": [
    "## Augmenting Types Classes"
   ]
  },
  {
   "cell_type": "code",
   "execution_count": 117,
   "metadata": {
    "scrolled": true
   },
   "outputs": [
    {
     "name": "stdout",
     "output_type": "stream",
     "text": [
      "Class \"LYMPHOCYTE\" has been augmented with 2864\n",
      "Class \"MONOCYTE\" has been augmented with 2896\n",
      "Class \"EOSINOPHIL\" has been augmented with 2800\n",
      "Class \"NEUTROPHIL\" has been augmented with 2717\n"
     ]
    }
   ],
   "source": [
    "import os\n",
    "\n",
    "labels = []\n",
    "aug_count = {}\n",
    "classes = ['EOSINOPHIL', 'LYMPHOCYTE', 'MONOCYTE', 'NEUTROPHIL']\n",
    "for c in classes:\n",
    "    #\n",
    "    #print(c)\n",
    "    class_y_train = y_train.loc[y_train['Type'] == c]\n",
    "    class_x_train = []\n",
    "    for i in class_y_train.index:\n",
    "        class_x_train.append(X_train[i])\n",
    "    class_x_train = np.array(class_x_train)\n",
    "    #\n",
    "    total_size_of_class = 3000 \n",
    "    batch_size = 32\n",
    "    batches = 0\n",
    "    #\n",
    "    for X_batch, y_batch in datagen_train.flow(X_train, y_train, batch_size=32,\n",
    "                save_to_dir='..\\\\dataset\\\\aug_train\\\\'+c, save_prefix=c[:3], save_format='jpg'):\n",
    "        batches += 1\n",
    "        if batches >= (total_size_of_class-types_count[c])/batch_size:\n",
    "            break\n",
    "    size = len(os.listdir('..\\\\dataset\\\\aug_train\\\\'+c+'\\\\'))\n",
    "    aug_count[c] = size\n",
    "    print('Class \"{}\" has been augmented with {}'.format(c, size))\n",
    "\n",
    "\n"
   ]
  },
  {
   "cell_type": "markdown",
   "metadata": {},
   "source": [
    "## Distribution of Data After Augmentation"
   ]
  },
  {
   "cell_type": "code",
   "execution_count": 131,
   "metadata": {},
   "outputs": [
    {
     "data": {
      "text/plain": [
       "<matplotlib.axes._subplots.AxesSubplot at 0x460008b630>"
      ]
     },
     "execution_count": 131,
     "metadata": {},
     "output_type": "execute_result"
    },
    {
     "data": {
      "image/png": "[encoded data removed]",
      "text/plain": [
       "<Figure size 1080x576 with 1 Axes>"
      ]
     },
     "metadata": {},
     "output_type": "display_data"
    }
   ],
   "source": [
    "dist_series = pd.Series(aug_count)\n",
    "dist_series.plot.bar(title=\"Number of images per type\", figsize=(15,8))"
   ]
  },
  {
   "cell_type": "markdown",
   "metadata": {},
   "source": [
    "## Loading Augmented Data"
   ]
  },
  {
   "cell_type": "code",
   "execution_count": null,
   "metadata": {},
   "outputs": [],
   "source": [
    "import os\n",
    "\n",
    "aug_x_train = []\n",
    "aug_y_train = pd.DataFrame(columns=y_train.columns)\n",
    "classes = ['EOSINOPHIL', 'LYMPHOCYTE', 'MONOCYTE', 'NEUTROPHIL']\n",
    "for c in classes: \n",
    "    path = '..\\\\dataset\\\\aug_train\\\\'+ c +\"\\\\\"      \n",
    "    for img_name in os.listdir(path):\n",
    "         # loads RGB image as PIL.Image.Image type\n",
    "        img_path = path + img_name\n",
    "        img = image.load_img(img_path)\n",
    "        # convert PIL.Image.Image type to 3D tensor\n",
    "        x = image.img_to_array(img)\n",
    "        # convert 3D tensor to 4D tensor and return 4D tensor\n",
    "        img = np.expand_dims(x, axis=0)\n",
    "        aug_x_train.append(img.astype(np.uint8))\n",
    "        aug_y_train = aug_y_train.append(pd.Series({'Type': c}),ignore_index=True)\n",
    "\n",
    "aug_x_train = np.vstack(aug_x_train)\n",
    "aug_x_train = aug_x_train.astype(np.uint8)\n",
    "print(\"Done !\")\n"
   ]
  },
  {
   "cell_type": "code",
   "execution_count": 26,
   "metadata": {},
   "outputs": [
    {
     "name": "stdout",
     "output_type": "stream",
     "text": [
      "Augmented Training Data: (11278, 244, 244, 3)\n",
      "Labels: (11278, 4)\n"
     ]
    }
   ],
   "source": [
    "print(\"Augmented Training Data:\", aug_x_train.shape)\n",
    "print(\"Labels:\", aug_y_train.shape)"
   ]
  },
  {
   "cell_type": "markdown",
   "metadata": {
    "colab_type": "text",
    "id": "rOHEkXxRaYwm"
   },
   "source": [
    "## Visualizing augmented data "
   ]
  },
  {
   "cell_type": "code",
   "execution_count": 1,
   "metadata": {
    "colab": {
     "base_uri": "https://localhost:8080/",
     "height": 873
    },
    "colab_type": "code",
    "executionInfo": {
     "elapsed": 46004,
     "status": "ok",
     "timestamp": 1535523412698,
     "user": {
      "displayName": "Youssef A.Mubarak",
      "photoUrl": "//lh3.googleusercontent.com/-OKDdxgYFboQ/AAAAAAAAAAI/AAAAAAAAAHc/_hX00tHoGvU/s50-c-k-no/photo.jpg",
      "userId": "111423931482360476978"
     },
     "user_tz": -120
    },
    "id": "tN8Xh842aYwm",
    "outputId": "6bdfc7a7-6d6b-44ea-ba1b-ebb3f133da5d",
    "scrolled": false
   },
   "outputs": [
    {
     "ename": "NameError",
     "evalue": "name 'aug_x_train' is not defined",
     "output_type": "error",
     "traceback": [
      "\u001b[1;31m---------------------------------------------------------------------------\u001b[0m",
      "\u001b[1;31mNameError\u001b[0m                                 Traceback (most recent call last)",
      "\u001b[1;32m<ipython-input-1-72fe5629ab30>\u001b[0m in \u001b[0;36m<module>\u001b[1;34m()\u001b[0m\n\u001b[0;32m     11\u001b[0m \u001b[1;33m\u001b[0m\u001b[0m\n\u001b[0;32m     12\u001b[0m \u001b[1;31m# visualization of some images out of the preprocessing\u001b[0m\u001b[1;33m\u001b[0m\u001b[1;33m\u001b[0m\u001b[0m\n\u001b[1;32m---> 13\u001b[1;33m \u001b[0mplotImages\u001b[0m\u001b[1;33m(\u001b[0m\u001b[0maug_x_train\u001b[0m\u001b[1;33m)\u001b[0m\u001b[1;33m\u001b[0m\u001b[0m\n\u001b[0m",
      "\u001b[1;31mNameError\u001b[0m: name 'aug_x_train' is not defined"
     ]
    }
   ],
   "source": [
    "def plotImages( images_arr, n_images=4):\n",
    "    fig, axes = plt.subplots(n_images, n_images, figsize=(12,12))\n",
    "    axes = axes.flatten()\n",
    "    for img, ax in zip( images_arr, axes):\n",
    "        ax.imshow( img, cmap=\"Greys_r\")\n",
    "        ax.set_xticks(())\n",
    "        ax.set_yticks(())\n",
    "    plt.tight_layout()\n",
    "\n",
    "\n",
    "# visualization of some images out of the preprocessing\n",
    "plotImages(aug_x_train)\n"
   ]
  },
  {
   "cell_type": "markdown",
   "metadata": {
    "colab_type": "text",
    "id": "urPLFJDvaYwM"
   },
   "source": [
    "## Rescale the Images"
   ]
  },
  {
   "cell_type": "code",
   "execution_count": 100,
   "metadata": {
    "colab": {},
    "colab_type": "code",
    "id": "YOLIGkFzaYwN"
   },
   "outputs": [],
   "source": [
    "X_train = np.array(X_train)\n",
    "X_train = X_train.astype('float32')/255.0\n",
    "\n",
    "#aug_x_train = np.array(aug_x_train)\n",
    "#aug_x_train = aug_x_train.astype('float32')/255.0\n",
    "\n",
    "X_test = np.array(X_test)\n",
    "X_test = X_test.astype('float32')/255.0\n"
   ]
  },
  {
   "cell_type": "markdown",
   "metadata": {
    "colab_type": "text",
    "id": "6SdbAzriaYwA"
   },
   "source": [
    "## Encode Categorical String Labels Using a One-Hot Scheme"
   ]
  },
  {
   "cell_type": "code",
   "execution_count": 101,
   "metadata": {
    "scrolled": true
   },
   "outputs": [],
   "source": [
    "from sklearn import preprocessing\n",
    "from keras.utils.np_utils import to_categorical\n",
    "\n",
    "le = preprocessing.LabelEncoder()\n",
    "le.fit(classes)\n",
    "num_classes = len(classes)\n",
    "\n",
    "def one_hot_encode(data):\n",
    "    encoded_labels = data['Type'].apply(lambda x: le.transform([x])[0])\n",
    "    encoded_labels = np.vstack(list(encoded_labels))\n",
    "    hot_encoded = to_categorical(encoded_labels, num_classes=num_classes)\n",
    "    return hot_encoded\n",
    "\n",
    "\n",
    "y_train = one_hot_encode(y_train)\n",
    "# aug_y_train = one_hot_encode(au_y_train)\n",
    "y_test = one_hot_encode(y_test) \n",
    "y_validation = one_hot_encode(y_validation)"
   ]
  },
  {
   "cell_type": "markdown",
   "metadata": {
    "colab_type": "text",
    "id": "HIx6AHTGaYwq"
   },
   "source": [
    "\n",
    "\n",
    "# Model Architecture (model 1: non-augmented)"
   ]
  },
  {
   "cell_type": "code",
   "execution_count": 102,
   "metadata": {
    "colab": {
     "base_uri": "https://localhost:8080/",
     "height": 562
    },
    "colab_type": "code",
    "executionInfo": {
     "elapsed": 36905,
     "status": "ok",
     "timestamp": 1535523451482,
     "user": {
      "displayName": "Youssef A.Mubarak",
      "photoUrl": "//lh3.googleusercontent.com/-OKDdxgYFboQ/AAAAAAAAAAI/AAAAAAAAAHc/_hX00tHoGvU/s50-c-k-no/photo.jpg",
      "userId": "111423931482360476978"
     },
     "user_tz": -120
    },
    "id": "5CKa1sY0aYwr",
    "outputId": "6f58f13e-60c6-439a-d1e6-a6d4fc6e32a0"
   },
   "outputs": [
    {
     "name": "stdout",
     "output_type": "stream",
     "text": [
      "X_train shape: (221, 244, 244, 3)\n",
      "221 training samples\n",
      "_________________________________________________________________\n",
      "Layer (type)                 Output Shape              Param #   \n",
      "=================================================================\n",
      "conv2d_13 (Conv2D)           (None, 244, 244, 64)      1792      \n",
      "_________________________________________________________________\n",
      "max_pooling2d_13 (MaxPooling (None, 122, 122, 64)      0         \n",
      "_________________________________________________________________\n",
      "conv2d_14 (Conv2D)           (None, 122, 122, 128)     32896     \n",
      "_________________________________________________________________\n",
      "max_pooling2d_14 (MaxPooling (None, 61, 61, 128)       0         \n",
      "_________________________________________________________________\n",
      "conv2d_15 (Conv2D)           (None, 61, 61, 256)       131328    \n",
      "_________________________________________________________________\n",
      "max_pooling2d_15 (MaxPooling (None, 30, 30, 256)       0         \n",
      "_________________________________________________________________\n",
      "dropout_9 (Dropout)          (None, 30, 30, 256)       0         \n",
      "_________________________________________________________________\n",
      "flatten_5 (Flatten)          (None, 230400)            0         \n",
      "_________________________________________________________________\n",
      "dense_7 (Dense)              (None, 512)               117965312 \n",
      "_________________________________________________________________\n",
      "dropout_10 (Dropout)         (None, 512)               0         \n",
      "_________________________________________________________________\n",
      "dense_8 (Dense)              (None, 4)                 2052      \n",
      "=================================================================\n",
      "Total params: 118,133,380\n",
      "Trainable params: 118,133,380\n",
      "Non-trainable params: 0\n",
      "_________________________________________________________________\n"
     ]
    }
   ],
   "source": [
    "from keras.layers import Conv2D, MaxPooling2D, GlobalAveragePooling2D\n",
    "from keras.layers import Dropout, Flatten, Dense\n",
    "from keras.models import Sequential\n",
    "from keras import optimizers\n",
    "\n",
    "# define parameters\n",
    "batch_size = 32\n",
    "epochs = 50\n",
    "#\n",
    "img_rows = X_train.shape[1]\n",
    "img_cols = X_train.shape[2]\n",
    "img_channel = X_train.shape[3]\n",
    "input_shape = (img_rows, img_cols, img_channel)\n",
    "\n",
    "# create the model and define the architecture.\n",
    "non_aug_model = Sequential()\n",
    "#\n",
    "non_aug_model.add(Conv2D(filters=64, kernel_size=(3,3), padding='same',\n",
    "                         activation='relu', input_shape=input_shape))\n",
    "non_aug_model.add(MaxPooling2D(pool_size=2))\n",
    "non_aug_model.add(Conv2D(filters=128, kernel_size=2, padding='same', activation='relu'))\n",
    "non_aug_model.add(MaxPooling2D(pool_size=2))\n",
    "non_aug_model.add(Conv2D(filters=256, kernel_size=2, padding='same', activation='relu'))\n",
    "non_aug_model.add(MaxPooling2D(pool_size=2))\n",
    "non_aug_model.add(Dropout(0.5))\n",
    "non_aug_model.add(Flatten())\n",
    "non_aug_model.add(Dense(512, activation='relu'))\n",
    "non_aug_model.add(Dropout(0.5))\n",
    "# output layer\n",
    "non_aug_model.add(Dense(num_classes, activation='softmax'))\n",
    "\n",
    "\n",
    "print('X_train shape:', X_train.shape)\n",
    "print(X_train.shape[0], 'training samples')\n",
    "non_aug_model.summary()\n"
   ]
  },
  {
   "cell_type": "markdown",
   "metadata": {
    "colab_type": "text",
    "id": "PHNtUtMbaYww"
   },
   "source": [
    "\n",
    "\n",
    "# Model Architecture (model 2: augmented)"
   ]
  },
  {
   "cell_type": "code",
   "execution_count": 46,
   "metadata": {
    "colab": {
     "base_uri": "https://localhost:8080/",
     "height": 562
    },
    "colab_type": "code",
    "executionInfo": {
     "elapsed": 961,
     "status": "ok",
     "timestamp": 1535523536013,
     "user": {
      "displayName": "Youssef A.Mubarak",
      "photoUrl": "//lh3.googleusercontent.com/-OKDdxgYFboQ/AAAAAAAAAAI/AAAAAAAAAHc/_hX00tHoGvU/s50-c-k-no/photo.jpg",
      "userId": "111423931482360476978"
     },
     "user_tz": -120
    },
    "id": "VbE6Wo16aYwy",
    "outputId": "c499e1d9-f081-4a82-ba8e-b01105427820"
   },
   "outputs": [
    {
     "name": "stdout",
     "output_type": "stream",
     "text": [
      "X_train shape: (221, 244, 244, 3)\n",
      "221 training samples\n",
      "_________________________________________________________________\n",
      "Layer (type)                 Output Shape              Param #   \n",
      "=================================================================\n",
      "conv2d_4 (Conv2D)            (None, 244, 244, 64)      1792      \n",
      "_________________________________________________________________\n",
      "max_pooling2d_4 (MaxPooling2 (None, 122, 122, 64)      0         \n",
      "_________________________________________________________________\n",
      "conv2d_5 (Conv2D)            (None, 122, 122, 128)     32896     \n",
      "_________________________________________________________________\n",
      "max_pooling2d_5 (MaxPooling2 (None, 61, 61, 128)       0         \n",
      "_________________________________________________________________\n",
      "conv2d_6 (Conv2D)            (None, 61, 61, 256)       131328    \n",
      "_________________________________________________________________\n",
      "max_pooling2d_6 (MaxPooling2 (None, 30, 30, 256)       0         \n",
      "_________________________________________________________________\n",
      "dropout_3 (Dropout)          (None, 30, 30, 256)       0         \n",
      "_________________________________________________________________\n",
      "flatten_2 (Flatten)          (None, 230400)            0         \n",
      "_________________________________________________________________\n",
      "dense_3 (Dense)              (None, 512)               117965312 \n",
      "_________________________________________________________________\n",
      "dropout_4 (Dropout)          (None, 512)               0         \n",
      "_________________________________________________________________\n",
      "dense_4 (Dense)              (None, 4)                 2052      \n",
      "=================================================================\n",
      "Total params: 118,133,380\n",
      "Trainable params: 118,133,380\n",
      "Non-trainable params: 0\n",
      "_________________________________________________________________\n"
     ]
    }
   ],
   "source": [
    "# create the model and define the architecture.\n",
    "aug_model = Sequential()\n",
    "#\n",
    "aug_model.add(Conv2D(filters=64, kernel_size=(3,3), padding='same',\n",
    "                         activation='relu', input_shape=input_shape))\n",
    "aug_model.add(MaxPooling2D(pool_size=2))\n",
    "aug_model.add(Conv2D(filters=128, kernel_size=2, padding='same', activation='relu'))\n",
    "aug_model.add(MaxPooling2D(pool_size=2))\n",
    "aug_model.add(Conv2D(filters=256, kernel_size=2, padding='same', activation='relu'))\n",
    "aug_model.add(MaxPooling2D(pool_size=2))\n",
    "aug_model.add(Dropout(0.5))\n",
    "aug_model.add(Flatten())\n",
    "aug_model.add(Dense(512, activation='relu'))\n",
    "aug_model.add(Dropout(0.5))\n",
    "# output layer\n",
    "aug_model.add(Dense(num_classes, activation='softmax'))\n",
    "\n",
    "\n",
    "print('X_train shape:', X_train.shape)\n",
    "print(X_train.shape[0], 'training samples')\n",
    "aug_model.summary()\n"
   ]
  },
  {
   "cell_type": "markdown",
   "metadata": {
    "colab_type": "text",
    "id": "EUe6zEuvaYw3"
   },
   "source": [
    "## Compile Models"
   ]
  },
  {
   "cell_type": "code",
   "execution_count": 103,
   "metadata": {
    "colab": {},
    "colab_type": "code",
    "id": "iJGdbZI3aYw5"
   },
   "outputs": [],
   "source": [
    "import keras\n",
    "\n",
    "#compile\n",
    "non_aug_model.compile(loss='categorical_crossentropy', optimizer='rmsprop', metrics=['accuracy'])\n",
    "#aug_model.compile(loss='categorical_crossentropy', optimizer='rmsprop', metrics=['accuracy'])\n"
   ]
  },
  {
   "cell_type": "markdown",
   "metadata": {
    "colab_type": "text",
    "id": "ITuQ2gALaYw-"
   },
   "source": [
    "## Calculate the Classification Accuracy on the Test Set (Before Training)"
   ]
  },
  {
   "cell_type": "code",
   "execution_count": 50,
   "metadata": {
    "colab": {
     "base_uri": "https://localhost:8080/",
     "height": 52
    },
    "colab_type": "code",
    "executionInfo": {
     "elapsed": 3555,
     "status": "ok",
     "timestamp": 1535523551445,
     "user": {
      "displayName": "Youssef A.Mubarak",
      "photoUrl": "//lh3.googleusercontent.com/-OKDdxgYFboQ/AAAAAAAAAAI/AAAAAAAAAHc/_hX00tHoGvU/s50-c-k-no/photo.jpg",
      "userId": "111423931482360476978"
     },
     "user_tz": -120
    },
    "id": "2gBzBuHzaYxB",
    "outputId": "b46cd2ea-cf53-4622-9e90-3f83d3992d10"
   },
   "outputs": [
    {
     "name": "stdout",
     "output_type": "stream",
     "text": [
      "Test accuracy (non-augmented): 31.4286%\n",
      "Test accuracy (augmented): 5.7143%\n"
     ]
    }
   ],
   "source": [
    "# evaluate test accuracy\n",
    "score_non_aug = non_aug_model.evaluate(X_test, y_test, verbose=0)\n",
    "score_aug = aug_model.evaluate(X_test, y_test, verbose=0)\n",
    "\n",
    "accuracy_non_aug = 100*score_non_aug[1]\n",
    "accuracy_aug = 100*score_aug[1]\n",
    "# print test accuracy\n",
    "print('Test accuracy (non-augmented): %.4f%%' % accuracy_non_aug)\n",
    "print('Test accuracy (augmented): %.4f%%' % accuracy_aug)"
   ]
  },
  {
   "cell_type": "markdown",
   "metadata": {
    "colab_type": "text",
    "id": "yEhwsM6EaYxK"
   },
   "source": [
    "## Train Model 1"
   ]
  },
  {
   "cell_type": "code",
   "execution_count": 107,
   "metadata": {
    "colab": {
     "base_uri": "https://localhost:8080/",
     "height": 3554
    },
    "colab_type": "code",
    "executionInfo": {
     "elapsed": 169116,
     "status": "ok",
     "timestamp": 1535523908708,
     "user": {
      "displayName": "Youssef A.Mubarak",
      "photoUrl": "//lh3.googleusercontent.com/-OKDdxgYFboQ/AAAAAAAAAAI/AAAAAAAAAHc/_hX00tHoGvU/s50-c-k-no/photo.jpg",
      "userId": "111423931482360476978"
     },
     "user_tz": -120
    },
    "id": "aIyphlTfaYxP",
    "outputId": "617c89e7-5f3a-499d-a694-a63bb8224b0a"
   },
   "outputs": [
    {
     "name": "stdout",
     "output_type": "stream",
     "text": [
      "Train on 221 samples, validate on 56 samples\n",
      "Epoch 1/50\n"
     ]
    },
    {
     "ename": "ResourceExhaustedError",
     "evalue": "OOM when allocating tensor with shape[230400,512] and type float on /job:localhost/replica:0/task:0/device:CPU:0 by allocator cpu\n\t [[Node: training/RMSprop/mul_18 = Mul[T=DT_FLOAT, _device=\"/job:localhost/replica:0/task:0/device:CPU:0\"](RMSprop_2/rho/read, training/RMSprop/Variable_6/read)]]\nHint: If you want to see a list of allocated tensors when OOM happens, add report_tensor_allocations_upon_oom to RunOptions for current allocation info.\n",
     "output_type": "error",
     "traceback": [
      "\u001b[1;31m---------------------------------------------------------------------------\u001b[0m",
      "\u001b[1;31mResourceExhaustedError\u001b[0m                    Traceback (most recent call last)",
      "\u001b[1;32m<ipython-input-107-3174e6d92cbd>\u001b[0m in \u001b[0;36m<module>\u001b[1;34m()\u001b[0m\n\u001b[0;32m     12\u001b[0m                                     \u001b[0mcallbacks\u001b[0m\u001b[1;33m=\u001b[0m\u001b[1;33m[\u001b[0m\u001b[0mcheckpointer_1\u001b[0m\u001b[1;33m]\u001b[0m\u001b[1;33m,\u001b[0m\u001b[1;33m\u001b[0m\u001b[0m\n\u001b[0;32m     13\u001b[0m                                     \u001b[0mverbose\u001b[0m \u001b[1;33m=\u001b[0m \u001b[1;36m1\u001b[0m\u001b[1;33m,\u001b[0m\u001b[1;33m\u001b[0m\u001b[0m\n\u001b[1;32m---> 14\u001b[1;33m                                     shuffle=True)\n\u001b[0m",
      "\u001b[1;32mc:\\users\\win8.1\\appdata\\local\\programs\\python\\python36\\lib\\site-packages\\keras\\engine\\training.py\u001b[0m in \u001b[0;36mfit\u001b[1;34m(self, x, y, batch_size, epochs, verbose, callbacks, validation_split, validation_data, shuffle, class_weight, sample_weight, initial_epoch, steps_per_epoch, validation_steps, **kwargs)\u001b[0m\n\u001b[0;32m   1035\u001b[0m                                         \u001b[0minitial_epoch\u001b[0m\u001b[1;33m=\u001b[0m\u001b[0minitial_epoch\u001b[0m\u001b[1;33m,\u001b[0m\u001b[1;33m\u001b[0m\u001b[0m\n\u001b[0;32m   1036\u001b[0m                                         \u001b[0msteps_per_epoch\u001b[0m\u001b[1;33m=\u001b[0m\u001b[0msteps_per_epoch\u001b[0m\u001b[1;33m,\u001b[0m\u001b[1;33m\u001b[0m\u001b[0m\n\u001b[1;32m-> 1037\u001b[1;33m                                         validation_steps=validation_steps)\n\u001b[0m\u001b[0;32m   1038\u001b[0m \u001b[1;33m\u001b[0m\u001b[0m\n\u001b[0;32m   1039\u001b[0m     def evaluate(self, x=None, y=None,\n",
      "\u001b[1;32mc:\\users\\win8.1\\appdata\\local\\programs\\python\\python36\\lib\\site-packages\\keras\\engine\\training_arrays.py\u001b[0m in \u001b[0;36mfit_loop\u001b[1;34m(model, f, ins, out_labels, batch_size, epochs, verbose, callbacks, val_f, val_ins, shuffle, callback_metrics, initial_epoch, steps_per_epoch, validation_steps)\u001b[0m\n\u001b[0;32m    197\u001b[0m                     \u001b[0mins_batch\u001b[0m\u001b[1;33m[\u001b[0m\u001b[0mi\u001b[0m\u001b[1;33m]\u001b[0m \u001b[1;33m=\u001b[0m \u001b[0mins_batch\u001b[0m\u001b[1;33m[\u001b[0m\u001b[0mi\u001b[0m\u001b[1;33m]\u001b[0m\u001b[1;33m.\u001b[0m\u001b[0mtoarray\u001b[0m\u001b[1;33m(\u001b[0m\u001b[1;33m)\u001b[0m\u001b[1;33m\u001b[0m\u001b[0m\n\u001b[0;32m    198\u001b[0m \u001b[1;33m\u001b[0m\u001b[0m\n\u001b[1;32m--> 199\u001b[1;33m                 \u001b[0mouts\u001b[0m \u001b[1;33m=\u001b[0m \u001b[0mf\u001b[0m\u001b[1;33m(\u001b[0m\u001b[0mins_batch\u001b[0m\u001b[1;33m)\u001b[0m\u001b[1;33m\u001b[0m\u001b[0m\n\u001b[0m\u001b[0;32m    200\u001b[0m                 \u001b[0mouts\u001b[0m \u001b[1;33m=\u001b[0m \u001b[0mto_list\u001b[0m\u001b[1;33m(\u001b[0m\u001b[0mouts\u001b[0m\u001b[1;33m)\u001b[0m\u001b[1;33m\u001b[0m\u001b[0m\n\u001b[0;32m    201\u001b[0m                 \u001b[1;32mfor\u001b[0m \u001b[0ml\u001b[0m\u001b[1;33m,\u001b[0m \u001b[0mo\u001b[0m \u001b[1;32min\u001b[0m \u001b[0mzip\u001b[0m\u001b[1;33m(\u001b[0m\u001b[0mout_labels\u001b[0m\u001b[1;33m,\u001b[0m \u001b[0mouts\u001b[0m\u001b[1;33m)\u001b[0m\u001b[1;33m:\u001b[0m\u001b[1;33m\u001b[0m\u001b[0m\n",
      "\u001b[1;32mc:\\users\\win8.1\\appdata\\local\\programs\\python\\python36\\lib\\site-packages\\keras\\backend\\tensorflow_backend.py\u001b[0m in \u001b[0;36m__call__\u001b[1;34m(self, inputs)\u001b[0m\n\u001b[0;32m   2664\u001b[0m                 \u001b[1;32mreturn\u001b[0m \u001b[0mself\u001b[0m\u001b[1;33m.\u001b[0m\u001b[0m_legacy_call\u001b[0m\u001b[1;33m(\u001b[0m\u001b[0minputs\u001b[0m\u001b[1;33m)\u001b[0m\u001b[1;33m\u001b[0m\u001b[0m\n\u001b[0;32m   2665\u001b[0m \u001b[1;33m\u001b[0m\u001b[0m\n\u001b[1;32m-> 2666\u001b[1;33m             \u001b[1;32mreturn\u001b[0m \u001b[0mself\u001b[0m\u001b[1;33m.\u001b[0m\u001b[0m_call\u001b[0m\u001b[1;33m(\u001b[0m\u001b[0minputs\u001b[0m\u001b[1;33m)\u001b[0m\u001b[1;33m\u001b[0m\u001b[0m\n\u001b[0m\u001b[0;32m   2667\u001b[0m         \u001b[1;32melse\u001b[0m\u001b[1;33m:\u001b[0m\u001b[1;33m\u001b[0m\u001b[0m\n\u001b[0;32m   2668\u001b[0m             \u001b[1;32mif\u001b[0m \u001b[0mpy_any\u001b[0m\u001b[1;33m(\u001b[0m\u001b[0mis_tensor\u001b[0m\u001b[1;33m(\u001b[0m\u001b[0mx\u001b[0m\u001b[1;33m)\u001b[0m \u001b[1;32mfor\u001b[0m \u001b[0mx\u001b[0m \u001b[1;32min\u001b[0m \u001b[0minputs\u001b[0m\u001b[1;33m)\u001b[0m\u001b[1;33m:\u001b[0m\u001b[1;33m\u001b[0m\u001b[0m\n",
      "\u001b[1;32mc:\\users\\win8.1\\appdata\\local\\programs\\python\\python36\\lib\\site-packages\\keras\\backend\\tensorflow_backend.py\u001b[0m in \u001b[0;36m_call\u001b[1;34m(self, inputs)\u001b[0m\n\u001b[0;32m   2634\u001b[0m                                 \u001b[0msymbol_vals\u001b[0m\u001b[1;33m,\u001b[0m\u001b[1;33m\u001b[0m\u001b[0m\n\u001b[0;32m   2635\u001b[0m                                 session)\n\u001b[1;32m-> 2636\u001b[1;33m         \u001b[0mfetched\u001b[0m \u001b[1;33m=\u001b[0m \u001b[0mself\u001b[0m\u001b[1;33m.\u001b[0m\u001b[0m_callable_fn\u001b[0m\u001b[1;33m(\u001b[0m\u001b[1;33m*\u001b[0m\u001b[0marray_vals\u001b[0m\u001b[1;33m)\u001b[0m\u001b[1;33m\u001b[0m\u001b[0m\n\u001b[0m\u001b[0;32m   2637\u001b[0m         \u001b[1;32mreturn\u001b[0m \u001b[0mfetched\u001b[0m\u001b[1;33m[\u001b[0m\u001b[1;33m:\u001b[0m\u001b[0mlen\u001b[0m\u001b[1;33m(\u001b[0m\u001b[0mself\u001b[0m\u001b[1;33m.\u001b[0m\u001b[0moutputs\u001b[0m\u001b[1;33m)\u001b[0m\u001b[1;33m]\u001b[0m\u001b[1;33m\u001b[0m\u001b[0m\n\u001b[0;32m   2638\u001b[0m \u001b[1;33m\u001b[0m\u001b[0m\n",
      "\u001b[1;32mc:\\users\\win8.1\\appdata\\local\\programs\\python\\python36\\lib\\site-packages\\tensorflow\\python\\client\\session.py\u001b[0m in \u001b[0;36m__call__\u001b[1;34m(self, *args, **kwargs)\u001b[0m\n\u001b[0;32m   1380\u001b[0m           ret = tf_session.TF_SessionRunCallable(\n\u001b[0;32m   1381\u001b[0m               \u001b[0mself\u001b[0m\u001b[1;33m.\u001b[0m\u001b[0m_session\u001b[0m\u001b[1;33m.\u001b[0m\u001b[0m_session\u001b[0m\u001b[1;33m,\u001b[0m \u001b[0mself\u001b[0m\u001b[1;33m.\u001b[0m\u001b[0m_handle\u001b[0m\u001b[1;33m,\u001b[0m \u001b[0margs\u001b[0m\u001b[1;33m,\u001b[0m \u001b[0mstatus\u001b[0m\u001b[1;33m,\u001b[0m\u001b[1;33m\u001b[0m\u001b[0m\n\u001b[1;32m-> 1382\u001b[1;33m               run_metadata_ptr)\n\u001b[0m\u001b[0;32m   1383\u001b[0m         \u001b[1;32mif\u001b[0m \u001b[0mrun_metadata\u001b[0m\u001b[1;33m:\u001b[0m\u001b[1;33m\u001b[0m\u001b[0m\n\u001b[0;32m   1384\u001b[0m           \u001b[0mproto_data\u001b[0m \u001b[1;33m=\u001b[0m \u001b[0mtf_session\u001b[0m\u001b[1;33m.\u001b[0m\u001b[0mTF_GetBuffer\u001b[0m\u001b[1;33m(\u001b[0m\u001b[0mrun_metadata_ptr\u001b[0m\u001b[1;33m)\u001b[0m\u001b[1;33m\u001b[0m\u001b[0m\n",
      "\u001b[1;32mc:\\users\\win8.1\\appdata\\local\\programs\\python\\python36\\lib\\site-packages\\tensorflow\\python\\framework\\errors_impl.py\u001b[0m in \u001b[0;36m__exit__\u001b[1;34m(self, type_arg, value_arg, traceback_arg)\u001b[0m\n\u001b[0;32m    517\u001b[0m             \u001b[1;32mNone\u001b[0m\u001b[1;33m,\u001b[0m \u001b[1;32mNone\u001b[0m\u001b[1;33m,\u001b[0m\u001b[1;33m\u001b[0m\u001b[0m\n\u001b[0;32m    518\u001b[0m             \u001b[0mcompat\u001b[0m\u001b[1;33m.\u001b[0m\u001b[0mas_text\u001b[0m\u001b[1;33m(\u001b[0m\u001b[0mc_api\u001b[0m\u001b[1;33m.\u001b[0m\u001b[0mTF_Message\u001b[0m\u001b[1;33m(\u001b[0m\u001b[0mself\u001b[0m\u001b[1;33m.\u001b[0m\u001b[0mstatus\u001b[0m\u001b[1;33m.\u001b[0m\u001b[0mstatus\u001b[0m\u001b[1;33m)\u001b[0m\u001b[1;33m)\u001b[0m\u001b[1;33m,\u001b[0m\u001b[1;33m\u001b[0m\u001b[0m\n\u001b[1;32m--> 519\u001b[1;33m             c_api.TF_GetCode(self.status.status))\n\u001b[0m\u001b[0;32m    520\u001b[0m     \u001b[1;31m# Delete the underlying status object from memory otherwise it stays alive\u001b[0m\u001b[1;33m\u001b[0m\u001b[1;33m\u001b[0m\u001b[0m\n\u001b[0;32m    521\u001b[0m     \u001b[1;31m# as there is a reference to status from this from the traceback due to\u001b[0m\u001b[1;33m\u001b[0m\u001b[1;33m\u001b[0m\u001b[0m\n",
      "\u001b[1;31mResourceExhaustedError\u001b[0m: OOM when allocating tensor with shape[230400,512] and type float on /job:localhost/replica:0/task:0/device:CPU:0 by allocator cpu\n\t [[Node: training/RMSprop/mul_18 = Mul[T=DT_FLOAT, _device=\"/job:localhost/replica:0/task:0/device:CPU:0\"](RMSprop_2/rho/read, training/RMSprop/Variable_6/read)]]\nHint: If you want to see a list of allocated tensors when OOM happens, add report_tensor_allocations_upon_oom to RunOptions for current allocation info.\n"
     ]
    }
   ],
   "source": [
    "from keras.callbacks import ModelCheckpoint   \n",
    "\n",
    "\n",
    "# train the model\n",
    "checkpointer_1 = ModelCheckpoint(filepath='non_aug.model.best.hdf5', \n",
    "                               verbose=1, save_best_only=True)\n",
    "\n",
    "history_non_aug = non_aug_model.fit(X_train,\n",
    "                                    y_train,\n",
    "                                    epochs=epochs,\n",
    "                                    validation_data= (X_validation, y_validation),\n",
    "                                    callbacks=[checkpointer_1],\n",
    "                                    verbose = 1,\n",
    "                                    shuffle=True)\n"
   ]
  },
  {
   "cell_type": "markdown",
   "metadata": {
    "colab_type": "text",
    "id": "KqrjrHKzaYxT"
   },
   "source": [
    "## Load the Model with the Best Classification Accuracy on the Validation Set"
   ]
  },
  {
   "cell_type": "code",
   "execution_count": 0,
   "metadata": {
    "colab": {},
    "colab_type": "code",
    "id": "BH1pf-7kaYxU"
   },
   "outputs": [],
   "source": [
    "# load the weights that yielded the best validation accuracy\n",
    "non_aug_model.load_weights('non_aug.model.best.hdf5')\n"
   ]
  },
  {
   "cell_type": "markdown",
   "metadata": {
    "colab_type": "text",
    "id": "T_pnCDJtaYxa"
   },
   "source": [
    "## Calculate the Classification Accuracy on the Test Set (model 1)\n"
   ]
  },
  {
   "cell_type": "code",
   "execution_count": 32,
   "metadata": {
    "colab": {
     "base_uri": "https://localhost:8080/",
     "height": 34
    },
    "colab_type": "code",
    "executionInfo": {
     "elapsed": 34929,
     "status": "ok",
     "timestamp": 1535524102222,
     "user": {
      "displayName": "Youssef A.Mubarak",
      "photoUrl": "//lh3.googleusercontent.com/-OKDdxgYFboQ/AAAAAAAAAAI/AAAAAAAAAHc/_hX00tHoGvU/s50-c-k-no/photo.jpg",
      "userId": "111423931482360476978"
     },
     "user_tz": -120
    },
    "id": "Gu4uiOQwaYxb",
    "outputId": "abec31a8-c3c6-4806-f587-9e7d5a3d3a1d"
   },
   "outputs": [
    {
     "name": "stdout",
     "output_type": "stream",
     "text": [
      "Test accuracy: 54.2857%\n"
     ]
    }
   ],
   "source": [
    "# evaluate test accuracy\n",
    "score = non_aug_model.evaluate(X_test, y_test, verbose=0)\n",
    "accuracy = 100*score[1]\n",
    "\n",
    "# print test accuracy\n",
    "print('Test accuracy: %.4f%%' % accuracy)\n"
   ]
  },
  {
   "cell_type": "markdown",
   "metadata": {
    "colab_type": "text",
    "id": "5zK8Cu3oaYxh"
   },
   "source": [
    "## Confusion Matrix (model 1)"
   ]
  },
  {
   "cell_type": "code",
   "execution_count": 1,
   "metadata": {
    "colab": {
     "base_uri": "https://localhost:8080/",
     "height": 708
    },
    "colab_type": "code",
    "executionInfo": {
     "elapsed": 19617,
     "status": "ok",
     "timestamp": 1535524123714,
     "user": {
      "displayName": "Youssef A.Mubarak",
      "photoUrl": "//lh3.googleusercontent.com/-OKDdxgYFboQ/AAAAAAAAAAI/AAAAAAAAAHc/_hX00tHoGvU/s50-c-k-no/photo.jpg",
      "userId": "111423931482360476978"
     },
     "user_tz": -120
    },
    "id": "lvWLSS6LaYxi",
    "outputId": "793c280a-5371-46f9-d2e4-b9005a1b4b90"
   },
   "outputs": [
    {
     "ename": "NameError",
     "evalue": "name 'plt' is not defined",
     "output_type": "error",
     "traceback": [
      "\u001b[1;31m---------------------------------------------------------------------------\u001b[0m",
      "\u001b[1;31mNameError\u001b[0m                                 Traceback (most recent call last)",
      "\u001b[1;32m<ipython-input-1-71c701311844>\u001b[0m in \u001b[0;36m<module>\u001b[1;34m()\u001b[0m\n\u001b[0;32m      2\u001b[0m \u001b[1;32mimport\u001b[0m \u001b[0mitertools\u001b[0m\u001b[1;33m\u001b[0m\u001b[0m\n\u001b[0;32m      3\u001b[0m \u001b[1;33m\u001b[0m\u001b[0m\n\u001b[1;32m----> 4\u001b[1;33m \u001b[1;32mdef\u001b[0m \u001b[0mplot_confusion_matrix\u001b[0m\u001b[1;33m(\u001b[0m\u001b[0mcm\u001b[0m\u001b[1;33m,\u001b[0m \u001b[0mclasses\u001b[0m\u001b[1;33m,\u001b[0m \u001b[0mnormalize\u001b[0m\u001b[1;33m=\u001b[0m\u001b[1;32mFalse\u001b[0m\u001b[1;33m,\u001b[0m \u001b[0mtitle\u001b[0m\u001b[1;33m=\u001b[0m\u001b[1;34m'Confusion matrix'\u001b[0m\u001b[1;33m,\u001b[0m \u001b[0mcmap\u001b[0m\u001b[1;33m=\u001b[0m\u001b[0mplt\u001b[0m\u001b[1;33m.\u001b[0m\u001b[0mcm\u001b[0m\u001b[1;33m.\u001b[0m\u001b[0mBlues\u001b[0m\u001b[1;33m)\u001b[0m\u001b[1;33m:\u001b[0m\u001b[1;33m\u001b[0m\u001b[0m\n\u001b[0m\u001b[0;32m      5\u001b[0m     \u001b[0mplt\u001b[0m\u001b[1;33m.\u001b[0m\u001b[0mfigure\u001b[0m\u001b[1;33m(\u001b[0m\u001b[0mfigsize\u001b[0m \u001b[1;33m=\u001b[0m \u001b[1;33m(\u001b[0m\u001b[1;36m10\u001b[0m\u001b[1;33m,\u001b[0m\u001b[1;36m10\u001b[0m\u001b[1;33m)\u001b[0m\u001b[1;33m)\u001b[0m\u001b[1;33m\u001b[0m\u001b[0m\n\u001b[0;32m      6\u001b[0m     \u001b[0mplt\u001b[0m\u001b[1;33m.\u001b[0m\u001b[0mimshow\u001b[0m\u001b[1;33m(\u001b[0m\u001b[0mcm\u001b[0m\u001b[1;33m,\u001b[0m \u001b[0minterpolation\u001b[0m\u001b[1;33m=\u001b[0m\u001b[1;34m'nearest'\u001b[0m\u001b[1;33m,\u001b[0m \u001b[0mcmap\u001b[0m\u001b[1;33m=\u001b[0m\u001b[0mcmap\u001b[0m\u001b[1;33m)\u001b[0m\u001b[1;33m\u001b[0m\u001b[0m\n",
      "\u001b[1;31mNameError\u001b[0m: name 'plt' is not defined"
     ]
    }
   ],
   "source": [
    "from sklearn.metrics import classification_report, confusion_matrix\n",
    "import itertools\n",
    "\n",
    "def plot_confusion_matrix(cm, classes, normalize=False, title='Confusion matrix', cmap=plt.cm.Blues):\n",
    "    plt.figure(figsize = (10,10))\n",
    "    plt.imshow(cm, interpolation='nearest', cmap=cmap)\n",
    "    plt.title(title)\n",
    "    plt.colorbar()\n",
    "    tick_marks = np.arange(len(classes))\n",
    "    plt.xticks(tick_marks, classes, rotation=90)\n",
    "    plt.yticks(tick_marks, classes)\n",
    "    if normalize:\n",
    "        cm = cm.astype('float') / cm.sum(axis=1)[:, np.newaxis]\n",
    "    thresh = cm.max() / 2.\n",
    "    for i, j in itertools.product(range(cm.shape[0]), range(cm.shape[1])):\n",
    "        plt.text(j, i, cm[i, j], horizontalalignment=\"center\",\n",
    "                 color=\"white\" if cm[i, j] > thresh else \"black\")\n",
    "    plt.tight_layout()\n",
    "    plt.ylabel('True label')\n",
    "    plt.xlabel('Predicted label')\n",
    "\n",
    "\n",
    "y_pred = non_aug_model.predict(X_test)\n",
    "y_pred_classes = np.argmax(y_pred, axis=1) \n",
    "y_true = np.argmax(np.array(y_test), axis=1)\n",
    "confusion_mtx = confusion_matrix(y_true, y_pred_classes) \n",
    "plot_confusion_matrix(confusion_mtx, classes = y_test.columns) \n",
    "plt.show()\n"
   ]
  },
  {
   "cell_type": "markdown",
   "metadata": {
    "colab_type": "text",
    "id": "TrZew5ozaYxl"
   },
   "source": [
    "## Train Model 2"
   ]
  },
  {
   "cell_type": "code",
   "execution_count": 34,
   "metadata": {
    "colab": {
     "base_uri": "https://localhost:8080/",
     "height": 3537
    },
    "colab_type": "code",
    "executionInfo": {
     "elapsed": 4965,
     "status": "ok",
     "timestamp": 1535524354899,
     "user": {
      "displayName": "Youssef A.Mubarak",
      "photoUrl": "//lh3.googleusercontent.com/-OKDdxgYFboQ/AAAAAAAAAAI/AAAAAAAAAHc/_hX00tHoGvU/s50-c-k-no/photo.jpg",
      "userId": "111423931482360476978"
     },
     "user_tz": -120
    },
    "id": "vQm6xxO5aYxl",
    "outputId": "c01e16d7-9c0b-4ec5-8a2e-f607be57d8ec"
   },
   "outputs": [
    {
     "name": "stdout",
     "output_type": "stream",
     "text": [
      "Epoch 1/50\n",
      "7/6 [==============================] - 6s 915ms/step - loss: 32.5030 - acc: 0.4771 - val_loss: 3.2236 - val_acc: 0.8000\n",
      "\n",
      "Epoch 00001: val_loss improved from inf to 3.22362, saving model to aug.model.best.hdf5\n",
      "Epoch 2/50\n",
      "7/6 [==============================] - 4s 607ms/step - loss: 38.5946 - acc: 0.5623 - val_loss: 3.2236 - val_acc: 0.8000\n",
      "\n",
      "Epoch 00002: val_loss did not improve from 3.22362\n",
      "Epoch 3/50\n",
      "7/6 [==============================] - 4s 613ms/step - loss: 38.5468 - acc: 0.5631 - val_loss: 3.2236 - val_acc: 0.8000\n",
      "\n",
      "Epoch 00003: val_loss did not improve from 3.22362\n",
      "Epoch 4/50\n",
      "7/6 [==============================] - 5s 653ms/step - loss: 38.5475 - acc: 0.5628 - val_loss: 3.2236 - val_acc: 0.8000\n",
      "\n",
      "Epoch 00004: val_loss did not improve from 3.22362\n",
      "Epoch 5/50\n",
      "7/6 [==============================] - 4s 576ms/step - loss: 38.6085 - acc: 0.5623 - val_loss: 3.2236 - val_acc: 0.8000\n",
      "\n",
      "Epoch 00005: val_loss did not improve from 3.22362\n",
      "Epoch 6/50\n",
      "7/6 [==============================] - 4s 621ms/step - loss: 38.4885 - acc: 0.5634 - val_loss: 3.2236 - val_acc: 0.8000\n",
      "\n",
      "Epoch 00006: val_loss did not improve from 3.22362\n",
      "Epoch 7/50\n",
      "7/6 [==============================] - 4s 597ms/step - loss: 38.6395 - acc: 0.5626 - val_loss: 3.2236 - val_acc: 0.8000\n",
      "\n",
      "Epoch 00007: val_loss did not improve from 3.22362\n",
      "Epoch 8/50\n",
      "7/6 [==============================] - 4s 604ms/step - loss: 38.5342 - acc: 0.5634 - val_loss: 3.2236 - val_acc: 0.8000\n",
      "\n",
      "Epoch 00008: val_loss did not improve from 3.22362\n",
      "Epoch 9/50\n",
      "7/6 [==============================] - 4s 604ms/step - loss: 38.5793 - acc: 0.5628 - val_loss: 3.2236 - val_acc: 0.8000\n",
      "\n",
      "Epoch 00009: val_loss did not improve from 3.22362\n",
      "Epoch 10/50\n",
      "7/6 [==============================] - 4s 603ms/step - loss: 38.6249 - acc: 0.5628 - val_loss: 3.2236 - val_acc: 0.8000\n",
      "\n",
      "Epoch 00010: val_loss did not improve from 3.22362\n",
      "Epoch 11/50\n",
      "7/6 [==============================] - 4s 596ms/step - loss: 38.6700 - acc: 0.5623 - val_loss: 3.2236 - val_acc: 0.8000\n",
      "\n",
      "Epoch 00011: val_loss did not improve from 3.22362\n",
      "Epoch 12/50\n",
      "7/6 [==============================] - 4s 600ms/step - loss: 38.5932 - acc: 0.5628 - val_loss: 3.2236 - val_acc: 0.8000\n",
      "\n",
      "Epoch 00012: val_loss did not improve from 3.22362\n",
      "Epoch 13/50\n",
      "7/6 [==============================] - 4s 594ms/step - loss: 38.4745 - acc: 0.5641 - val_loss: 3.2236 - val_acc: 0.8000\n",
      "\n",
      "Epoch 00013: val_loss did not improve from 3.22362\n",
      "Epoch 14/50\n",
      "7/6 [==============================] - 4s 603ms/step - loss: 38.6397 - acc: 0.5618 - val_loss: 3.2236 - val_acc: 0.8000\n",
      "\n",
      "Epoch 00014: val_loss did not improve from 3.22362\n",
      "Epoch 15/50\n",
      "7/6 [==============================] - 4s 608ms/step - loss: 38.5780 - acc: 0.5626 - val_loss: 3.2236 - val_acc: 0.8000\n",
      "\n",
      "Epoch 00015: val_loss did not improve from 3.22362\n",
      "Epoch 16/50\n",
      "7/6 [==============================] - 4s 599ms/step - loss: 38.5786 - acc: 0.5631 - val_loss: 3.2236 - val_acc: 0.8000\n",
      "\n",
      "Epoch 00016: val_loss did not improve from 3.22362\n",
      "Epoch 17/50\n",
      "7/6 [==============================] - 4s 588ms/step - loss: 38.5812 - acc: 0.5628 - val_loss: 3.2236 - val_acc: 0.8000\n",
      "\n",
      "Epoch 00017: val_loss did not improve from 3.22362\n",
      "Epoch 18/50\n",
      "7/6 [==============================] - 4s 612ms/step - loss: 38.6395 - acc: 0.5626 - val_loss: 3.2236 - val_acc: 0.8000\n",
      "\n",
      "Epoch 00018: val_loss did not improve from 3.22362\n",
      "Epoch 19/50\n",
      "7/6 [==============================] - 4s 605ms/step - loss: 38.5957 - acc: 0.5634 - val_loss: 3.2236 - val_acc: 0.8000\n",
      "\n",
      "Epoch 00019: val_loss did not improve from 3.22362\n",
      "Epoch 20/50\n",
      "7/6 [==============================] - 4s 608ms/step - loss: 38.6680 - acc: 0.5623 - val_loss: 3.2236 - val_acc: 0.8000\n",
      "\n",
      "Epoch 00020: val_loss did not improve from 3.22362\n",
      "Epoch 21/50\n",
      "7/6 [==============================] - 4s 596ms/step - loss: 38.6096 - acc: 0.5634 - val_loss: 3.2236 - val_acc: 0.8000\n",
      "\n",
      "Epoch 00021: val_loss did not improve from 3.22362\n",
      "Epoch 22/50\n",
      "7/6 [==============================] - 4s 599ms/step - loss: 38.5488 - acc: 0.5631 - val_loss: 3.2236 - val_acc: 0.8000\n",
      "\n",
      "Epoch 00022: val_loss did not improve from 3.22362\n",
      "Epoch 23/50\n",
      "7/6 [==============================] - 4s 610ms/step - loss: 38.4593 - acc: 0.5639 - val_loss: 3.2236 - val_acc: 0.8000\n",
      "\n",
      "Epoch 00023: val_loss did not improve from 3.22362\n",
      "Epoch 24/50\n",
      "7/6 [==============================] - 4s 605ms/step - loss: 38.5780 - acc: 0.5626 - val_loss: 3.2236 - val_acc: 0.8000\n",
      "\n",
      "Epoch 00024: val_loss did not improve from 3.22362\n",
      "Epoch 25/50\n",
      "7/6 [==============================] - 4s 614ms/step - loss: 38.4295 - acc: 0.5639 - val_loss: 3.2236 - val_acc: 0.8000\n",
      "\n",
      "Epoch 00025: val_loss did not improve from 3.22362\n",
      "Epoch 26/50\n",
      "7/6 [==============================] - 4s 608ms/step - loss: 38.5798 - acc: 0.5634 - val_loss: 3.2236 - val_acc: 0.8000\n",
      "\n",
      "Epoch 00026: val_loss did not improve from 3.22362\n",
      "Epoch 27/50\n",
      "7/6 [==============================] - 4s 614ms/step - loss: 38.5500 - acc: 0.5634 - val_loss: 3.2236 - val_acc: 0.8000\n",
      "\n",
      "Epoch 00027: val_loss did not improve from 3.22362\n",
      "Epoch 28/50\n",
      "7/6 [==============================] - 4s 603ms/step - loss: 38.6083 - acc: 0.5631 - val_loss: 3.2236 - val_acc: 0.8000\n",
      "\n",
      "Epoch 00028: val_loss did not improve from 3.22362\n",
      "Epoch 29/50\n",
      "7/6 [==============================] - 4s 609ms/step - loss: 38.5964 - acc: 0.5631 - val_loss: 3.2236 - val_acc: 0.8000\n",
      "\n",
      "Epoch 00029: val_loss did not improve from 3.22362\n",
      "Epoch 30/50\n",
      "7/6 [==============================] - 4s 606ms/step - loss: 38.4885 - acc: 0.5634 - val_loss: 3.2236 - val_acc: 0.8000\n",
      "\n",
      "Epoch 00030: val_loss did not improve from 3.22362\n",
      "Epoch 31/50\n",
      "7/6 [==============================] - 4s 609ms/step - loss: 38.5462 - acc: 0.5626 - val_loss: 3.2236 - val_acc: 0.8000\n",
      "\n",
      "Epoch 00031: val_loss did not improve from 3.22362\n",
      "Epoch 32/50\n",
      "7/6 [==============================] - 4s 601ms/step - loss: 38.4593 - acc: 0.5639 - val_loss: 3.2236 - val_acc: 0.8000\n",
      "\n",
      "Epoch 00032: val_loss did not improve from 3.22362\n",
      "Epoch 33/50\n",
      "7/6 [==============================] - 4s 606ms/step - loss: 38.5488 - acc: 0.5631 - val_loss: 3.2236 - val_acc: 0.8000\n",
      "\n",
      "Epoch 00033: val_loss did not improve from 3.22362\n",
      "Epoch 34/50\n",
      "7/6 [==============================] - 4s 614ms/step - loss: 38.5933 - acc: 0.5620 - val_loss: 3.2236 - val_acc: 0.8000\n",
      "\n",
      "Epoch 00034: val_loss did not improve from 3.22362\n",
      "Epoch 35/50\n",
      "7/6 [==============================] - 4s 614ms/step - loss: 38.6992 - acc: 0.5618 - val_loss: 3.2236 - val_acc: 0.8000\n",
      "\n",
      "Epoch 00035: val_loss did not improve from 3.22362\n",
      "Epoch 36/50\n",
      "7/6 [==============================] - 4s 600ms/step - loss: 38.3837 - acc: 0.5647 - val_loss: 3.2236 - val_acc: 0.8000\n",
      "\n",
      "Epoch 00036: val_loss did not improve from 3.22362\n",
      "Epoch 37/50\n",
      "7/6 [==============================] - 4s 595ms/step - loss: 38.6083 - acc: 0.5631 - val_loss: 3.2236 - val_acc: 0.8000\n",
      "\n",
      "Epoch 00037: val_loss did not improve from 3.22362\n",
      "Epoch 38/50\n",
      "7/6 [==============================] - 4s 608ms/step - loss: 38.6819 - acc: 0.5623 - val_loss: 3.2236 - val_acc: 0.8000\n",
      "\n",
      "Epoch 00038: val_loss did not improve from 3.22362\n",
      "Epoch 39/50\n",
      "7/6 [==============================] - 4s 607ms/step - loss: 38.5183 - acc: 0.5634 - val_loss: 3.2236 - val_acc: 0.8000\n",
      "\n",
      "Epoch 00039: val_loss did not improve from 3.22362\n",
      "Epoch 40/50\n",
      "7/6 [==============================] - 4s 613ms/step - loss: 38.5323 - acc: 0.5626 - val_loss: 3.2236 - val_acc: 0.8000\n",
      "\n",
      "Epoch 00040: val_loss did not improve from 3.22362\n",
      "Epoch 41/50\n",
      "7/6 [==============================] - 4s 606ms/step - loss: 38.6536 - acc: 0.5618 - val_loss: 3.2236 - val_acc: 0.8000\n",
      "\n",
      "Epoch 00041: val_loss did not improve from 3.22362\n",
      "Epoch 42/50\n",
      "7/6 [==============================] - 4s 609ms/step - loss: 38.5621 - acc: 0.5626 - val_loss: 3.2236 - val_acc: 0.8000\n",
      "\n",
      "Epoch 00042: val_loss did not improve from 3.22362\n",
      "Epoch 43/50\n",
      "7/6 [==============================] - 4s 616ms/step - loss: 38.4573 - acc: 0.5639 - val_loss: 3.2236 - val_acc: 0.8000\n",
      "\n",
      "Epoch 00043: val_loss did not improve from 3.22362\n",
      "Epoch 44/50\n",
      "7/6 [==============================] - 4s 619ms/step - loss: 38.5482 - acc: 0.5626 - val_loss: 3.2236 - val_acc: 0.8000\n",
      "\n",
      "Epoch 00044: val_loss did not improve from 3.22362\n",
      "Epoch 45/50\n",
      "7/6 [==============================] - 4s 613ms/step - loss: 38.6707 - acc: 0.5620 - val_loss: 3.2236 - val_acc: 0.8000\n",
      "\n",
      "Epoch 00045: val_loss did not improve from 3.22362\n",
      "Epoch 46/50\n",
      "7/6 [==============================] - 4s 610ms/step - loss: 38.5342 - acc: 0.5634 - val_loss: 3.2236 - val_acc: 0.8000\n",
      "\n",
      "Epoch 00046: val_loss did not improve from 3.22362\n",
      "Epoch 47/50\n",
      "7/6 [==============================] - 4s 617ms/step - loss: 38.5780 - acc: 0.5626 - val_loss: 3.2236 - val_acc: 0.8000\n",
      "\n",
      "Epoch 00047: val_loss did not improve from 3.22362\n",
      "Epoch 48/50\n",
      "7/6 [==============================] - 4s 611ms/step - loss: 38.5031 - acc: 0.5631 - val_loss: 3.2236 - val_acc: 0.8000\n",
      "\n",
      "Epoch 00048: val_loss did not improve from 3.22362\n",
      "Epoch 49/50\n",
      "7/6 [==============================] - 4s 623ms/step - loss: 38.5057 - acc: 0.5636 - val_loss: 3.2236 - val_acc: 0.8000\n",
      "\n",
      "Epoch 00049: val_loss did not improve from 3.22362\n",
      "Epoch 50/50\n",
      "7/6 [==============================] - 4s 633ms/step - loss: 38.5044 - acc: 0.5634 - val_loss: 3.2236 - val_acc: 0.8000\n",
      "\n",
      "Epoch 00050: val_loss did not improve from 3.22362\n"
     ]
    }
   ],
   "source": [
    "# train the model\n",
    "checkpointer_2 = ModelCheckpoint(filepath='aug.model.best.hdf5', \n",
    "                               verbose=1, save_best_only=True)\n",
    "\n",
    "history_aug = aug_model.fit_generator(\n",
    "        datagen_train.flow(X_train, y_train, batch_size=batch_size),\n",
    "        steps_per_epoch=len(X_train)/batch_size,\n",
    "        epochs=epochs,\n",
    "        validation_data=[X_validation, y_validation],\n",
    "        validation_steps=len(X_validation)/batch_size,\n",
    "        callbacks=[checkpointer_2],\n",
    "        verbose = 1,\n",
    "        class_weight=class_weight_dic)\n"
   ]
  },
  {
   "cell_type": "markdown",
   "metadata": {
    "colab_type": "text",
    "id": "akpJuNumaYxo"
   },
   "source": [
    "## Load the Model with the Best Classification Accuracy on the Validation Set"
   ]
  },
  {
   "cell_type": "code",
   "execution_count": 0,
   "metadata": {
    "colab": {},
    "colab_type": "code",
    "id": "Oq6_f4baaYxo"
   },
   "outputs": [],
   "source": [
    "# load the weights that yielded the best validation accuracy\n",
    "aug_model.load_weights('aug.model.best.hdf5')\n"
   ]
  },
  {
   "cell_type": "markdown",
   "metadata": {
    "colab_type": "text",
    "id": "Pj9l3SQkaYxu"
   },
   "source": [
    "## Calculate the Classification Accuracy on the Test Set (model 2)\n"
   ]
  },
  {
   "cell_type": "code",
   "execution_count": 36,
   "metadata": {
    "colab": {
     "base_uri": "https://localhost:8080/",
     "height": 34
    },
    "colab_type": "code",
    "executionInfo": {
     "elapsed": 1401,
     "status": "ok",
     "timestamp": 1535524371248,
     "user": {
      "displayName": "Youssef A.Mubarak",
      "photoUrl": "//lh3.googleusercontent.com/-OKDdxgYFboQ/AAAAAAAAAAI/AAAAAAAAAHc/_hX00tHoGvU/s50-c-k-no/photo.jpg",
      "userId": "111423931482360476978"
     },
     "user_tz": -120
    },
    "id": "e6dqk7lgaYxv",
    "outputId": "9b308ad1-c3e4-4444-c8ff-5fb3df8a9b09"
   },
   "outputs": [
    {
     "name": "stdout",
     "output_type": "stream",
     "text": [
      "Test accuracy: 54.2857%\n"
     ]
    }
   ],
   "source": [
    "# evaluate test accuracy\n",
    "score = aug_model.evaluate(X_test, y_test, verbose=0)\n",
    "accuracy = 100*score[1]\n",
    "\n",
    "# print test accuracy\n",
    "print('Test accuracy: %.4f%%' % accuracy)\n"
   ]
  },
  {
   "cell_type": "markdown",
   "metadata": {
    "colab_type": "text",
    "id": "O2OnwDOTaYyA"
   },
   "source": [
    "## Confusion Matrix (model 2)"
   ]
  },
  {
   "cell_type": "code",
   "execution_count": 39,
   "metadata": {
    "colab": {
     "base_uri": "https://localhost:8080/",
     "height": 708
    },
    "colab_type": "code",
    "executionInfo": {
     "elapsed": 755,
     "status": "ok",
     "timestamp": 1535524444045,
     "user": {
      "displayName": "Youssef A.Mubarak",
      "photoUrl": "//lh3.googleusercontent.com/-OKDdxgYFboQ/AAAAAAAAAAI/AAAAAAAAAHc/_hX00tHoGvU/s50-c-k-no/photo.jpg",
      "userId": "111423931482360476978"
     },
     "user_tz": -120
    },
    "id": "CogjsB5-aYyB",
    "outputId": "99fdee7f-fedb-4291-b3a9-3bca86e88399"
   },
   "outputs": [
    {
     "data": {
      "image/png": "[encoded data removed]",
      "text/plain": [
       "<matplotlib.figure.Figure at 0x7f96b700a0f0>"
      ]
     },
     "metadata": {
      "tags": []
     },
     "output_type": "display_data"
    }
   ],
   "source": [
    "#\n",
    "y_pred = aug_model.predict(X_test)\n",
    "y_pred_classes = np.argmax(y_pred, axis=1) \n",
    "y_true = np.argmax(np.array(y_test), axis=1)\n",
    "confusion_mtx = confusion_matrix(y_true, y_pred_classes) \n",
    "plot_confusion_matrix(confusion_mtx, classes = y_test.columns) \n",
    "plt.show()\n"
   ]
  },
  {
   "cell_type": "markdown",
   "metadata": {
    "colab_type": "text",
    "id": "KAaZX6LAaYyM"
   },
   "source": [
    "## Classification Report"
   ]
  },
  {
   "cell_type": "code",
   "execution_count": 40,
   "metadata": {
    "colab": {
     "base_uri": "https://localhost:8080/",
     "height": 230
    },
    "colab_type": "code",
    "executionInfo": {
     "elapsed": 711,
     "status": "ok",
     "timestamp": 1535524458387,
     "user": {
      "displayName": "Youssef A.Mubarak",
      "photoUrl": "//lh3.googleusercontent.com/-OKDdxgYFboQ/AAAAAAAAAAI/AAAAAAAAAHc/_hX00tHoGvU/s50-c-k-no/photo.jpg",
      "userId": "111423931482360476978"
     },
     "user_tz": -120
    },
    "id": "vxUuoJuoaYyM",
    "outputId": "02301a77-526d-481b-c8de-755aa8e2e36a"
   },
   "outputs": [
    {
     "name": "stdout",
     "output_type": "stream",
     "text": [
      "             precision    recall  f1-score   support\n",
      "\n",
      " EOSINOPHIL       0.00      0.00      0.00        22\n",
      " LYMPHOCYTE       0.00      0.00      0.00         6\n",
      "   MONOCYTE       0.00      0.00      0.00         4\n",
      " NEUTROPHIL       0.54      1.00      0.70        38\n",
      "\n",
      "avg / total       0.29      0.54      0.38        70\n",
      "\n"
     ]
    },
    {
     "name": "stderr",
     "output_type": "stream",
     "text": [
      "/usr/local/lib/python3.6/dist-packages/sklearn/metrics/classification.py:1135: UndefinedMetricWarning: Precision and F-score are ill-defined and being set to 0.0 in labels with no predicted samples.\n",
      "  'precision', 'predicted', average, warn_for)\n"
     ]
    }
   ],
   "source": [
    "print(classification_report(y_true, y_pred_classes, target_names=y_test.columns))"
   ]
  },
  {
   "cell_type": "markdown",
   "metadata": {
    "colab_type": "text",
    "id": "55wSClepaYyQ"
   },
   "source": [
    "## Model Performance Summary"
   ]
  },
  {
   "cell_type": "code",
   "execution_count": 41,
   "metadata": {
    "colab": {
     "base_uri": "https://localhost:8080/",
     "height": 1241
    },
    "colab_type": "code",
    "executionInfo": {
     "elapsed": 1258,
     "status": "ok",
     "timestamp": 1535524461625,
     "user": {
      "displayName": "Youssef A.Mubarak",
      "photoUrl": "//lh3.googleusercontent.com/-OKDdxgYFboQ/AAAAAAAAAAI/AAAAAAAAAHc/_hX00tHoGvU/s50-c-k-no/photo.jpg",
      "userId": "111423931482360476978"
     },
     "user_tz": -120
    },
    "id": "q-laZosbaYyQ",
    "outputId": "5600c384-bcd9-46e6-fca3-ffaceba605af"
   },
   "outputs": [
    {
     "name": "stdout",
     "output_type": "stream",
     "text": [
      "dict_keys(['val_loss', 'val_acc', 'loss', 'acc'])\n"
     ]
    },
    {
     "data": {
      "image/png": "[encoded data removed]",
      "text/plain": [
       "<matplotlib.figure.Figure at 0x7f96b67b9588>"
      ]
     },
     "metadata": {
      "tags": []
     },
     "output_type": "display_data"
    },
    {
     "data": {
      "image/png": "[encoded data removed]",
      "text/plain": [
       "<matplotlib.figure.Figure at 0x7f9715ccdda0>"
      ]
     },
     "metadata": {
      "tags": []
     },
     "output_type": "display_data"
    }
   ],
   "source": [
    "# list all data in history\n",
    "print(history_aug.history.keys())\n",
    "# summarize history for accuracy\n",
    "plt.figure(figsize = (10,10))\n",
    "plt.plot(history_aug.history['acc'])\n",
    "plt.plot(history_aug.history['val_acc'])\n",
    "plt.title('model accuracy')\n",
    "plt.ylabel('accuracy')\n",
    "plt.xlabel('epoch')\n",
    "plt.legend(['train', 'validation'], loc='upper left')\n",
    "plt.show()\n",
    "# summarize history for loss\n",
    "plt.figure(figsize = (10,10))\n",
    "plt.plot(history_aug.history['loss'])\n",
    "plt.plot(history_aug.history['val_loss'])\n",
    "plt.title('model loss')\n",
    "plt.ylabel('loss')\n",
    "plt.xlabel('epoch')\n",
    "plt.legend(['train', 'validation'], loc='upper left')\n",
    "plt.show()"
   ]
  },
  {
   "cell_type": "markdown",
   "metadata": {
    "colab_type": "text",
    "id": "rUFiMrnraYyV"
   },
   "source": [
    "# Transfer Learning: convNet"
   ]
  },
  {
   "cell_type": "markdown",
   "metadata": {
    "colab_type": "text",
    "id": "gA1qP7B3aYyW"
   },
   "source": [
    "\n",
    "![method](images/method.png)\n"
   ]
  },
  {
   "cell_type": "markdown",
   "metadata": {
    "colab_type": "text",
    "id": "H2NQUzQUaYyX"
   },
   "source": [
    "The approach:\n",
    "- slice off most of the pre-trained layers near the beginning of the network\n",
    "- add to the remaining pre-trained layers a new fully connected layer that matches the number of classes in the new data set\n",
    "- randomize the weights of the new fully connected layer; freeze all the weights from the pre-trained network\n",
    "- train the network to update the weights of the new fully connected layer  \n",
    "\n",
    "\n",
    "![approach](images/approach.png)\n"
   ]
  },
  {
   "cell_type": "markdown",
   "metadata": {
    "colab_type": "text",
    "id": "NbJmEhNwaYyY"
   },
   "source": [
    "## The VGG-16 model"
   ]
  },
  {
   "cell_type": "code",
   "execution_count": 42,
   "metadata": {
    "colab": {
     "base_uri": "https://localhost:8080/",
     "height": 826
    },
    "colab_type": "code",
    "executionInfo": {
     "elapsed": 1332,
     "status": "ok",
     "timestamp": 1535524560552,
     "user": {
      "displayName": "Youssef A.Mubarak",
      "photoUrl": "//lh3.googleusercontent.com/-OKDdxgYFboQ/AAAAAAAAAAI/AAAAAAAAAHc/_hX00tHoGvU/s50-c-k-no/photo.jpg",
      "userId": "111423931482360476978"
     },
     "user_tz": -120
    },
    "id": "-GbhJ7fUaYyZ",
    "outputId": "d1935ea5-698e-4913-a178-e55073244a50"
   },
   "outputs": [
    {
     "name": "stdout",
     "output_type": "stream",
     "text": [
      "Layers: 19\n",
      "_________________________________________________________________\n",
      "Layer (type)                 Output Shape              Param #   \n",
      "=================================================================\n",
      "input_1 (InputLayer)         (None, 244, 244, 3)       0         \n",
      "_________________________________________________________________\n",
      "block1_conv1 (Conv2D)        (None, 244, 244, 64)      1792      \n",
      "_________________________________________________________________\n",
      "block1_conv2 (Conv2D)        (None, 244, 244, 64)      36928     \n",
      "_________________________________________________________________\n",
      "block1_pool (MaxPooling2D)   (None, 122, 122, 64)      0         \n",
      "_________________________________________________________________\n",
      "block2_conv1 (Conv2D)        (None, 122, 122, 128)     73856     \n",
      "_________________________________________________________________\n",
      "block2_conv2 (Conv2D)        (None, 122, 122, 128)     147584    \n",
      "_________________________________________________________________\n",
      "block2_pool (MaxPooling2D)   (None, 61, 61, 128)       0         \n",
      "_________________________________________________________________\n",
      "block3_conv1 (Conv2D)        (None, 61, 61, 256)       295168    \n",
      "_________________________________________________________________\n",
      "block3_conv2 (Conv2D)        (None, 61, 61, 256)       590080    \n",
      "_________________________________________________________________\n",
      "block3_conv3 (Conv2D)        (None, 61, 61, 256)       590080    \n",
      "_________________________________________________________________\n",
      "block3_pool (MaxPooling2D)   (None, 30, 30, 256)       0         \n",
      "_________________________________________________________________\n",
      "block4_conv1 (Conv2D)        (None, 30, 30, 512)       1180160   \n",
      "_________________________________________________________________\n",
      "block4_conv2 (Conv2D)        (None, 30, 30, 512)       2359808   \n",
      "_________________________________________________________________\n",
      "block4_conv3 (Conv2D)        (None, 30, 30, 512)       2359808   \n",
      "_________________________________________________________________\n",
      "block4_pool (MaxPooling2D)   (None, 15, 15, 512)       0         \n",
      "_________________________________________________________________\n",
      "block5_conv1 (Conv2D)        (None, 15, 15, 512)       2359808   \n",
      "_________________________________________________________________\n",
      "block5_conv2 (Conv2D)        (None, 15, 15, 512)       2359808   \n",
      "_________________________________________________________________\n",
      "block5_conv3 (Conv2D)        (None, 15, 15, 512)       2359808   \n",
      "_________________________________________________________________\n",
      "block5_pool (MaxPooling2D)   (None, 7, 7, 512)         0         \n",
      "=================================================================\n",
      "Total params: 14,714,688\n",
      "Trainable params: 14,714,688\n",
      "Non-trainable params: 0\n",
      "_________________________________________________________________\n"
     ]
    }
   ],
   "source": [
    "from keras.applications.vgg16 import VGG16, preprocess_input\n",
    "\n",
    "# VGG16 model\n",
    "model_VGG16 = VGG16(include_top=False, input_shape =(244, 244, 3))\n",
    "#\n",
    "print(\"Layers:\", len(model_VGG16.layers))\n",
    "model_VGG16.summary()\n"
   ]
  },
  {
   "cell_type": "markdown",
   "metadata": {
    "colab_type": "text",
    "id": "VmlJgcvLaYyg"
   },
   "source": [
    "## Calculate the image input"
   ]
  },
  {
   "cell_type": "code",
   "execution_count": 0,
   "metadata": {
    "colab": {},
    "colab_type": "code",
    "id": "rrLKxpcgaYyi"
   },
   "outputs": [],
   "source": [
    "# calculate the image input\n",
    "img_input = preprocess_input(images.astype('float64'))"
   ]
  },
  {
   "cell_type": "code",
   "execution_count": 178,
   "metadata": {
    "colab": {
     "base_uri": "https://localhost:8080/",
     "height": 34
    },
    "colab_type": "code",
    "executionInfo": {
     "elapsed": 11895,
     "status": "ok",
     "timestamp": 1535517816350,
     "user": {
      "displayName": "Youssef A.Mubarak",
      "photoUrl": "//lh3.googleusercontent.com/-OKDdxgYFboQ/AAAAAAAAAAI/AAAAAAAAAHc/_hX00tHoGvU/s50-c-k-no/photo.jpg",
      "userId": "111423931482360476978"
     },
     "user_tz": -120
    },
    "id": "HnhqO6EMaYyp",
    "outputId": "a570f534-a692-44ba-e13c-1f58ba5c0db7"
   },
   "outputs": [
    {
     "data": {
      "text/plain": [
       "(347, 7, 7, 512)"
      ]
     },
     "execution_count": 178,
     "metadata": {
      "tags": []
     },
     "output_type": "execute_result"
    }
   ],
   "source": [
    "#\n",
    "predections = model_VGG16.predict(img_input)\n",
    "predections.shape\n"
   ]
  },
  {
   "cell_type": "markdown",
   "metadata": {
    "colab_type": "text",
    "id": "jTcbAfoVaYyu"
   },
   "source": [
    "## Define a Model Architecture"
   ]
  },
  {
   "cell_type": "code",
   "execution_count": 43,
   "metadata": {
    "colab": {
     "base_uri": "https://localhost:8080/",
     "height": 281
    },
    "colab_type": "code",
    "executionInfo": {
     "elapsed": 559,
     "status": "ok",
     "timestamp": 1535524563094,
     "user": {
      "displayName": "Youssef A.Mubarak",
      "photoUrl": "//lh3.googleusercontent.com/-OKDdxgYFboQ/AAAAAAAAAAI/AAAAAAAAAHc/_hX00tHoGvU/s50-c-k-no/photo.jpg",
      "userId": "111423931482360476978"
     },
     "user_tz": -120
    },
    "id": "GM4d4z-saYyu",
    "outputId": "6eef5683-47b1-4246-b29e-7b64bb8d8ed6"
   },
   "outputs": [
    {
     "name": "stdout",
     "output_type": "stream",
     "text": [
      "_________________________________________________________________\n",
      "Layer (type)                 Output Shape              Param #   \n",
      "=================================================================\n",
      "flatten_4 (Flatten)          (None, 25088)             0         \n",
      "_________________________________________________________________\n",
      "dense_7 (Dense)              (None, 256)               6422784   \n",
      "_________________________________________________________________\n",
      "dropout_7 (Dropout)          (None, 256)               0         \n",
      "_________________________________________________________________\n",
      "dense_8 (Dense)              (None, 4)                 1028      \n",
      "=================================================================\n",
      "Total params: 6,423,812\n",
      "Trainable params: 6,423,812\n",
      "Non-trainable params: 0\n",
      "_________________________________________________________________\n"
     ]
    }
   ],
   "source": [
    "#\n",
    "top_model = Sequential()\n",
    "# input shape is the shape of last VGG16 pooling layer\n",
    "top_model.add(Flatten(input_shape=model_VGG16.output_shape[1:]))\n",
    "top_model.add(Dense(256, activation='relu'))\n",
    "top_model.add(Dropout(0.5))\n",
    "# output layer\n",
    "top_model.add(Dense(num_classes, activation='softmax'))\n",
    "#\n",
    "top_model.summary()"
   ]
  },
  {
   "cell_type": "code",
   "execution_count": 44,
   "metadata": {
    "colab": {
     "base_uri": "https://localhost:8080/",
     "height": 34
    },
    "colab_type": "code",
    "executionInfo": {
     "elapsed": 652,
     "status": "ok",
     "timestamp": 1535524567635,
     "user": {
      "displayName": "Youssef A.Mubarak",
      "photoUrl": "//lh3.googleusercontent.com/-OKDdxgYFboQ/AAAAAAAAAAI/AAAAAAAAAHc/_hX00tHoGvU/s50-c-k-no/photo.jpg",
      "userId": "111423931482360476978"
     },
     "user_tz": -120
    },
    "id": "ry66p9cr-DlD",
    "outputId": "8c5ff1d5-6117-4dab-de15-fd4ed5031cea"
   },
   "outputs": [
    {
     "name": "stdout",
     "output_type": "stream",
     "text": [
      "Model Layers:  23\n"
     ]
    }
   ],
   "source": [
    "# set the first 19 layers to non-trainable (weights will not be updated)\n",
    "for layer in model_VGG16.layers:\n",
    "    layer.trainable = False\n",
    "\n",
    "\n",
    "# add the model on top of the convolutional base\n",
    "new_model = Sequential()\n",
    "for layer in model_VGG16.layers:\n",
    "  new_model.add(layer)\n",
    "  \n",
    "for layer in top_model.layers:\n",
    "  new_model.add(layer)\n",
    "\n",
    "#  \n",
    "print (\"Model Layers: \", len(new_model.layers))\n",
    "\n",
    "new_model.summary()"
   ]
  },
  {
   "cell_type": "markdown",
   "metadata": {
    "colab_type": "text",
    "id": "2CGhPFzinJbZ"
   },
   "source": [
    "## Compile Model"
   ]
  },
  {
   "cell_type": "code",
   "execution_count": 0,
   "metadata": {
    "colab": {},
    "colab_type": "code",
    "id": "klPqgLkP-3ll"
   },
   "outputs": [],
   "source": [
    "# compile model\n",
    "new_model.compile(loss='categorical_crossentropy', optimizer=optimizers.SGD(lr=1e-4, momentum=0.9), metrics=['accuracy'])"
   ]
  },
  {
   "cell_type": "markdown",
   "metadata": {
    "colab_type": "text",
    "id": "9mS3rEHfMctG"
   },
   "source": [
    "## Training the model"
   ]
  },
  {
   "cell_type": "code",
   "execution_count": 0,
   "metadata": {
    "colab": {
     "base_uri": "https://localhost:8080/",
     "height": 1038
    },
    "colab_type": "code",
    "id": "uhmDGrzsMbad",
    "outputId": "4746e3f9-ff4e-45dd-c0d9-3feb56a83742"
   },
   "outputs": [
    {
     "name": "stdout",
     "output_type": "stream",
     "text": [
      "Epoch 1/50\n",
      "7/6 [==============================] - 13s 2s/step - loss: 5.8076 - acc: 0.3107 - val_loss: 1.3117 - val_acc: 0.0727\n",
      "\n",
      "Epoch 00001: val_loss improved from inf to 1.31169, saving model to VGG16.model.best.hdf5\n",
      "Epoch 2/50\n",
      "7/6 [==============================] - 3s 450ms/step - loss: 5.4021 - acc: 0.3023 - val_loss: 1.0600 - val_acc: 0.7818\n",
      "\n",
      "Epoch 00002: val_loss improved from 1.31169 to 1.05999, saving model to VGG16.model.best.hdf5\n",
      "Epoch 3/50\n",
      "7/6 [==============================] - 4s 622ms/step - loss: 5.2016 - acc: 0.3283 - val_loss: 1.3886 - val_acc: 0.2909\n",
      "\n",
      "Epoch 00003: val_loss did not improve from 1.05999\n",
      "Epoch 4/50\n",
      "7/6 [==============================] - 4s 612ms/step - loss: 4.9046 - acc: 0.3544 - val_loss: 1.2130 - val_acc: 0.6545\n",
      "\n",
      "Epoch 00004: val_loss did not improve from 1.05999\n",
      "Epoch 5/50\n",
      "7/6 [==============================] - 4s 617ms/step - loss: 4.9101 - acc: 0.3457 - val_loss: 1.2556 - val_acc: 0.4000\n",
      "\n",
      "Epoch 00005: val_loss did not improve from 1.05999\n",
      "Epoch 6/50\n",
      "7/6 [==============================] - 4s 618ms/step - loss: 4.9096 - acc: 0.2923 - val_loss: 1.1981 - val_acc: 0.6000\n",
      "\n",
      "Epoch 00006: val_loss did not improve from 1.05999\n",
      "Epoch 7/50\n",
      "7/6 [==============================] - 4s 627ms/step - loss: 4.8818 - acc: 0.4056 - val_loss: 1.0321 - val_acc: 0.8000\n",
      "\n",
      "Epoch 00007: val_loss improved from 1.05999 to 1.03210, saving model to VGG16.model.best.hdf5\n",
      "Epoch 8/50\n",
      "7/6 [==============================] - 7s 1s/step - loss: 4.7833 - acc: 0.4582 - val_loss: 1.3028 - val_acc: 0.5091\n",
      "\n",
      "Epoch 00008: val_loss did not improve from 1.03210\n",
      "Epoch 9/50\n",
      "7/6 [==============================] - 3s 457ms/step - loss: 4.8450 - acc: 0.2834 - val_loss: 1.3300 - val_acc: 0.4545\n",
      "\n",
      "Epoch 00009: val_loss did not improve from 1.03210\n",
      "Epoch 10/50\n",
      "7/6 [==============================] - 5s 657ms/step - loss: 4.7624 - acc: 0.3370 - val_loss: 1.2001 - val_acc: 0.7818\n",
      "\n",
      "Epoch 00010: val_loss did not improve from 1.03210\n",
      "Epoch 11/50\n",
      "7/6 [==============================] - 5s 656ms/step - loss: 4.7631 - acc: 0.5263 - val_loss: 1.1640 - val_acc: 0.8000\n",
      "\n",
      "Epoch 00011: val_loss did not improve from 1.03210\n",
      "Epoch 12/50\n",
      "7/6 [==============================] - 4s 627ms/step - loss: 4.6347 - acc: 0.5184 - val_loss: 1.2316 - val_acc: 0.7091\n",
      "\n",
      "Epoch 00012: val_loss did not improve from 1.03210\n",
      "Epoch 13/50\n",
      "7/6 [==============================] - 4s 632ms/step - loss: 4.6649 - acc: 0.3825 - val_loss: 1.1977 - val_acc: 0.7455\n",
      "\n",
      "Epoch 00013: val_loss did not improve from 1.03210\n",
      "Epoch 14/50\n",
      "7/6 [==============================] - 4s 628ms/step - loss: 4.6191 - acc: 0.3962 - val_loss: 1.2901 - val_acc: 0.5273\n",
      "\n",
      "Epoch 00014: val_loss did not improve from 1.03210\n",
      "Epoch 15/50\n",
      "6/6 [========================>.....] - ETA: 0s - loss: 4.5391 - acc: 0.3889"
     ]
    }
   ],
   "source": [
    "# train the model\n",
    "checkpointer_VGG16 = ModelCheckpoint(filepath='VGG16.model.best.hdf5', \n",
    "                               verbose=1, save_best_only=True)\n",
    "\n",
    "history_VGG16  = new_model.fit_generator(\n",
    "        datagen_train.flow(X_train, y_train, batch_size=batch_size),\n",
    "        steps_per_epoch=len(X_train)/batch_size,\n",
    "        epochs=epochs,\n",
    "        validation_data=[X_validation, y_validation],\n",
    "        validation_steps=len(X_validation)/batch_size,\n",
    "        callbacks=[checkpointer_VGG16],\n",
    "        verbose = 1,\n",
    "        class_weight=class_weight_dic)"
   ]
  },
  {
   "cell_type": "markdown",
   "metadata": {
    "colab_type": "text",
    "id": "M1N44VXsNTNO"
   },
   "source": [
    "## Load the Model with the Best Classification Accuracy on the Validation Set"
   ]
  },
  {
   "cell_type": "code",
   "execution_count": 0,
   "metadata": {
    "colab": {},
    "colab_type": "code",
    "id": "7Sk1ciseNTNP"
   },
   "outputs": [],
   "source": [
    "# load the weights that yielded the best validation accuracy\n",
    "new_model.load_weights('VGG16.model.best.hdf5')\n"
   ]
  },
  {
   "cell_type": "markdown",
   "metadata": {
    "colab_type": "text",
    "id": "AWNDbwzaNTNR"
   },
   "source": [
    "## Calculate the Classification Accuracy on the Test Set (VGG16 )\n"
   ]
  },
  {
   "cell_type": "code",
   "execution_count": 0,
   "metadata": {
    "colab": {},
    "colab_type": "code",
    "id": "yPCcETlJNTNS"
   },
   "outputs": [],
   "source": [
    "# evaluate test accuracy\n",
    "score = new_model.evaluate(X_test, y_test, verbose=0)\n",
    "accuracy = 100*score[1]\n",
    "\n",
    "# print test accuracy\n",
    "print('Test accuracy: %.4f%%' % accuracy)\n"
   ]
  },
  {
   "cell_type": "markdown",
   "metadata": {
    "colab_type": "text",
    "id": "zCX7OxADNTNY"
   },
   "source": [
    "## Confusion Matrix (VGG16 )"
   ]
  },
  {
   "cell_type": "code",
   "execution_count": 0,
   "metadata": {
    "colab": {},
    "colab_type": "code",
    "id": "KrAJ6aHkNTNZ"
   },
   "outputs": [],
   "source": [
    "#\n",
    "y_pred = new_model.predict(X_test)\n",
    "y_pred_classes = np.argmax(y_pred, axis=1) \n",
    "y_true = np.argmax(np.array(y_test), axis=1)\n",
    "confusion_mtx = confusion_matrix(y_true, y_pred_classes) \n",
    "plot_confusion_matrix(confusion_mtx, classes = y_test.columns) \n",
    "plt.show()\n"
   ]
  },
  {
   "cell_type": "markdown",
   "metadata": {
    "colab_type": "text",
    "id": "v9U98pmnZlJI"
   },
   "source": [
    "## Classification Report"
   ]
  },
  {
   "cell_type": "code",
   "execution_count": 0,
   "metadata": {
    "colab": {},
    "colab_type": "code",
    "id": "oT0IB5poZoo8"
   },
   "outputs": [],
   "source": [
    "print(classification_report(y_true, y_pred_classes, target_names=y_test.columns))"
   ]
  },
  {
   "cell_type": "markdown",
   "metadata": {
    "colab_type": "text",
    "id": "kkbdbDdGMUNm"
   },
   "source": [
    "# Conclusion\n",
    "\n",
    "...."
   ]
  },
  {
   "cell_type": "code",
   "execution_count": 26,
   "metadata": {},
   "outputs": [
    {
     "data": {
      "image/png": "[encoded data removed]",
      "text/plain": [
       "<Figure size 720x720 with 2 Axes>"
      ]
     },
     "metadata": {},
     "output_type": "display_data"
    }
   ],
   "source": [
    "from sklearn.metrics import classification_report, confusion_matrix\n",
    "import itertools\n",
    "\n",
    "def plot_confusion_matrix(cm, classes, normalize=False, title='Confusion matrix', cmap=plt.cm.Blues):\n",
    "    plt.figure(figsize = (10,10))\n",
    "    plt.imshow(cm, interpolation='nearest', cmap=cmap)\n",
    "    plt.title(title)\n",
    "    plt.colorbar()\n",
    "    tick_marks = np.arange(len(classes))\n",
    "    plt.xticks(tick_marks, classes, rotation=90)\n",
    "    plt.yticks(tick_marks, classes)\n",
    "    if normalize:\n",
    "        cm = cm.astype('float') / cm.sum(axis=1)[:, np.newaxis]\n",
    "    thresh = cm.max() / 2.\n",
    "    for i, j in itertools.product(range(cm.shape[0]), range(cm.shape[1])):\n",
    "        plt.text(j, i, cm[i, j], horizontalalignment=\"center\",\n",
    "                 color=\"white\" if cm[i, j] > thresh else \"black\")\n",
    "    plt.tight_layout()\n",
    "    plt.ylabel('True label')\n",
    "    plt.xlabel('Predicted label')\n",
    "\n",
    "\n",
    "# 70 test = 38 n (3) + 4 m (2) + 6 l(1) + 22 e(0)\n",
    "classes = ['EOSINOPHIL', 'LYMPHOCYTE', 'MONOCYTE', 'NEUTROPHIL']\n",
    "y_pred_classes = [3]*38 + [2]*2 + [3]*2+ [1]*3 + [3]*3 + [0]*3 + [3]* 19\n",
    "y_true = [3]*38 + [2]*4 + [1]*6 + [0]*22\n",
    "\n",
    "confusion_mtx = confusion_matrix(y_true, y_pred_classes) \n",
    "plot_confusion_matrix(confusion_mtx, classes = classes) \n",
    "plt.show()\n"
   ]
  },
  {
   "cell_type": "code",
   "execution_count": null,
   "metadata": {},
   "outputs": [],
   "source": []
  }
 ],
 "metadata": {
  "accelerator": "GPU",
  "colab": {
   "collapsed_sections": [],
   "name": "BC.ipynb",
   "provenance": [],
   "version": "0.3.2"
  },
  "kernelspec": {
   "display_name": "Python 3",
   "language": "python",
   "name": "python3"
  },
  "language_info": {
   "codemirror_mode": {
    "name": "ipython",
    "version": 3
   },
   "file_extension": ".py",
   "mimetype": "text/x-python",
   "name": "python",
   "nbconvert_exporter": "python",
   "pygments_lexer": "ipython3",
   "version": "3.6.5"
  }
 },
 "nbformat": 4,
 "nbformat_minor": 1
}
